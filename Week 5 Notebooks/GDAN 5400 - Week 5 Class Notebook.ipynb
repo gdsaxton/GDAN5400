{
 "cells": [
  {
   "cell_type": "markdown",
   "id": "364b4e9f",
   "metadata": {},
   "source": [
    "<p><a href=\"https://colab.research.google.com/github/gdsaxton/GDAN5400/blob/main/Week%205%20Notebooks/GDAN%205400%20-%20Week%205%20Class%20Notebook.ipynb\"><img src=\"https://colab.research.google.com/assets/colab-badge.svg\" alt=\"Open In Colab\" /></a></p>"
   ]
  },
  {
   "cell_type": "markdown",
   "id": "b1807af3",
   "metadata": {},
   "source": [
    "# Week 5: Introduction to Univariate Statistics & Visualization in Python\n",
    "- Lesson Objectives – By the end of this session, students will:\n",
    "  - Understand the concept and application of key univariate statistics (mean, median, mode, variance, standard deviation).\n",
    "  - Understand the purpose and importance of data visualization in analytics.\n",
    "  - Learn how to use Matplotlib and Seaborn to create meaningful visualizations.\n",
    "  - Apply various types of plots (e.g., histograms, boxplots, bar charts, count plots, pie graphs).\n",
    "  - Visualize distributions using histograms and overlay trend curves to identify patterns.\n",
    "  - Practice customizing visualizations for clarity and insight.\n",
    "\n",
    "---"
   ]
  },
  {
   "cell_type": "markdown",
   "id": "00f570d3",
   "metadata": {},
   "source": [
    "## **Dataset**\n",
    "We will use the following accounting-specific dataset, created for this session. This dataset simulates financial transactions for 20 clients. It includes details like transaction amounts, client industries, invoice status, and payment delays."
   ]
  },
  {
   "cell_type": "code",
   "execution_count": null,
   "id": "c6cf008b",
   "metadata": {},
   "outputs": [],
   "source": [
    "import pandas as pd\n",
    "\n",
    "# Create test dataset\n",
    "data = {\n",
    "    'Client_ID': range(1, 21),\n",
    "    'Industry': ['Retail', 'Manufacturing', 'Tech', 'Finance'] * 5,\n",
    "    'Transaction_Amount': [1500, 2000, 3500, 4000, 4500, 800, 1200, 3000, 700, 2200,\n",
    "                           1800, 2500, 4000, 3700, 3200, 500, 2100, 2900, 3600, 3300],\n",
    "    'Invoice_Status': ['Paid', 'Unpaid', 'Paid', 'Unpaid', 'Paid'] * 4,\n",
    "    'Payment_Delay_Days': [0, 15, 0, 30, 0, 45, 60, 0, 10, 0, 20, 0, 5, 25, 0, 35, 50, 0, 40, 0],\n",
    "    'Zip_Code': [10001, 10002, 10003, 10004, 10005] * 4,\n",
    "    'Region': ['North', 'East', 'West', 'South', 'Central'] * 4,\n",
    "    'Currency': ['USD'] * 20,\n",
    "    'Transaction_Date': pd.date_range(start='2023-01-01', periods=20).astype(str),\n",
    "    'Tax_Percentage': [5, 8, 10, 7, 6, 4, 5, 9, 6, 7, 5, 10, 8, 7, 6, 9, 4, 7, 5, 6]\n",
    "}\n",
    "# I am converting `Transaction_Date` to `str` format in the following code block so that we can convert it to `datetime`\n",
    "\n",
    "df = pd.DataFrame(data)\n",
    "df"
   ]
  },
  {
   "cell_type": "markdown",
   "id": "2e9478b1",
   "metadata": {},
   "source": [
    "### Warm-Up – Small-Group Coding Challenge #1\n",
    "\n",
    "  - Define and use a function to convert Celsius to Fahrenheit \n",
    "  - Add 32 to the temperature in Celsius*(9/5)"
   ]
  },
  {
   "cell_type": "code",
   "execution_count": null,
   "id": "29e185df",
   "metadata": {},
   "outputs": [],
   "source": [
    "#Fill in the ellipses (...) here with the elements of the function\n",
    "def ...:\n",
    "    return ..."
   ]
  },
  {
   "cell_type": "code",
   "execution_count": null,
   "id": "077497fc",
   "metadata": {},
   "outputs": [],
   "source": [
    "#Apply the function to convert 25 degrees Celsius to Fahrenheit (fill in the ellipses)\n",
    "...(...)"
   ]
  },
  {
   "cell_type": "markdown",
   "id": "fc14fb8f",
   "metadata": {},
   "source": [
    "# Intro to Univariate Statistics in Data Analytics\n",
    "\n",
    "\n",
    "\n",
    "### Category 1. Identifying Central Tendencies\n",
    "Univariate statistics help pinpoint the **\"center\" of a dataset** using measures like:\n",
    "- **Mean (Average)** – The arithmetic average of all values.\n",
    "- **Median** – The middle value, which is useful for skewed data.\n",
    "- **Mode** – The most frequently occurring value.\n",
    "\n",
    "For example, in an **insurance claims dataset**, knowing the **median claim amount** helps companies set expectations for typical payouts.\n",
    "\n",
    "### Category 2. Measuring Variability\n",
    "Understanding how **spread out** data is can reveal patterns or inconsistencies:\n",
    "- **Minimum & Maximum** – The smallest and largest values, helping to spot outliers.\n",
    "- **Range** – The difference between max and min values, showing data dispersion.\n",
    "- **Variance & Standard Deviation** – Indicate how much individual values deviate from the mean.\n",
    "\n",
    "For instance, an **insurance company** may analyze the **standard deviation of repair costs** to assess risk and pricing strategies.\n",
    "\n",
    "---\n",
    "\n",
    "###  Summary of Different Univariate Statistics Using `Transaction_Amount` \n",
    "\n",
    "Let's analyze `Transaction_Amount` using different univariate statistics."
   ]
  },
  {
   "cell_type": "code",
   "execution_count": null,
   "id": "f50d0453",
   "metadata": {},
   "outputs": [],
   "source": [
    "# Calculate basic statistics for Transaction_Amount\n",
    "mean_value = df['Transaction_Amount'].mean()\n",
    "median_value = df['Transaction_Amount'].median()\n",
    "mode_value = df['Transaction_Amount'].mode()[0]\n",
    "std_dev = df['Transaction_Amount'].std()\n",
    "variance = df['Transaction_Amount'].var()\n",
    "\n",
    "print(f\"Mean: ${mean_value:.2f}\")\n",
    "print(f\"Median: ${median_value:.2f}\")\n",
    "print(f\"Mode: ${mode_value}\")\n",
    "print(f\"Standard Deviation: ${std_dev:.2f}\")\n",
    "print(f\"Variance: ${variance:.2f}\")"
   ]
  },
  {
   "cell_type": "markdown",
   "id": "44589730",
   "metadata": {},
   "source": [
    "###  Summary of Different Univariate Statistics Using `Transaction_Amount` \n",
    "\n",
    "| **Statistic**  | **Definition** | **Use in Accounting & Analytics** |\n",
    "|---------------|---------------|------------------------------------|\n",
    "| **Mean (Average)** | The sum of all values divided by the count. | Helps calculate the **average transaction size** for businesses to assess revenue trends. |\n",
    "| **Median** | The middle value when data is sorted. | Useful for **skewed distributions**, such as analyzing **typical customer purchases**. |\n",
    "| **Mode** | The most frequently occurring value. | Identifies the **most common transaction amount**, helping businesses understand standard pricing or common purchase sizes. |\n",
    "| **Minimum (Min)** | The smallest value in the dataset. | Useful for detecting **small or micro-transactions** that might indicate discounts or rounding adjustments. |\n",
    "| **Maximum (Max)** | The largest value in the dataset. | Helps flag **exceptionally large transactions**, which could indicate bulk purchases or financial fraud. |\n",
    "| **Range** | Difference between max and min values. | Shows the **spread of transaction amounts**, helping identify customer segmentation. |\n",
    "| **Variance** | The average squared deviation from the mean. | Helps quantify **fluctuations in transaction sizes**, useful for risk assessment in financial planning. |\n",
    "| **Standard Deviation (Std Dev)** | The square root of variance, measuring spread. | Important for **measuring transaction volatility**, such as identifying high-risk clients or market trends. |\n",
    "\n",
    "---\n"
   ]
  },
  {
   "cell_type": "markdown",
   "id": "c3494af2",
   "metadata": {},
   "source": [
    "# Levels of Analysis and `groupby()`\n",
    "As a review of `groupby()`, let's aggregate our *transaction-level* dataframe up to the `Industry` level.\n",
    "\n",
    "Returns a `Series`, not a `DataFrame`."
   ]
  },
  {
   "cell_type": "code",
   "execution_count": null,
   "id": "b6f2adcf",
   "metadata": {},
   "outputs": [],
   "source": [
    "mean_sales_by_industry = df.groupby('Industry')['Transaction_Amount'].mean()\n",
    "mean_sales_by_industry"
   ]
  },
  {
   "cell_type": "markdown",
   "id": "4eb28a1c",
   "metadata": {},
   "source": [
    "If you need a DataFrame, you can convert it with `.to_frame()`:"
   ]
  },
  {
   "cell_type": "code",
   "execution_count": null,
   "id": "df490f9f",
   "metadata": {},
   "outputs": [],
   "source": [
    "mean_sales_by_industry = mean_sales_by_industry.to_frame()\n",
    "mean_sales_by_industry"
   ]
  },
  {
   "cell_type": "markdown",
   "id": "8414d8e6",
   "metadata": {},
   "source": [
    "The following code returns a `DataFrame` because `.groupby().mean()` is applied to a subset of df that includes both `Industry` and `Transaction_Amount`.\n",
    "\n",
    "The result will have `Industry` as the index and `Transaction_Amount` as a column."
   ]
  },
  {
   "cell_type": "code",
   "execution_count": null,
   "id": "d1b9fdca",
   "metadata": {},
   "outputs": [],
   "source": [
    "mean_sales_by_industry = df[['Industry', 'Transaction_Amount']].groupby('Industry').mean()\n",
    "mean_sales_by_industry"
   ]
  },
  {
   "cell_type": "markdown",
   "id": "66bd2c50",
   "metadata": {},
   "source": [
    "This approach is useful if you want to aggregate multiple columns of our data."
   ]
  },
  {
   "cell_type": "code",
   "execution_count": null,
   "id": "6bc099a0",
   "metadata": {},
   "outputs": [],
   "source": [
    "industry_means = df[['Industry', 'Transaction_Amount', 'Payment_Delay_Days', 'Tax_Percentage']].groupby('Industry').mean()\n",
    "industry_means"
   ]
  },
  {
   "cell_type": "markdown",
   "id": "02c49b43",
   "metadata": {},
   "source": [
    "#### Key Takeaway:\n",
    "- Use the first approach if you're working with just one column and are fine with a `Series` (or convert it to a `DataFrame` if needed).\n",
    "- Use the second approach if you want the result as a `DataFrame` and might include multiple numeric columns."
   ]
  },
  {
   "cell_type": "markdown",
   "id": "69df1d1d",
   "metadata": {},
   "source": [
    "### Small-Group Coding Challenge #2\n",
    "\n",
    "- Aggregate `Transaction_Amount` by `Region` and calculate the average for each region.\n",
    "- Save the results in a series called `avg_amount_by_region`\n",
    "- Bonus: sort the series in descending order."
   ]
  },
  {
   "cell_type": "code",
   "execution_count": null,
   "id": "895cb503",
   "metadata": {},
   "outputs": [],
   "source": [
    "avg_amount_by_region = ..."
   ]
  },
  {
   "cell_type": "markdown",
   "id": "dd41aa6e",
   "metadata": {},
   "source": [
    "Now we can do the same thing for other aggregation functions:\n",
    "\n",
    "### **Popular `groupby()` Functions in Pandas**\n",
    "\n",
    "- **`.count()`** – Counts the number of non-null values in each group.\n",
    "- **`.sum()`** – Computes the sum of values for each group.\n",
    "- **`.mean()`** – Calculates the average value for each group.\n",
    "- **`.median()`** – Finds the median (middle) value in each group.\n",
    "- **`.min()`** – Returns the smallest value in each group.\n",
    "- **`.max()`** – Returns the largest value in each group.\n",
    "- **`.std()`** – Computes the standard deviation for each group.\n",
    "- **`.var()`** – Calculates the variance for each group.\n",
    "- **`.agg()`** – Allows multiple aggregation functions at once.\n",
    "- **`.size()`** – Returns the size (number of rows) in each group, including nulls.\n",
    "- **`.first()`** – Returns the first value in each group.\n",
    "- **`.last()`** – Returns the last value in each group.\n",
    "- **`.nunique()`** – Counts the number of unique values in each group.\n",
    "- **`.apply()`** – Applies a custom function to each group.\n"
   ]
  },
  {
   "cell_type": "code",
   "execution_count": null,
   "id": "fa10fa08",
   "metadata": {},
   "outputs": [],
   "source": []
  },
  {
   "cell_type": "code",
   "execution_count": null,
   "id": "cada6099",
   "metadata": {},
   "outputs": [],
   "source": []
  },
  {
   "cell_type": "markdown",
   "id": "80987ad3",
   "metadata": {},
   "source": [
    "<br>Here is an example using `agg()`, which is slightly more complicated. "
   ]
  },
  {
   "cell_type": "code",
   "execution_count": null,
   "id": "4b36dc5f",
   "metadata": {},
   "outputs": [],
   "source": [
    "df.groupby('Industry').agg({'Transaction_Amount': 'sum', 'Payment_Delay_Days': 'mean'})"
   ]
  },
  {
   "cell_type": "markdown",
   "id": "625269e7",
   "metadata": {},
   "source": [
    "<br>To rename the columns you have two main options\n",
    "\n",
    "**Option 1**: Create dataframe then rename columns"
   ]
  },
  {
   "cell_type": "code",
   "execution_count": null,
   "id": "e1ef291d",
   "metadata": {},
   "outputs": [],
   "source": [
    "df_grouped = df.groupby('Industry').agg({'Transaction_Amount': 'sum', 'Payment_Delay_Days': 'mean'})\n",
    "df_grouped.columns = ['Total_Transaction_Amount', 'Avg_Payment_Delay']\n",
    "df_grouped"
   ]
  },
  {
   "cell_type": "markdown",
   "id": "ff4cfa87",
   "metadata": {},
   "source": [
    "\n",
    "**Option 2**: Use `method chaining`"
   ]
  },
  {
   "cell_type": "code",
   "execution_count": null,
   "id": "bb4bf9cc",
   "metadata": {},
   "outputs": [],
   "source": [
    "df_grouped = df.groupby('Industry').agg({'Transaction_Amount': 'sum', 'Payment_Delay_Days': 'mean'}).rename(columns={'Transaction_Amount': 'Total_Transaction_Amount', 'Payment_Delay_Days': 'Avg_Payment_Delay'})\n",
    "df_grouped"
   ]
  },
  {
   "cell_type": "markdown",
   "id": "829dd822",
   "metadata": {},
   "source": [
    "#### What is Method Chaining?\n",
    "- It allows you to apply multiple operations sequentially on a DataFrame without creating intermediate variables.\n",
    "- Each method returns a new DataFrame, which is immediately passed to the next method.\n",
    "- It improves readability and keeps code concise.\n",
    "\n",
    "---\n",
    "\n",
    "#### ✅ **When to Use Method Chaining**\n",
    "- ✔ When applying **multiple transformations** step by step.\n",
    "- ✔ When avoiding **temporary DataFrame assignments**.\n",
    "- ✔ When **readability** is a priority (but keep it short to avoid complexity).\n",
    "- ✔ When working with **data cleaning and transformation pipelines**.\n",
    "\n",
    "---\n",
    "\n",
    "#### ❌ **When to Avoid Method Chaining**\n",
    "- ❌ When **debugging complex operations** (it's harder to inspect intermediate results).\n",
    "- ❌ When the **pipeline becomes too long** (consider breaking into logical steps).\n",
    "- ❌ When methods depend on **sequential logic** that needs manual intervention.\n",
    "- ❌ When chaining reduces **code clarity**, making it difficult for others to understand.\n"
   ]
  },
  {
   "cell_type": "markdown",
   "id": "e391d7ce",
   "metadata": {},
   "source": [
    "# Data Visualization"
   ]
  },
  {
   "cell_type": "markdown",
   "id": "41e464cc",
   "metadata": {},
   "source": [
    "### Setting up Environment for Plotting"
   ]
  },
  {
   "cell_type": "code",
   "execution_count": null,
   "id": "af8d66fb",
   "metadata": {},
   "outputs": [],
   "source": [
    "# Import plotting libraries\n",
    "import matplotlib.pyplot as plt\n",
    "import seaborn as sns\n",
    "\n",
    "# Set a consistent style for the plots\n",
    "sns.set(style=\"whitegrid\")"
   ]
  },
  {
   "cell_type": "markdown",
   "id": "a7f97c2c",
   "metadata": {},
   "source": [
    "# Histogram\n",
    "Let's explore plotting in Matplotlib & Seaborn by first generating the histogram without any customization and then refining the figure. "
   ]
  },
  {
   "cell_type": "code",
   "execution_count": null,
   "id": "f708ecf9",
   "metadata": {},
   "outputs": [],
   "source": [
    "sns.histplot(df['Transaction_Amount'])"
   ]
  },
  {
   "cell_type": "markdown",
   "id": "4da2d34a",
   "metadata": {},
   "source": [
    "## **Explanation of Matplotlib Styling Options**\n",
    "\n",
    "When creating visualizations with Matplotlib, you can customize such elements as **figure size**, **titles**, **axis labels**, and **padding** to improve readability and presentation. Below is an explanation of some key options we will use in the code:\n",
    "\n",
    "---\n",
    "\n",
    "### Change Figure Size\n",
    "We will add this line to our code block: `plt.figure(figsize=(8, 5))`\n",
    "- **What it does**: Sets the **size of the figure** (width, height) in inches.\n",
    "- **Why it's useful**: Ensures that plots are large enough for readability and professional presentation.\n",
    "\n",
    "**Example:**\n",
    "```python\n",
    "plt.figure(figsize=(10, 6))  # Creates a wider figure\n"
   ]
  },
  {
   "cell_type": "code",
   "execution_count": null,
   "id": "695a91a0",
   "metadata": {},
   "outputs": [],
   "source": [
    "plt.figure(figsize=(8, 5))\n",
    "sns.histplot(df['Transaction_Amount'])"
   ]
  },
  {
   "cell_type": "markdown",
   "id": "c91a6b66",
   "metadata": {},
   "source": [
    "### Add a Title \n",
    "We will add this line to our code block: `plt.title(\"Distribution of Transaction Amounts\", fontsize=14, pad=20)`\n",
    "- **What it does**: Adds a **title** to the plot.\n",
    "- **Parameters**:\n",
    "  - `fontsize=14` → Sets the font size of the title.\n",
    "  - `pad=20` → Adds **extra spacing (padding)** between the title and the plot.\n",
    "\n",
    "**Why it's useful**:\n",
    "- Improves **clarity** and makes the visualization **easier to interpret**.\n",
    "- The `pad` parameter prevents the title from being too close to the plot."
   ]
  },
  {
   "cell_type": "code",
   "execution_count": null,
   "id": "ab9e0277",
   "metadata": {},
   "outputs": [],
   "source": [
    "plt.figure(figsize=(8, 5))\n",
    "sns.histplot(df['Transaction_Amount'])\n",
    "plt.title(\"Distribution of Transaction Amounts\", fontsize=14, pad=20)"
   ]
  },
  {
   "cell_type": "markdown",
   "id": "c4df069f",
   "metadata": {},
   "source": [
    "### Add x-axis label\n",
    "We will add this line to our code block: `plt.xlabel(\"Transaction Amount ($)\", fontsize=12, labelpad=15)`\n",
    "- **What it does**: Labels the **x-axis**.\n",
    "- **Parameters**:\n",
    "  - `fontsize=12` → Sets the font size for the x-axis label.\n",
    "  - `labelpad=15` → Adds **extra space** between the label and the axis.\n",
    "\n",
    "**Why it's useful**:\n",
    "- Makes axis labels **clearer** and prevents overlapping with tick marks.\n",
    "- Helps viewers understand the meaning of the horizontal axis."
   ]
  },
  {
   "cell_type": "code",
   "execution_count": null,
   "id": "67f9bddb",
   "metadata": {},
   "outputs": [],
   "source": [
    "plt.figure(figsize=(8, 5))\n",
    "sns.histplot(df['Transaction_Amount'])\n",
    "plt.title(\"Distribution of Transaction Amounts\", fontsize=14, pad=20)\n",
    "plt.xlabel(\"Transaction Amount ($)\", fontsize=12, labelpad=15)"
   ]
  },
  {
   "cell_type": "markdown",
   "id": "58aa072e",
   "metadata": {},
   "source": [
    "### Add y-axis label \n",
    "We will add this line to our code block: `plt.ylabel(\"Frequency\", fontsize=12, labelpad=15)`\n",
    "- **What it does**: Labels the **y-axis**.\n",
    "- **Parameters**:\n",
    "  - `fontsize=12` → Sets the font size for the y-axis label.\n",
    "  - `labelpad=15` → Adds **extra space** between the label and the axis.\n",
    "\n",
    "**Why it's useful**:\n",
    "- Enhances readability by ensuring the label is not too close to the axis.\n",
    "- Clearly indicates what the y-axis represents in the visualization."
   ]
  },
  {
   "cell_type": "code",
   "execution_count": null,
   "id": "1830c47d",
   "metadata": {},
   "outputs": [],
   "source": [
    "plt.figure(figsize=(8, 5))\n",
    "sns.histplot(df['Transaction_Amount'])\n",
    "plt.title(\"Distribution of Transaction Amounts\", fontsize=14, pad=20)\n",
    "plt.xlabel(\"Transaction Amount ($)\", fontsize=12, labelpad=15)\n",
    "plt.ylabel(\"Frequency\", fontsize=12, labelpad=15)"
   ]
  },
  {
   "cell_type": "markdown",
   "id": "ced5ab30",
   "metadata": {},
   "source": [
    "### Add `plt.show()`\n",
    "- **What it does**: Displays the plot in an interactive environment (e.g., Jupyter Notebook, Colab, or Python script).\n",
    "- **How it works**:\n",
    "  - Ensures the figure is rendered properly when multiple plots exist in a script.\n",
    "  - Prevents unnecessary outputs when running a visualization cell.\n",
    "\n",
    "**Why it's useful**:\n",
    "- Essential in **Jupyter Notebooks** and **Google Colab** to ensure only the final figure is displayed.\n",
    "- Helps in debugging by separating multiple plot outputs."
   ]
  },
  {
   "cell_type": "code",
   "execution_count": null,
   "id": "71d96cdd",
   "metadata": {},
   "outputs": [],
   "source": [
    "plt.figure(figsize=(8, 5))\n",
    "sns.histplot(df['Transaction_Amount'])\n",
    "plt.title(\"Distribution of Transaction Amounts\", fontsize=14, pad=20)\n",
    "plt.xlabel(\"Transaction Amount ($)\", fontsize=12, labelpad=15)\n",
    "plt.ylabel(\"Frequency\", fontsize=12, labelpad=15)\n",
    "plt.show()"
   ]
  },
  {
   "cell_type": "markdown",
   "id": "045da748",
   "metadata": {},
   "source": [
    "### **Summary Table: Explanation of Common `matplotlib` Customization Options**\n",
    "\n",
    "| **Option** | **What it Does** | **Key Parameters** | **Why It's Useful** |\n",
    "|------------|-----------------|--------------------|----------------------|\n",
    "| `plt.figure(figsize=(8, 5))` | Sets the figure size. | `figsize=(width, height)` | Adjusts the **plot dimensions** for better readability. |\n",
    "| `plt.title(\"Title\", fontsize=14, pad=20)` | Adds a title to the plot. | `fontsize`, `pad` | Makes the plot **more informative**, and `pad` prevents overlap. |\n",
    "| `plt.xlabel(\"X-Axis Label\", fontsize=12, labelpad=15)` | Labels the x-axis. | `fontsize`, `labelpad` | Ensures the x-axis is **clearly labeled** and spaced properly. |\n",
    "| `plt.ylabel(\"Y-Axis Label\", fontsize=12, labelpad=15)` | Labels the y-axis. | `fontsize`, `labelpad` | Helps interpret the **y-axis meaning** clearly. |\n",
    "| `plt.show()` | Displays the plot. | None | **Ensures proper rendering** of the visualization, especially in notebooks. |\n",
    "\n"
   ]
  },
  {
   "cell_type": "markdown",
   "id": "520c32a4",
   "metadata": {},
   "source": [
    "### Next, we will change some options specifically for histograms\n",
    "\n",
    "Specifically, we will set the number of 'bins' (bars) we want to see, add a kernel density (kde) line, change the color of the bars, and add an outline around the edges of the bars:\n",
    "\n",
    "```python\n",
    "bins=10, kde=True, color='blue', edgecolor='black')\n",
    "```\n",
    "\n",
    "---\n",
    "\n",
    "### Side Note: What is the KDE Line in `sns.histplot()`?\n",
    "\n",
    "Only read if you are interested in learning the technical details of the KDE line. \n",
    "\n",
    "In **Seaborn's** `sns.histplot()`, the `kde=True` parameter adds a **Kernel Density Estimate (KDE) line** over the histogram. \n",
    "\n",
    "#### **📌 What is KDE?**\n",
    "- **KDE (Kernel Density Estimation)** is a way to **smoothly estimate** the probability density function (PDF) of a dataset.\n",
    "- Instead of plotting discrete bins like a histogram, KDE **infers a continuous distribution** based on the data.\n",
    "\n",
    "#### **🔹 How the KDE Line Works**\n",
    "- Each data point is **represented as a smooth curve**.\n",
    "- These curves are summed to produce a **smooth probability density function (PDF)**.\n",
    "- The height of the KDE curve represents the **relative likelihood** of different values.\n",
    "\n",
    "#### What is a Probability Density Function (PDF)?\n",
    "\n",
    "A *Probability Density Function (PDF)* describes the **relative likelihood** of a continuous random variable taking on a particular value. \n",
    "\n",
    "#### **🔹 Key Properties of a PDF**\n",
    "1. **Non-negative**: The PDF is always **≥ 0**.\n",
    "2. **Total Area = 1**: The area under the curve **integrates to 1**, ensuring it represents a valid probability distribution.\n",
    "3. **Represents Density, Not Probability**: The **height of the PDF is not the probability** of a specific value but rather the **density of probability** around that value. In other words, a PDF describes the *density* of probability at each point, but *it does not give the probability of a single value*.\n",
    "\n",
    "\n",
    "#### **🔹 What Does the PDF Height Represent?**\n",
    "- The **height** of the PDF at a point **does not** give the probability of that exact value.\n",
    "- Instead, it tells us the **relative likelihood** of values **near** that point.\n",
    "- To find an actual probability, you must **integrate over an interval** (i.e., find the area under the curve between two values).\n",
    "\n",
    "🚀 **Think of a PDF as a \"smoothed-out histogram\"—the area under the curve, not the height, gives actual probabilities!**\n",
    "\n",
    "\n",
    "#### **🔹 Why Use a PDF?**\n",
    "✅ **Smooth representation of a distribution** (unlike histograms, which depend on binning).  \n",
    "✅ **Allows probability calculations** for intervals (e.g., \"What is the probability that \\( X \\) falls between 2 and 3?\").  \n",
    "\n",
    "#### **🔹 Correct Way to Use a PDF**\n",
    "\n",
    "✅ **Find the probability of a range**:  \n",
    "   \n",
    "✅ **Compare relative likelihoods**: A higher PDF value at \\(X = 170\\) means values near 170 are more common than values near 140.\n",
    "\n",
    "\n",
    "#### 🔹 Why is the PDF Height *Not* the Probability of a Specific Value?\n",
    "**📌 Key Idea**: Continuous Distributions\n",
    "- In a **discrete** distribution (e.g., rolling a die), you can directly calculate probabilities for specific values:  \n",
    "  **P(X = 3)** means \"What is the probability of rolling a 3?\"\n",
    "- In a **continuous** distribution (e.g., height of people, stock prices), the probability of any single value is **zero**:\n",
    "  \\[\n",
    "  P(X = a) = 0\n",
    "  \\]\n",
    "  because there are infinitely many possible values.\n",
    "  \n",
    "🚀 **A PDF gives a complete picture of how a continuous variable is distributed!**  "
   ]
  },
  {
   "cell_type": "code",
   "execution_count": null,
   "id": "2258010f",
   "metadata": {},
   "outputs": [],
   "source": [
    "plt.figure(figsize=(8, 5))\n",
    "sns.histplot(df['Transaction_Amount'], bins=10, kde=True, color='blue', edgecolor='black')\n",
    "plt.title(\"Distribution of Transaction Amounts\", fontsize=14, pad=20)\n",
    "plt.xlabel(\"Transaction Amount ($)\", fontsize=12, labelpad=15)\n",
    "plt.ylabel(\"Frequency\", fontsize=12, labelpad=15)\n",
    "plt.show()"
   ]
  },
  {
   "cell_type": "markdown",
   "id": "89dfb005",
   "metadata": {},
   "source": [
    "### **Explanation of Common Seaborn & Matplotlib Histogram Options**\n",
    "\n",
    "| **Option** | **What it Does** | **Key Parameters** | **Why It's Useful** |\n",
    "|------------|-----------------|--------------------|----------------------|\n",
    "| `bins=10` | Divides the data into **10 equal intervals (bins)**. | Integer value (e.g., `bins=20` for finer granularity). | Controls **histogram granularity**, affecting **level of detail**. |\n",
    "| `kde=True` | Adds a **Kernel Density Estimate (KDE)** curve over the histogram. | `True` or `False` | Helps visualize the **distribution trend** smoothly. |\n",
    "| `color='blue'` | Sets the **bar color** of the histogram. | Any valid color name or hex code (e.g., `color='red'`). | Enhances **aesthetic appeal** and **distinguishes categories**. |\n",
    "| `edgecolor='black'` | Adds **black borders** around each histogram bar. | Any valid color (e.g., `edgecolor='gray'`). | Improves **bar visibility** and separation. |\n",
    "\n"
   ]
  },
  {
   "cell_type": "markdown",
   "id": "951734e6",
   "metadata": {},
   "source": [
    "# Box Plots\n",
    "Suitable for interval/ratio variables\n",
    "\n",
    "A **boxplot** (also called a **box-and-whisker plot**) is a statistical visualization that summarizes the distribution of a dataset. It provides key insights into **central tendency, variability, and outliers** by displaying five main summary statistics:\n",
    "\n",
    "1. **Minimum** – The smallest non-outlier value in the dataset.\n",
    "2. **First Quartile (Q1)** – The 25th percentile (lower quartile), below which 25% of the data falls.\n",
    "3. **Median (Q2)** – The 50th percentile (middle value), which divides the dataset into two equal halves.\n",
    "4. **Third Quartile (Q3)** – The 75th percentile (upper quartile), below which 75% of the data falls.\n",
    "5. **Maximum** – The largest non-outlier value in the dataset.\n",
    "\n",
    "In addition to these, boxplots **highlight outliers**, which are data points that fall significantly outside the expected range.\n",
    "\n",
    "---\n",
    "\n",
    "### Why Boxplots Are Good\n",
    "\n",
    "1. **Summary of Data Distribution**: Boxplots provide a concise summary of data distribution, including median, quartiles, and outliers.\n",
    "2. **Comparison Across Groups**: They make it easy to compare distributions across multiple groups, such as industries or regions.\n",
    "3. **Identifying Outliers**: Boxplots clearly show outliers, which are important for understanding anomalies in financial data.\n",
    "4. **Insights for Decision-Making**: Help accountants and analysts spot trends or potential issues like delayed payments or unusually high transactions.\n",
    "\n",
    "--- \n",
    "\n",
    "#### Basic Example: Single Variable"
   ]
  },
  {
   "cell_type": "code",
   "execution_count": null,
   "id": "d68a4af6",
   "metadata": {},
   "outputs": [],
   "source": [
    "sns.boxplot(y=df['Tax_Percentage'], color='skyblue')"
   ]
  },
  {
   "cell_type": "markdown",
   "id": "8c4cd140",
   "metadata": {},
   "source": [
    "#### Boxplot – Broken Down by Categorical Variable"
   ]
  },
  {
   "cell_type": "code",
   "execution_count": null,
   "id": "b5f9ec29",
   "metadata": {},
   "outputs": [],
   "source": [
    "sns.boxplot(x='Industry', y='Transaction_Amount', hue='Industry', data=df, palette='Blues_r')\n",
    "plt.title(\"Transaction Amount by Industry\")\n",
    "plt.xlabel(\"Industry\")\n",
    "plt.ylabel(\"Transaction Amount ($)\")\n",
    "plt.xticks(rotation=0)\n",
    "plt.show()"
   ]
  },
  {
   "cell_type": "markdown",
   "id": "0daf6238",
   "metadata": {},
   "source": [
    "### Small-Group Coding Challenge #3\n",
    "\n",
    "#### Histogram\n",
    "- Create a histogram for `Payment_Delay_Days` with a trend curve (KDE)\n",
    "\n",
    "#### Box Plot\n",
    "- Plot a boxplot for `Tax_Percentage` grouped by `Region`.\n",
    "- Add a title and x-axis and y-axis labels\n",
    "- Which region has the highest variability?\n",
    "- Are there any outliers?"
   ]
  },
  {
   "cell_type": "code",
   "execution_count": null,
   "id": "6fd3a035",
   "metadata": {},
   "outputs": [],
   "source": []
  },
  {
   "cell_type": "code",
   "execution_count": null,
   "id": "c7a8053a",
   "metadata": {},
   "outputs": [],
   "source": []
  },
  {
   "cell_type": "markdown",
   "id": "6b34e438",
   "metadata": {},
   "source": [
    "# Bar Charts\n",
    "\n",
    "**Use Case**: Comparing discrete categories. Bar charts are one of the most commonly used visualizations in data analytics. They are used to compare categorical variables and **display frequency counts, averages, or other aggregated metrics**. \n",
    "\n",
    "**Relevance**: Bar charts are one of the simplest ways to compare quantities across different categories."
   ]
  },
  {
   "cell_type": "markdown",
   "id": "03fe3dda",
   "metadata": {},
   "source": [
    "**Example**: Plot the number of transactions by `Invoice_Status` using `value_counts()`"
   ]
  },
  {
   "cell_type": "code",
   "execution_count": null,
   "id": "0a104361",
   "metadata": {},
   "outputs": [],
   "source": [
    "plt.figure(figsize=(8,5))\n",
    "df['Invoice_Status'].value_counts().plot(kind='bar')\n",
    "plt.title(\"Number of Transactions by Invoice_Status\")\n",
    "plt.xlabel(\"Invoice_Status\")\n",
    "plt.ylabel(\"Number of Transactions\")\n",
    "plt.xticks(rotation=0)\n",
    "plt.show()"
   ]
  },
  {
   "cell_type": "markdown",
   "id": "12ae4c24",
   "metadata": {},
   "source": [
    "# Count Plots\n",
    "A **countplot** is a type of bar chart used to visualize the **frequency** of categorical data. It displays the count of observations in each category, making it useful for **identifying patterns, trends, and anomalies** in a dataset.\n",
    "\n",
    "**Why Use Countplots in Data Analytics?**\n",
    "- **Quickly summarize categorical data** – See how often each category appears in the dataset.\n",
    "- **Detect imbalances** – Identify underrepresented or overrepresented categories.\n",
    "- **Find patterns in data** – Understand distributions across different groups.\n",
    "\n",
    "**Note:** `countplot` only works for **nominal** (i.e., categorical) variables."
   ]
  },
  {
   "cell_type": "code",
   "execution_count": null,
   "id": "4fc4cd2b",
   "metadata": {},
   "outputs": [],
   "source": [
    "plt.figure(figsize=(8,5))\n",
    "sns.countplot(x=df['Invoice_Status'])\n",
    "plt.xlabel(\"Invoice_Status\")\n",
    "plt.ylabel(\"Number of Transactions\")\n",
    "plt.title(\"Number of Transactions by Invoice_Status\")\n",
    "plt.show()"
   ]
  },
  {
   "cell_type": "markdown",
   "id": "5f92ce65",
   "metadata": {},
   "source": [
    "### `plt.bar` vs. `sns.countplot` – Which One to Use?\n",
    "- Use `plt.bar` when: You already precomputed counts and need a quick bar chart.\n",
    "- Use `sns.countplot` when: You want cleaner visuals with automatic counting.\n",
    "\n",
    "#### Takeaway\n",
    "Both methods achieve the **same goal** (plotting transaction counts by `Invoice_Status`), but:\n",
    "- `plt.bar` requires **manual pre-aggregation** (`value_counts()`).\n",
    "- `sns.countplot` **automatically** counts and sorts the categories.\n",
    "- `sns.countplot`'s **horizontal bars** are often more readable when dealing with long category names.\n",
    "\n",
    "---\n",
    "\n",
    "#### Summary\n",
    "\n",
    "\n",
    "\n",
    "| Feature        | Bar Chart (`barplot`)       | Countplot (`countplot`)  |\n",
    "|---------------|-----------------------------|-------------------------|\n",
    "| **Data Input** | Categorical + numerical | Only categorical |\n",
    "| **Aggregation** | Requires explicit aggregation (e.g., mean, sum) | Counts occurrences automatically |\n",
    "| **Use Case** | Comparing values across categories | Counting occurrences of categories |"
   ]
  },
  {
   "cell_type": "markdown",
   "id": "a4f1be35",
   "metadata": {},
   "source": [
    "# Pie Charts\n",
    "\n",
    "- A **pie chart** is a circular statistical graphic divided into slices, where each slice represents a **proportion** of a whole. It is often used to show **percentage distributions** across different categories.\n",
    "\n",
    "- Use Cases:\n",
    "  - **Easily communicate proportions** – Helps visualize how different parts contribute to a whole.\n",
    "  - **Compare category sizes at a glance** – Shows which categories dominate and which are smaller.\n",
    "  - **Ideal for percentage-based insights** – Useful when working with data where the sum of all categories equals 100%.\n",
    "\n",
    "#### Example: Create a pie chart of proportion of transactions by `Region`"
   ]
  },
  {
   "cell_type": "code",
   "execution_count": null,
   "id": "240e44d2",
   "metadata": {},
   "outputs": [],
   "source": [
    "transactions_by_region = df['Region'].value_counts()\n",
    "\n",
    "plt.figure(figsize=(8, 8))\n",
    "plt.pie(transactions_by_region, \n",
    "    autopct='%1.1f%%',    # Show percentage values\n",
    "    labels=transactions_by_region.index,  # Ensure slices are labeled\n",
    "    #colors=['skyblue', 'lightcoral', 'gold', 'lightgreen', 'pink'],                \n",
    "    #colors=plt.cm.Paired.colors,  # Use a visually distinct color palette\n",
    "    startangle=90,        # Rotate for better visualization\n",
    "    wedgeprops={'edgecolor': 'black'}  # Add black edges for clarity\n",
    "    )\n",
    "\n",
    "# Add title\n",
    "plt.title(\"Proportion of Transactions by Region\")\n",
    "\n",
    "# Show the plot\n",
    "plt.show()"
   ]
  },
  {
   "cell_type": "markdown",
   "id": "b1c962e1",
   "metadata": {},
   "source": [
    "### Explanation of the Pie Chart Code\n",
    "\n",
    "- `df['Region'].value_counts()`  \n",
    "  - This counts the occurrences of each unique value in the `Region` column.\n",
    "  - The result is a PANDAS Series where the index contains the unique `Region` values, and the values are their respective counts.\n",
    "  \n",
    "- `plt.figure(figsize=(8, 8))` \n",
    "  - This adjusts the figure size to make the pie chart more readable.\n",
    "\n",
    "- `plt.pie()`  \n",
    "  - This uses Matplotlib's pie chart functionality.\n",
    "  - It generates a pie chart without needing to manually extract values.\n",
    "\n",
    "- `autopct='%1.1f%%'`  \n",
    "  - This formats the pie chart slices with percentage labels.\n",
    "  - `%1.1f%%` means:\n",
    "    - `1.1f` → One decimal place in the percentage.\n",
    "    - `%%` → Represents the percentage symbol.\n",
    "\n",
    "- `startangle=90` → Rotates the pie chart so the first slice starts at the top (90 degrees).\n",
    "- `wedgeprops={'edgecolor': 'black'}` → Adds black edges to the slices for better visual clarity.\n",
    "- `plt.title(\"Proportion of Claims by Region\")` → Adds a title to the pie chart.\n",
    "- `plt.show()` → Displays the pie chart.\n",
    "  \n",
    "This is a good way to create a visually pleasing pie chart from a categorical column in Pandas using Matplotlib.\n",
    "\n",
    "A basic pie chart without options can be created as follows:"
   ]
  },
  {
   "cell_type": "code",
   "execution_count": null,
   "id": "2fa20331",
   "metadata": {},
   "outputs": [],
   "source": [
    "plt.pie(transactions_by_region, labels=transactions_by_region.index)\n",
    "plt.show()"
   ]
  },
  {
   "cell_type": "markdown",
   "id": "759f15d4",
   "metadata": {},
   "source": [
    "### Side Note: How to Ask ChatGPT for Plotting Code – Increasing Order of Usefulness\n",
    "\n",
    "[Most Basic ChatGPT PROMPT]: `How can I make a pie chart in Python?`\n",
    "\n",
    "[Basic ChatGPT PROMPT]: `How can I get a pie chart in Python from df['Region']?`\n",
    "\n",
    "[REFINED ChatGPT PROMPT]: `\"How can I create a pie chart in Python using df['Region'], ensuring that the chart includes labeled slices, percentage values, and a title?\"`\n",
    "\n",
    "[EVEN MORE REFINED ChatGPT PROMPT]: `\"How can I create a pie chart using Pandas from df['Region'], including labeled slices, percentage values, a title, and visually distinct colors?\"`"
   ]
  },
  {
   "attachments": {},
   "cell_type": "markdown",
   "id": "9b86b3b5",
   "metadata": {},
   "source": [
    "# Bar Chart after `groupby()`\n",
    "\n",
    "- The `groupby()` function in Pandas is used to **split** a dataset into groups, **apply** calculations to each group, and **combine** the results. This is especially useful for **summarizing and aggregating numerical data based on categorical variables**.\n",
    "\n",
    "- When combined with **bar charts**, grouping helps visualize differences across categories, making it easier to identify **patterns, outliers, and trends**.\n",
    "\n",
    "---\n",
    "\n",
    "#### Examples: \n",
    "- **Comparing average costs** – e.g., average claim replacement cost by roofing company.\n",
    "- **Summarizing counts** – e.g., number of claims per city.\n",
    "- **Finding highest/lowest values** – e.g., insurance adjusters with the highest repair estimates."
   ]
  },
  {
   "cell_type": "markdown",
   "id": "7a2bc4cb",
   "metadata": {},
   "source": [
    "### Recall above that we generated this series:\n",
    "\n",
    "```python\n",
    "avg_amount_by_region = df.groupby('Region')['Transaction_Amount'].mean().sort_values(ascending=False)\n",
    "```\n",
    "\n",
    "Consequently, we can just run the plot on this series:"
   ]
  },
  {
   "cell_type": "code",
   "execution_count": null,
   "id": "0484dbea",
   "metadata": {},
   "outputs": [],
   "source": [
    "avg_amount_by_region.plot(kind='bar')\n",
    "#plt.show() #NOT NEEDED BUT SUPPRESSES OUTPUTTING OF THE LINE<Axes: xlabel='Region'> "
   ]
  },
  {
   "cell_type": "markdown",
   "id": "3c0dff55",
   "metadata": {},
   "source": [
    "# Customing the Plot\n",
    "There are lots of ways we can customize the above plot. Below I use a custom color, add 'padding' below the title and around the x-axis and y-axis labels, change the font size, and add bold font. \n",
    "\n",
    "```python\n",
    "# Get Seaborn's default blue color\n",
    "seaborn_blue = sns.color_palette(\"deep\")[0]\n",
    "avg_amount_by_region = df.groupby('Region')['Transaction_Amount'].mean().sort_values(ascending=False)\n",
    "plt.figure(figsize=(10,5))\n",
    "avg_amount_by_region.plot(kind='bar', color=seaborn_blue)\n",
    "plt.title(\"Average Transaction Amount by Region\", fontsize=12, pad=20, fontweight='bold')\n",
    "plt.xlabel(\"Region\", labelpad=20, fontsize=11)  # Added label padding, font size\n",
    "plt.ylabel(\"Avg Transaction Amount ($)\", labelpad=20, fontsize=11)  # Added label padding, font size\n",
    "plt.xticks(rotation=0, fontsize=10)\n",
    "plt.ylim(0, 3500)\n",
    "plt.show()\n",
    "```"
   ]
  },
  {
   "cell_type": "markdown",
   "id": "3e418e8b",
   "metadata": {},
   "source": [
    "<br>First, I'll show the Seaborn 'deep' color palette"
   ]
  },
  {
   "cell_type": "code",
   "execution_count": null,
   "id": "c419aae5",
   "metadata": {},
   "outputs": [],
   "source": [
    "sns.color_palette('deep')"
   ]
  },
  {
   "cell_type": "markdown",
   "id": "80f726b9",
   "metadata": {},
   "source": [
    "<br>In the following code block we are going to take the first (`[0]`) element of the above palette and call that `seaborn_blue`"
   ]
  },
  {
   "cell_type": "code",
   "execution_count": null,
   "id": "540e42b5",
   "metadata": {},
   "outputs": [],
   "source": [
    "# Get Seaborn's default blue color\n",
    "seaborn_blue = sns.color_palette(\"deep\")[0]\n",
    "\n",
    "avg_amount_by_region = df.groupby('Region')['Transaction_Amount'].mean().sort_values(ascending=False)\n",
    "\n",
    "plt.figure(figsize=(10,5))\n",
    "avg_amount_by_region.plot(kind='bar', color=seaborn_blue)\n",
    "plt.title(\"Average Transaction Amount by Region\", fontsize=12, pad=20, fontweight='bold')\n",
    "plt.xlabel(\"Region\", labelpad=15, fontsize=11)  # Added label padding, font size\n",
    "plt.ylabel(\"Avg Transaction Amount ($)\", labelpad=15, fontsize=11)\n",
    "plt.xticks(rotation=0, fontsize=10)\n",
    "plt.ylim(0, 3500)\n",
    "plt.show()"
   ]
  },
  {
   "attachments": {},
   "cell_type": "markdown",
   "id": "528db16e",
   "metadata": {},
   "source": [
    "## **Breaking Down the Above Code Example**\n",
    "\n",
    "### **Objective**\n",
    "Objective: Visualize which regions have higher or lower average transaction amounts.\n",
    "\n",
    "### **Steps**\n",
    "1. **Group the Data by Region**\n",
    "   - The dataset contains multiple transactions in different regions.\n",
    "   - We use `.groupby('Region')` to **group all transactions in each region**.\n",
    "\n",
    "2. **Calculate the Mean Transaction Amount** for each `Region`\n",
    "   - The column `Transaction_Amount` stores the amounts for each transaction.\n",
    "   - Using `.mean()` calculates the **average transaction amount** per region.\n",
    "\n",
    "3. **Sort the Results** in descending order\n",
    "   - `.sort_values(ascending=False)` sorts the companies **from highest to lowest** average transaction amount.\n",
    "\n",
    "4. **Create a Bar Chart** to visualize the differences\n",
    "   - `plt.figure(figsize=(10,5))` adjusts the figure size for readability.\n",
    "   - `.plot(kind='bar')` generates a bar chart.\n",
    "   - `color=seaborn_blue` sets the bar color.\n",
    "   - `fontsize` sets the size of the font (we are using this for the title, x-axis label, and y-axis label)\n",
    "   - `pad` adds some padding below the title\n",
    "   - `labelpad` add some padding between the x-axis/y-axis labels and the plot\n",
    "   - `plt.xticks(rotation=0)` sets the rotation of the x-axis labels.\n",
    "   - `plt.ylim` sets the y-axis range \n",
    "   \n",
    "**Purpose** - This visualization helps identify which **regions** have the highest transaction amounts.\n"
   ]
  },
  {
   "cell_type": "markdown",
   "id": "cd10630b",
   "metadata": {},
   "source": [
    "# Modify the Above with Different Aggregation Functions\n",
    "\n",
    "Play around with the above code by using a different `groupby()` aggregation function:\n",
    "- **`count`**: Count the number of non-NA/null values.\n",
    "- **`sum`**: Compute the sum of values.\n",
    "- **`mean`**: Compute the mean (average) of values.\n",
    "- **`median`**: Compute the median of values.\n",
    "- **`min`**: Find the minimum value.\n",
    "- **`max`**: Find the maximum value.\n",
    "- **`std`**: Compute the standard deviation of values.\n",
    "- **`var`**: Compute the variance of values.\n",
    "- **`prod`**: Compute the product of values.\n",
    "- **`size`**: Get the size of each group (including nulls).\n",
    "- **`first`**: Return the first value in each group.\n",
    "- **`last`**: Return the last value in each group."
   ]
  },
  {
   "cell_type": "markdown",
   "id": "e13ed341",
   "metadata": {},
   "source": [
    "#### Example: Using `min()`"
   ]
  },
  {
   "cell_type": "code",
   "execution_count": null,
   "id": "ab0cb37c",
   "metadata": {},
   "outputs": [],
   "source": [
    "min_amount_by_region = df.groupby('Region')['Transaction_Amount'].min().sort_values(ascending=False)\n",
    "min_amount_by_region.plot(kind='bar', color=seaborn_blue)"
   ]
  },
  {
   "cell_type": "markdown",
   "id": "b4658d3c",
   "metadata": {},
   "source": [
    "#### Example: Using `max()`\n",
    "This is a minimal example without formatting"
   ]
  },
  {
   "cell_type": "code",
   "execution_count": null,
   "id": "9f100c7d",
   "metadata": {},
   "outputs": [],
   "source": [
    "df.groupby('Region')['Transaction_Amount'].max().plot(kind='bar')"
   ]
  },
  {
   "cell_type": "markdown",
   "id": "52ad7b4f",
   "metadata": {},
   "source": [
    "### Example: Using `first()`"
   ]
  },
  {
   "cell_type": "code",
   "execution_count": null,
   "id": "88101136",
   "metadata": {},
   "outputs": [],
   "source": [
    "df.groupby('Region')['Transaction_Amount'].first().plot(kind='bar')"
   ]
  },
  {
   "cell_type": "markdown",
   "id": "32af1150",
   "metadata": {},
   "source": [
    "### Small-Group Coding Challenge #4\n",
    "- Plot the total `Transaction_Amount` for each `Industry` using `sum()`"
   ]
  },
  {
   "cell_type": "markdown",
   "id": "f91719a1",
   "metadata": {},
   "source": [
    "# Important Resources\n",
    "\n",
    "Learn how to make the most of Python, Jupyter, Colaboratory, and related tools with these resources:\n",
    "\n",
    "### Working with Notebooks in Colaboratory\n",
    "- [Overview of Colaboratory](/notebooks/basic_features_overview.ipynb)  \n",
    "- [Guide to Markdown](/notebooks/markdown_guide.ipynb)\n",
    "- [Importing libraries and installing dependencies](/notebooks/snippets/importing_libraries.ipynb)\n",
    "- [Saving and loading notebooks in GitHub](https://colab.research.google.com/github/googlecolab/colabtools/blob/master/notebooks/colab-github-demo.ipynb)\n",
    "\n",
    "### Working with Data\n",
    "- [Loading data: Drive, Sheets, and Google Cloud Storage](https://colab.research.google.com/notebooks/io.ipynb)\n",
    "- [Charts: visualizing data](/notebooks/charts.ipynb)\n",
    "- [Getting started with BigQuery](/notebooks/bigquery.ipynb)"
   ]
  }
 ],
 "metadata": {
  "kernelspec": {
   "display_name": "Python 3 (ipykernel)",
   "language": "python",
   "name": "python3"
  },
  "language_info": {
   "codemirror_mode": {
    "name": "ipython",
    "version": 3
   },
   "file_extension": ".py",
   "mimetype": "text/x-python",
   "name": "python",
   "nbconvert_exporter": "python",
   "pygments_lexer": "ipython3",
   "version": "3.9.7"
  }
 },
 "nbformat": 4,
 "nbformat_minor": 5
}
