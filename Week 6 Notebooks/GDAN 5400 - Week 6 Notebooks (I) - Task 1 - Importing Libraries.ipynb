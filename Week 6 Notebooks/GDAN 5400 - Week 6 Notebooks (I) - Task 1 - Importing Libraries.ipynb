{
 "cells": [
  {
   "cell_type": "markdown",
   "id": "1c907206",
   "metadata": {},
   "source": [
    "[![Open In Colab](https://colab.research.google.com/assets/colab-badge.svg)](https://colab.research.google.com/github/gdsaxton/GDAN5400/blob/main/Week%206%20Notebooks/GDAN%205400%20-%20Week%206%20Notebooks%20%28I%29%20-Task%201%20-%20Importing%20Libraries.ipynb)"
   ]
  },
  {
   "cell_type": "markdown",
   "id": "a58dcaba",
   "metadata": {},
   "source": [
    "This notebook provides a mini-tutorial on importing libraries in Python "
   ]
  },
  {
   "cell_type": "code",
   "execution_count": null,
   "id": "ce9da7f0",
   "metadata": {},
   "outputs": [],
   "source": [
    "%%time\n",
    "import datetime\n",
    "print (\"Current date and time : \", datetime.datetime.now().strftime(\"%Y-%m-%d %H:%M:%S\"), '\\n')"
   ]
  },
  {
   "cell_type": "markdown",
   "id": "9af03858",
   "metadata": {},
   "source": [
    "# Load Packages and Set Working Directory\n",
    "Import several necessary Python packages. We will be using the <a href=\"http://pandas.pydata.org/\">Python Data Analysis Library,</a> or <i>PANDAS</i>, extensively for our data manipulations in this and future tutorials."
   ]
  },
  {
   "cell_type": "code",
   "execution_count": null,
   "id": "20c2d746",
   "metadata": {},
   "outputs": [],
   "source": [
    "import numpy as np\n",
    "import pandas as pd\n",
    "from pandas import DataFrame\n",
    "from pandas import Series"
   ]
  },
  {
   "cell_type": "markdown",
   "id": "6ab477ac",
   "metadata": {},
   "source": [
    "<br>\n",
    "PANDAS allows you to set various options for, among other things, inspecting the data. I like to be able to see all of the columns. Therefore, I typically include this line at the top of all my notebooks."
   ]
  },
  {
   "cell_type": "code",
   "execution_count": null,
   "id": "bdca7e41",
   "metadata": {},
   "outputs": [],
   "source": [
    "#http://pandas.pydata.org/pandas-docs/stable/options.html\n",
    "pd.set_option('display.max_columns', None)\n",
    "pd.set_option('max_colwidth', 250)\n",
    "pd.set_option('display.max_info_columns', 500)"
   ]
  },
  {
   "cell_type": "markdown",
   "id": "8b452531",
   "metadata": {},
   "source": [
    "# Read in Data"
   ]
  },
  {
   "cell_type": "code",
   "execution_count": null,
   "id": "55a6165c",
   "metadata": {},
   "outputs": [],
   "source": [
    "import requests\n",
    "\n",
    "# NOTE: replace `https://github.com/` with `https://raw.githubusercontent.com`\n",
    "# https://github.com/gdsaxton/GDAN5400/blob/main/Coding%20Assignment%201/final_insurance_fraud.xlsx\n",
    "url = 'https://raw.githubusercontent.com/gdsaxton/GDAN5400/main/Coding%20Assignment%203/final_insurance_fraud.xlsx'\n",
    "\n",
    "# Download the file\n",
    "response = requests.get(url)\n",
    "with open('final_insurance_fraud.xlsx', 'wb') as f:\n",
    "    f.write(response.content)\n",
    "\n",
    "# Load the Excel file\n",
    "df = pd.read_excel('final_insurance_fraud.xlsx', engine='openpyxl')\n",
    "\n",
    "print('# of rows:', len(df), '\\n')\n",
    "\n",
    "df[:2]"
   ]
  },
  {
   "cell_type": "markdown",
   "id": "305281aa",
   "metadata": {},
   "source": [
    "# Importing Libraries in Python: A Mini-Tutorial\n",
    "\n",
    "Python allows you to import external and built-in libraries to extend its functionality. This tutorial covers different ways to import libraries and best practices.\n",
    "\n",
    "---\n",
    "\n",
    "## 1. Basic `import` Statement\n",
    "\n",
    "To use an external or built-in module, use the `import` statement:"
   ]
  },
  {
   "cell_type": "code",
   "execution_count": null,
   "id": "7a4492db",
   "metadata": {},
   "outputs": [],
   "source": [
    "import math  # Import the built-in math module\n",
    "\n",
    "print(math.sqrt(16)) "
   ]
  },
  {
   "cell_type": "markdown",
   "id": "2246f2b1",
   "metadata": {},
   "source": [
    "## 2. Importing with an Alias (`as`)\n",
    "\n",
    "To make code more readable or shorten long module names, use `as`:"
   ]
  },
  {
   "cell_type": "code",
   "execution_count": null,
   "id": "b108e63c",
   "metadata": {},
   "outputs": [],
   "source": [
    "import numpy as np  # Alias for NumPy\n",
    "\n",
    "array = np.array([1, 2, 3])\n",
    "print(array)"
   ]
  },
  {
   "cell_type": "markdown",
   "id": "e0366f8b",
   "metadata": {},
   "source": [
    "Why Use Aliases?\n",
    "- Saves typing: Shortens long module names.\n",
    "- Improves readability: Common aliases (e.g., np for NumPy, pd for pandas) make code easier to understand.\n",
    "\n",
    "Using aliases is a best practice for widely used libraries like NumPy (`np`), pandas (`pd`), and Matplotlib (`plt`)."
   ]
  },
  {
   "cell_type": "markdown",
   "id": "56e836fd",
   "metadata": {},
   "source": [
    "## 3. Importing Specific Functions (`from ... import`)\n",
    "\n",
    "Instead of importing the entire module, you can import specific functions or classes to improve code readability and performance.\n",
    "\n",
    "#### Example:"
   ]
  },
  {
   "cell_type": "code",
   "execution_count": null,
   "id": "f7088289",
   "metadata": {},
   "outputs": [],
   "source": [
    "from math import sqrt, pi  # Importing specific functions\n",
    "\n",
    "print(sqrt(25))  \n",
    "print(pi)  "
   ]
  },
  {
   "cell_type": "markdown",
   "id": "4d26a312",
   "metadata": {},
   "source": [
    "#### Another Example:"
   ]
  },
  {
   "cell_type": "code",
   "execution_count": null,
   "id": "918daa95",
   "metadata": {},
   "outputs": [],
   "source": [
    "from datetime import datetime\n",
    "\n",
    "now = datetime.now()\n",
    "print(now)"
   ]
  },
  {
   "cell_type": "markdown",
   "id": "68723b49",
   "metadata": {},
   "source": [
    "Why Use from ... import?\n",
    "- Saves memory: Only loads the needed functions.\n",
    "\n",
    "⚠️ Avoid name conflicts: Be careful when importing common function names like open or sum, as they may overwrite built-in Python functions."
   ]
  },
  {
   "cell_type": "markdown",
   "id": "4a80c1bc",
   "metadata": {},
   "source": [
    "## 4. Importing All Functions (`from ... import *`)\n",
    "\n",
    "You can import all functions and variables from a module using `from module_name import *`. However, this practice is generally discouraged because it can lead to namespace conflicts."
   ]
  },
  {
   "cell_type": "code",
   "execution_count": null,
   "id": "c2f8d9d1",
   "metadata": {},
   "outputs": [],
   "source": [
    "from math import *\n",
    "\n",
    "print(sin(0))  \n",
    "print(cos(0))  \n",
    "print(sqrt(16)) "
   ]
  },
  {
   "cell_type": "markdown",
   "id": "eea967f0",
   "metadata": {},
   "source": [
    "Why Avoid `from ... import`?\n",
    "- Namespace conflicts: If two modules have functions with the same name, one will overwrite the other.\n",
    "- Reduced readability: It becomes unclear which module a function comes from.\n",
    "- Harder debugging: Tracking down function sources becomes more difficult.\n",
    "\n",
    "Alternative (Recommended) Approach:\n",
    "- Instead of importing everything, explicitly import only what you need:"
   ]
  },
  {
   "cell_type": "code",
   "execution_count": null,
   "id": "c70cf082",
   "metadata": {},
   "outputs": [],
   "source": [
    "from math import sin, cos, sqrt"
   ]
  },
  {
   "cell_type": "markdown",
   "id": "01c2b544",
   "metadata": {},
   "source": [
    "✅ Best Practice: Use from module import function_name or import module as alias for clarity and maintainability."
   ]
  },
  {
   "cell_type": "markdown",
   "id": "1a58d6fd",
   "metadata": {},
   "source": [
    "## 5. Installing Libraries\n",
    "\n",
    "To install external libraries, use `pip`, which is the package manager for Python.\n",
    "\n",
    "### Installing a Single Package\n",
    "```\n",
    "pip install library_name\n",
    "```\n",
    "#### Example:\n",
    "```\n",
    "pip install numpy\n",
    "```\n",
    "\n",
    "If using Jupyter Notebook, use ! before the command:\n",
    "\n",
    "```python\n",
    "!pip install scikit-learn\n",
    "```"
   ]
  },
  {
   "cell_type": "markdown",
   "id": "fe1a9fd6",
   "metadata": {},
   "source": [
    "## Conclusion\n",
    "\n",
    "- Use `import module_name` for full imports.  \n",
    "- Use `import module_name as alias` for readability.  \n",
    "- Use `from module import function` to import specific functions.  \n",
    "- Avoid `from module import *` unless absolutely necessary.  \n",
    "- Install packages using `pip install package_name`.  \n",
    "\n",
    "By following these best practices, your Python imports will be clean, efficient, and maintainable. 🚀\n"
   ]
  },
  {
   "cell_type": "markdown",
   "id": "f86bfa8b",
   "metadata": {},
   "source": [
    "## Importing Pandas, Matplotlib, and Seaborn\n",
    "\n",
    "When working with data in Python, it's common to use **pandas** for data manipulation, **matplotlib** for visualization, and **seaborn** for statistical plots. Below is how we import these libraries and what each one does.\n",
    "\n",
    "### Importing the Libraries\n",
    "```python\n",
    "import pandas as pd  # Pandas for data handling\n",
    "import matplotlib.pyplot as plt  # Matplotlib for plotting\n",
    "import seaborn as sns  # Seaborn for statistical visualizations\n",
    "```"
   ]
  },
  {
   "cell_type": "markdown",
   "id": "f2bb3748",
   "metadata": {},
   "source": [
    "### What Each Import Does\n",
    "\n",
    "#### `import pandas as pd`\n",
    "- `pandas` is a powerful library for handling structured data.\n",
    "- The alias `pd` is a common convention to keep code concise.\n",
    "- **Example**:\n",
    "  ```python\n",
    "  df = pd.DataFrame({\"A\": [1, 2, 3], \"B\": [4, 5, 6]})\n",
    "  print(df)\n",
    "  ```\n",
    "  \n",
    "#### `import matplotlib.pyplot as plt`\n",
    "- `matplotlib` is the foundation of plotting in Python.\n",
    "- The `pyplot` module (`plt`) provides functions for creating plots.\n",
    "- Example:\n",
    "  ```python\n",
    "  plt.plot([1, 2, 3], [4, 5, 6])\n",
    "  plt.show()\n",
    "  ```\n",
    "\n",
    "#### `import seaborn as sns`\n",
    "- `seaborn` is built on top of `matplotlib` and provides beautiful statistical plots.\n",
    "- The alias `sns` follows common practice.\n",
    "- Example:\n",
    "  ```python\n",
    "  sns.scatterplot(x=[1, 2, 3], y=[4, 5, 6])\n",
    "  plt.show()\n",
    "  ```  \n",
    "  "
   ]
  },
  {
   "cell_type": "markdown",
   "id": "016f3f97",
   "metadata": {},
   "source": [
    "### Example: Using All Three Libraries\n",
    "Here’s a simple workflow combining pandas, matplotlib, and seaborn:  \n",
    "```python\n",
    "import pandas as pd\n",
    "import matplotlib.pyplot as plt\n",
    "import seaborn as sns\n",
    "\n",
    "# Create a simple DataFrame\n",
    "df = pd.DataFrame({\"A\": [1, 2, 3, 4, 5], \"B\": [5, 3, 6, 7, 2]})\n",
    "\n",
    "# Basic Seaborn scatter plot\n",
    "sns.scatterplot(x=df[\"A\"], y=df[\"B\"])\n",
    "\n",
    "# Show the plot\n",
    "plt.show()\n",
    "```\n",
    "\n",
    "This script:\n",
    "- Creates a pandas DataFrame.\n",
    "- Uses `seaborn.scatterplot()` to visualize the relationship between columns A and B.\n",
    "- Calls `plt.show()` to display the plot.\n",
    "\n",
    "\n",
    "Summary\n",
    "\n",
    "| Library               | Alias  | Purpose                                   |\n",
    "|----------------------|-------|-------------------------------------------|\n",
    "| `pandas`            | `pd`  | Data handling and manipulation           |\n",
    "| `matplotlib.pyplot` | `plt` | General plotting functions               |\n",
    "| `seaborn`           | `sns` | Statistical visualization                |\n",
    "\n",
    "\n",
    "<br>Using these three libraries together allows for efficient data analysis and visualization in Python. 🚀"
   ]
  }
 ],
 "metadata": {
  "kernelspec": {
   "display_name": "Python 3 (ipykernel)",
   "language": "python",
   "name": "python3"
  },
  "language_info": {
   "codemirror_mode": {
    "name": "ipython",
    "version": 3
   },
   "file_extension": ".py",
   "mimetype": "text/x-python",
   "name": "python",
   "nbconvert_exporter": "python",
   "pygments_lexer": "ipython3",
   "version": "3.9.7"
  }
 },
 "nbformat": 4,
 "nbformat_minor": 5
}
