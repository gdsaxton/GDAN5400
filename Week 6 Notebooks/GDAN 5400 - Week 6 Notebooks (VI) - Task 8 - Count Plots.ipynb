{
 "cells": [
  {
   "cell_type": "markdown",
   "id": "1c907206",
   "metadata": {},
   "source": [
    "[![Open In Colab](https://colab.research.google.com/assets/colab-badge.svg)](https://colab.research.google.com/github/gdsaxton/GDAN5400/blob/main/Week%206%20Notebooks/GDAN%205400%20-%20Week%206%20Notebooks%20%28VI%29%20-%20Task%208%20-%20Bar%20Charts.ipynb)"
   ]
  },
  {
   "cell_type": "markdown",
   "id": "a58dcaba",
   "metadata": {},
   "source": [
    "This notebook provides a mini-tutorial on understanding and using count plots in Python "
   ]
  },
  {
   "cell_type": "code",
   "execution_count": null,
   "id": "ce9da7f0",
   "metadata": {},
   "outputs": [],
   "source": [
    "%%time\n",
    "import datetime\n",
    "print (\"Current date and time : \", datetime.datetime.now().strftime(\"%Y-%m-%d %H:%M:%S\"), '\\n')"
   ]
  },
  {
   "cell_type": "markdown",
   "id": "9af03858",
   "metadata": {},
   "source": [
    "# Load Packages and Set Working Directory\n",
    "Import several necessary Python packages. We will be using the <a href=\"http://pandas.pydata.org/\">Python Data Analysis Library,</a> or <i>PANDAS</i>, extensively for our data manipulations in this and future tutorials."
   ]
  },
  {
   "cell_type": "code",
   "execution_count": null,
   "id": "20c2d746",
   "metadata": {},
   "outputs": [],
   "source": [
    "import numpy as np\n",
    "import pandas as pd\n",
    "from pandas import DataFrame\n",
    "from pandas import Series"
   ]
  },
  {
   "cell_type": "markdown",
   "id": "6ab477ac",
   "metadata": {},
   "source": [
    "<br>\n",
    "PANDAS allows you to set various options for, among other things, inspecting the data. I like to be able to see all of the columns. Therefore, I typically include this line at the top of all my notebooks."
   ]
  },
  {
   "cell_type": "code",
   "execution_count": null,
   "id": "bdca7e41",
   "metadata": {},
   "outputs": [],
   "source": [
    "#http://pandas.pydata.org/pandas-docs/stable/options.html\n",
    "pd.set_option('display.max_columns', None)\n",
    "pd.set_option('max_colwidth', 250)\n",
    "pd.set_option('display.max_info_columns', 500)"
   ]
  },
  {
   "cell_type": "markdown",
   "id": "8b452531",
   "metadata": {},
   "source": [
    "# Read in Data"
   ]
  },
  {
   "cell_type": "code",
   "execution_count": null,
   "id": "55a6165c",
   "metadata": {},
   "outputs": [],
   "source": [
    "import requests\n",
    "\n",
    "# NOTE: replace `https://github.com/` with `https://raw.githubusercontent.com`\n",
    "# https://github.com/gdsaxton/GDAN5400/blob/main/Coding%20Assignment%201/final_insurance_fraud.xlsx\n",
    "url = 'https://raw.githubusercontent.com/gdsaxton/GDAN5400/main/Coding%20Assignment%203/final_insurance_fraud.xlsx'\n",
    "\n",
    "# Download the file\n",
    "response = requests.get(url)\n",
    "with open('final_insurance_fraud.xlsx', 'wb') as f:\n",
    "    f.write(response.content)\n",
    "\n",
    "# Load the Excel file\n",
    "df = pd.read_excel('final_insurance_fraud.xlsx', engine='openpyxl')\n",
    "\n",
    "print('# of rows:', len(df), '\\n')\n",
    "\n",
    "df[:2]"
   ]
  },
  {
   "cell_type": "markdown",
   "id": "6591331c",
   "metadata": {},
   "source": [
    "# **Mini-Tutorial: Understanding Countplots**\n",
    "\n",
    "## **What is a Countplot?**\n",
    "A **countplot** is a type of bar chart used to visualize the **frequency** of categorical data. It displays the count of observations in each category, making it useful for **identifying patterns, trends, and anomalies** in a dataset.\n",
    "\n",
    "### **Why Use Countplots in Data Analytics?**\n",
    "- **Quickly summarize categorical data** – See how often each category appears in the dataset.\n",
    "- **Detect imbalances** – Identify underrepresented or overrepresented categories.\n",
    "- **Find patterns in data** – Understand distributions across different groups.\n",
    "\n",
    "## **How Countplots Help in Accounting & Insurance Analytics**\n",
    "Countplots are particularly useful for professionals in **accounting, finance, and insurance**, as they:\n",
    "- **Highlight the most frequent claims** – Showing which types of insurance claims are most common.\n",
    "- **Identify high-risk areas** – Seeing which regions generate the most claims.\n",
    "- **Detect irregularities** – Spot unusual claim activity that may indicate fraud.\n",
    "- **Monitor service provider usage** – Understanding which roofing companies or adjusters are handling the most claims.\n",
    "\n",
    "### **Key Features of Countplots**\n",
    "1. **Categorical on One Axis, Counts on the Other**  \n",
    "   - The x-axis (or y-axis) represents a **categorical variable** (e.g., city, adjuster, roof type).\n",
    "   - The y-axis (or x-axis) shows **the number of occurrences**.\n",
    "\n",
    "2. **Customization Options**  \n",
    "   - Can be displayed **vertically or horizontally**.\n",
    "   - Can **sort categories** by frequency for better readability.\n",
    "   - Supports **color customization** for clearer differentiation.\n",
    "\n",
    "3. **Comparison Between Categories**  \n",
    "   - By grouping by another categorical variable, countplots can show **comparisons within subcategories**.\n",
    "\n",
    "By using **countplots effectively**, professionals can **gain quick insights** into categorical distributions, making it easier to detect trends, make informed decisions, and identify potential risks.\n"
   ]
  },
  {
   "cell_type": "markdown",
   "id": "ee9a8afc",
   "metadata": {},
   "source": [
    "### **Example: Countplot of Claim Counts by City**\n",
    "**Purpose** – \n",
    "This countplot visualizes **the number of claims made in different cities**, helping insurers understand geographic patterns in claims. Unlike a **bar chart**, which can display **any aggregated numerical value** (e.g., average repair cost), a countplot **only counts the number of occurrences of each category**."
   ]
  },
  {
   "cell_type": "code",
   "execution_count": null,
   "id": "526e2a0a",
   "metadata": {},
   "outputs": [],
   "source": [
    "import seaborn as sns\n",
    "import matplotlib.pyplot as plt\n",
    "\n",
    "plt.figure(figsize=(10,6))\n",
    "sns.countplot(y=df['City'], order=df['City'].value_counts().index, color='steelblue')\n",
    "plt.xlabel(\"Number of Claims\")\n",
    "plt.ylabel(\"City\")\n",
    "plt.title(\"Number of Claims by City\")\n",
    "plt.show()"
   ]
  },
  {
   "cell_type": "markdown",
   "id": "807d334d",
   "metadata": {},
   "source": [
    "#### Key Insights\n",
    "- Shows which cities have the highest claim activity.\n",
    "- Helps insurers detect regional risks and adjust policies accordingly.\n",
    "- Reveals potential fraud if certain cities have an unexpectedly high volume of claims.\n",
    "\n",
    "### How is This Different from a Bar Chart?\n",
    "- Countplots are specifically used for categorical frequency (i.e., how many times a category appears in the dataset).\n",
    "- Bar charts can display aggregated metrics, such as average cost per city or total payout per adjuster.\n",
    "- A countplot always has \"count\" on one axis, while bar charts have a numerical variable that can be customized (e.g., sum, mean, max).\n",
    "- Countplots cannot display numerical data categories directly; they require categorical variables.\n",
    "\n",
    "The main difference between a bar chart and a countplot lies in how they handle data:\n",
    "\n",
    "1. Bar Chart (sns.barplot() or plt.bar())\n",
    "Requires pre-aggregated data: You need to provide both the categorical variable (x-axis) and the corresponding numerical values (y-axis).\n",
    "\n",
    "Used to display comparisons between different categories.\n",
    "\n",
    "Example: Showing the average claim amount per adjuster.\n",
    "\n",
    "```python\n",
    "sns.barplot(x=df['Adjuster'], y=df['Claim_Amount'], estimator=np.mean)\n",
    "```\n",
    "\n",
    "2. Countplot (`sns.countplot()`)\n",
    "Automatically counts occurrences: It works directly with categorical data and plots the frequency of each category.\n",
    "\n",
    "No need for explicit aggregation: It automatically calculates the count of each unique value in the category column.\n",
    "\n",
    "Example: Showing how many claims each adjuster has handled.\n",
    "\n",
    "```python\n",
    "sns.countplot(y=df['Adjuster'])\n",
    "```\n",
    "\n",
    "#### Summary\n",
    "\n",
    "\n",
    "\n",
    "| Feature        | Bar Chart (`barplot`)       | Countplot (`countplot`)  |\n",
    "|---------------|-----------------------------|-------------------------|\n",
    "| **Data Input** | Categorical + numerical | Only categorical |\n",
    "| **Aggregation** | Requires explicit aggregation (e.g., mean, sum) | Counts occurrences automatically |\n",
    "| **Use Case** | Comparing values across categories | Counting occurrences of categories |\n"
   ]
  },
  {
   "cell_type": "markdown",
   "id": "9c8229e7",
   "metadata": {},
   "source": [
    "## **Conclusions on Countplots**\n",
    "Countplots are a powerful visualization tool for analyzing **categorical data frequency**. They are especially useful in **insurance and accounting analytics** because they:\n",
    "- **Quickly summarize categorical distributions** – Making it easy to see which categories appear most frequently.\n",
    "- **Highlight trends and imbalances** – Identifying high-risk locations, commonly used service providers, or frequent claim types.\n",
    "- **Detect anomalies** – Large variations in frequency could indicate fraud, data entry errors, or unexpected trends.\n",
    "- **Enhance data-driven decision-making** – Helping insurers, auditors, and financial analysts make better-informed policy and business decisions.\n",
    "\n",
    "By understanding **when to use a countplot versus a bar chart**, analysts can effectively visualize data **to extract meaningful insights and drive business intelligence**.\n"
   ]
  }
 ],
 "metadata": {
  "kernelspec": {
   "display_name": "Python 3 (ipykernel)",
   "language": "python",
   "name": "python3"
  },
  "language_info": {
   "codemirror_mode": {
    "name": "ipython",
    "version": 3
   },
   "file_extension": ".py",
   "mimetype": "text/x-python",
   "name": "python",
   "nbconvert_exporter": "python",
   "pygments_lexer": "ipython3",
   "version": "3.9.7"
  }
 },
 "nbformat": 4,
 "nbformat_minor": 5
}
