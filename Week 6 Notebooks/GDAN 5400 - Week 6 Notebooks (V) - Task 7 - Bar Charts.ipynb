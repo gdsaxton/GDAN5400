{
 "cells": [
  {
   "cell_type": "markdown",
   "id": "1c907206",
   "metadata": {},
   "source": [
    "[![Open In Colab](https://colab.research.google.com/assets/colab-badge.svg)](https://colab.research.google.com/github/gdsaxton/GDAN5400/blob/main/Week%206%20Notebooks/GDAN%205400%20-%20Week%206%20Notebooks%20%28V%29%20-%20Task%207%20-%20Bar%20Charts.ipynb)"
   ]
  },
  {
   "cell_type": "markdown",
   "id": "a58dcaba",
   "metadata": {},
   "source": [
    "This notebook provides a mini-tutorial on understanding and using bar charts in Python "
   ]
  },
  {
   "cell_type": "code",
   "execution_count": null,
   "id": "ce9da7f0",
   "metadata": {},
   "outputs": [],
   "source": [
    "%%time\n",
    "import datetime\n",
    "print (\"Current date and time : \", datetime.datetime.now().strftime(\"%Y-%m-%d %H:%M:%S\"), '\\n')"
   ]
  },
  {
   "cell_type": "markdown",
   "id": "9af03858",
   "metadata": {},
   "source": [
    "# Load Packages and Set Working Directory\n",
    "Import several necessary Python packages. We will be using the <a href=\"http://pandas.pydata.org/\">Python Data Analysis Library,</a> or <i>PANDAS</i>, extensively for our data manipulations in this and future tutorials."
   ]
  },
  {
   "cell_type": "code",
   "execution_count": null,
   "id": "20c2d746",
   "metadata": {},
   "outputs": [],
   "source": [
    "import numpy as np\n",
    "import pandas as pd\n",
    "from pandas import DataFrame\n",
    "from pandas import Series"
   ]
  },
  {
   "cell_type": "markdown",
   "id": "6ab477ac",
   "metadata": {},
   "source": [
    "<br>\n",
    "PANDAS allows you to set various options for, among other things, inspecting the data. I like to be able to see all of the columns. Therefore, I typically include this line at the top of all my notebooks."
   ]
  },
  {
   "cell_type": "code",
   "execution_count": null,
   "id": "bdca7e41",
   "metadata": {},
   "outputs": [],
   "source": [
    "#http://pandas.pydata.org/pandas-docs/stable/options.html\n",
    "pd.set_option('display.max_columns', None)\n",
    "pd.set_option('max_colwidth', 250)\n",
    "pd.set_option('display.max_info_columns', 500)"
   ]
  },
  {
   "cell_type": "markdown",
   "id": "8b452531",
   "metadata": {},
   "source": [
    "# Read in Data"
   ]
  },
  {
   "cell_type": "code",
   "execution_count": null,
   "id": "55a6165c",
   "metadata": {},
   "outputs": [],
   "source": [
    "import requests\n",
    "\n",
    "# NOTE: replace `https://github.com/` with `https://raw.githubusercontent.com`\n",
    "# https://github.com/gdsaxton/GDAN5400/blob/main/Coding%20Assignment%201/final_insurance_fraud.xlsx\n",
    "url = 'https://raw.githubusercontent.com/gdsaxton/GDAN5400/main/Coding%20Assignment%203/final_insurance_fraud.xlsx'\n",
    "\n",
    "# Download the file\n",
    "response = requests.get(url)\n",
    "with open('final_insurance_fraud.xlsx', 'wb') as f:\n",
    "    f.write(response.content)\n",
    "\n",
    "# Load the Excel file\n",
    "df = pd.read_excel('final_insurance_fraud.xlsx', engine='openpyxl')\n",
    "\n",
    "print('# of rows:', len(df), '\\n')\n",
    "\n",
    "df[:2]"
   ]
  },
  {
   "cell_type": "markdown",
   "id": "c50571bb",
   "metadata": {},
   "source": [
    "# **Bar Charts in Data Analytics**\n",
    "\n",
    "## **Introduction**\n",
    "Bar charts are one of the most commonly used visualizations in data analytics. They are used to compare categorical variables and **display frequency counts, averages, or other aggregated metrics**. \n",
    "\n",
    "In the context of insurance claims, bar charts can help us:\n",
    "- Compare **the number of claims** handled by different adjusters.\n",
    "- Analyze **average repair costs** across different roofing companies.\n",
    "- Examine **the frequency of different types of roof damage**.\n",
    "\n",
    "---\n",
    "\n",
    "## Example 1: Bar Chart of Claim Counts by City\n",
    "**Purpose**\n",
    "This bar chart helps visualize **which cities have the most insurance claims**, providing insight into regional claim distribution.\n",
    "\n",
    "#### Option 1: using `matplotlib` and `.plot(kind='bar')`"
   ]
  },
  {
   "cell_type": "code",
   "execution_count": null,
   "id": "6a7f11d5",
   "metadata": {},
   "outputs": [],
   "source": [
    "import matplotlib.pyplot as plt\n",
    "plt.figure(figsize=(10,5))\n",
    "df['City'].value_counts().plot(kind='bar', color='skyblue')\n",
    "plt.title(\"Number of Claims by City\")\n",
    "plt.xlabel(\" \")\n",
    "plt.ylabel(\"Number of Claims\")\n",
    "plt.xticks(rotation=0)\n",
    "plt.show()"
   ]
  },
  {
   "cell_type": "markdown",
   "id": "0b2f3f09",
   "metadata": {},
   "source": [
    "#### Alternative using `seaborn` and `countplot`"
   ]
  },
  {
   "cell_type": "code",
   "execution_count": null,
   "id": "41827320",
   "metadata": {},
   "outputs": [],
   "source": [
    "import seaborn as sns\n",
    "import matplotlib.pyplot as plt\n",
    "\n",
    "plt.figure(figsize=(10,6))\n",
    "sns.countplot(y=df['City'], order=df['City'].value_counts().index, color='steelblue')\n",
    "plt.xlabel(\"Number of Claims\")\n",
    "plt.ylabel(\"City\")\n",
    "plt.title(\"Number of Claims in Each City\")\n",
    "plt.show()"
   ]
  },
  {
   "cell_type": "markdown",
   "id": "b8b18d44",
   "metadata": {},
   "source": [
    "#### Key Insights\n",
    "- Helps identify high-claim regions, which could indicate areas more prone to damage.\n",
    "- If a city has an unusually high number of claims, it may warrant further investigation (e.g., fraud detection or regional weather patterns).\n",
    "- Uneven distributions might suggest geographic risk factors for insurance policies."
   ]
  },
  {
   "cell_type": "markdown",
   "id": "938b76fd",
   "metadata": {},
   "source": [
    "### Differences Between the Two Options\n",
    "#### Library Used\n",
    "- First Version (`plt.bar`): Uses Matplotlib’s `.plot(kind='bar')` function.\n",
    "- Second Version (`sns.countplot`): Uses Seaborn’s `countplot()` function.\n",
    "\n",
    "#### Data Handling\n",
    "- First Version (`value_counts()`):\n",
    "    - Uses `df['City'].value_counts()` to precompute the counts before plotting.\n",
    "    - The `plot(kind='bar')` method then visualizes these precomputed counts.\n",
    "- Second Version (`countplot`):\n",
    "    - Directly counts occurrences within Seaborn without needing `value_counts()`.\n",
    "    - The `order=df['City'].value_counts().index` ensures bars are ordered by frequency.\n",
    "\n",
    "#### Orientation\n",
    "- First Version (`plt.bar`):\n",
    "  - A **vertical bar chart**, meaning cities are placed along the **x-axis**.\n",
    "  - Uses `plt.xticks(rotation=0)` to control the x-axis labels.\n",
    "- Second Version (`sns.countplot`):\n",
    "  - A **horizontal bar chart** (`y=df['City']`).\n",
    "  - Cities are placed on the **y-axis**, making it easier to read when many categories exist.\n",
    "\n",
    "\n",
    "#### Customization\n",
    "- First Version (`plt.bar`):\n",
    "  - Uses `color='skyblue'` for bar color.\n",
    "  - Leaves `xlabel` as empty (`\" \"`) to reduce clutter.\n",
    "- Second Version (`sns.countplot`):\n",
    "  - Uses `color='steelblue'` for bars.\n",
    "  - Explicitly sets `xlabel` and `ylabel` for clarity.\n",
    "\n",
    "\n",
    "\n",
    "#### Styling and Readability\n",
    "- Matplotlib (`plt.bar`):\n",
    "  - Simple and good for quick visualizations.\n",
    "  - Might require more formatting adjustments for aesthetics.\n",
    "- Seaborn (`sns.countplot`):\n",
    "  - Automatically applies **nicer formatting** (like grid lines and spacing).\n",
    "  - More visually appealing out of the box.\n",
    "\n",
    "\n",
    "### Which One to Use?\n",
    "- Use `plt.bar` when: You already precomputed counts and need a quick bar chart.\n",
    "- Use `sns.countplot` when: You want cleaner visuals with automatic counting.\n",
    "\n",
    "### **Final Takeaway**\n",
    "Both methods achieve the **same goal** (plotting claim counts by city), but:\n",
    "- `plt.bar` requires **manual pre-aggregation** (`value_counts()`).\n",
    "- `sns.countplot` **automatically** counts and sorts the categories.\n",
    "- `sns.countplot`'s **horizontal bars** are often more readable when dealing with long category names.\n"
   ]
  },
  {
   "cell_type": "markdown",
   "id": "26d39fdd",
   "metadata": {},
   "source": [
    "### Changing the First Option into a Horizontal Bar Chart\n",
    "To modify the first version (plt.bar) into a horizontal bar chart, you need to use `.plot(kind='barh')` instead of `.plot(kind='bar')`."
   ]
  },
  {
   "cell_type": "code",
   "execution_count": null,
   "id": "322c2bc2",
   "metadata": {},
   "outputs": [],
   "source": [
    "plt.figure(figsize=(10,5))\n",
    "df['City'].value_counts().plot(kind='barh', color='skyblue')\n",
    "plt.title(\"Number of Claims by City\")\n",
    "plt.xlabel(\"Number of Claims\")\n",
    "plt.ylabel(\" \")\n",
    "plt.show()"
   ]
  },
  {
   "cell_type": "markdown",
   "id": "7f5fda94",
   "metadata": {},
   "source": [
    "## Example 2: Bar Chart of Claim Counts by Number of Stories\n",
    "Showing both vertical bar chart (`bar`) and horizontal bar chart (`barh`) options"
   ]
  },
  {
   "cell_type": "code",
   "execution_count": null,
   "id": "1dffb63e",
   "metadata": {},
   "outputs": [],
   "source": [
    "plt.figure(figsize=(8,5))\n",
    "df['Stories'].value_counts().plot(kind='bar', color='lightcoral')\n",
    "plt.title(\"Number of Claims by Number of Stories\")\n",
    "plt.xlabel(\" \")\n",
    "plt.ylabel(\"Number of Claims\")\n",
    "plt.xticks(rotation=0)\n",
    "plt.show()"
   ]
  },
  {
   "cell_type": "code",
   "execution_count": null,
   "id": "3a8e1bc2",
   "metadata": {},
   "outputs": [],
   "source": [
    "plt.figure(figsize=(8,5))\n",
    "df['Stories'].value_counts().plot(kind='barh', color='lightcoral')\n",
    "plt.title(\"Number of Claims by Number of Stories\")\n",
    "plt.xlabel(\" \")\n",
    "plt.ylabel(\"Number of Claims\")\n",
    "plt.xticks(rotation=0)\n",
    "plt.show()"
   ]
  },
  {
   "cell_type": "markdown",
   "id": "fdae7fa1",
   "metadata": {},
   "source": [
    "## **Conclusions on Bar Graphs**\n",
    "Bar graphs are a fundamental visualization tool for comparing categorical data, making them highly useful in accounting and insurance analytics. They allow analysts to:\n",
    "- **Identify patterns and trends** across different categories, such as roofing companies, adjusters, or cities.\n",
    "- **Highlight outliers** by revealing unusually high or low values that may indicate errors, fraud, or significant regional variations.\n",
    "- **Simplify complex datasets** into an easily interpretable format, making data-driven decision-making more efficient.\n",
    "- **Enhance communication of insights** by presenting information in a clear and visually appealing manner.\n",
    "\n",
    "By carefully selecting between **horizontal and vertical orientations** and choosing appropriate **sorting methods**, bar charts can significantly improve the clarity and impact of data presentations."
   ]
  }
 ],
 "metadata": {
  "kernelspec": {
   "display_name": "Python 3 (ipykernel)",
   "language": "python",
   "name": "python3"
  },
  "language_info": {
   "codemirror_mode": {
    "name": "ipython",
    "version": 3
   },
   "file_extension": ".py",
   "mimetype": "text/x-python",
   "name": "python",
   "nbconvert_exporter": "python",
   "pygments_lexer": "ipython3",
   "version": "3.9.7"
  }
 },
 "nbformat": 4,
 "nbformat_minor": 5
}
