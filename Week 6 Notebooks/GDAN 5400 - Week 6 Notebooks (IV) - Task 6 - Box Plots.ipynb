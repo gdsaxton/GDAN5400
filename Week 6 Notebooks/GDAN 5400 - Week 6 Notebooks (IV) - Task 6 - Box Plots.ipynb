{
 "cells": [
  {
   "cell_type": "markdown",
   "id": "1c907206",
   "metadata": {},
   "source": [
    "[![Open In Colab](https://colab.research.google.com/assets/colab-badge.svg)](https://colab.research.google.com/github/gdsaxton/GDAN5400/blob/main/Week%206%20Notebooks/GDAN%205400%20-%20Week%206%20Notebooks%20%28IV%29%20-%20Task%206%20-%20Box%20Plots.ipynb)"
   ]
  },
  {
   "cell_type": "markdown",
   "id": "a58dcaba",
   "metadata": {},
   "source": [
    "This notebook provides a mini-tutorial on understanding and using box plots in Python "
   ]
  },
  {
   "cell_type": "code",
   "execution_count": null,
   "id": "ce9da7f0",
   "metadata": {},
   "outputs": [],
   "source": [
    "%%time\n",
    "import datetime\n",
    "print (\"Current date and time : \", datetime.datetime.now().strftime(\"%Y-%m-%d %H:%M:%S\"), '\\n')"
   ]
  },
  {
   "cell_type": "markdown",
   "id": "9af03858",
   "metadata": {},
   "source": [
    "# Load Packages and Set Working Directory\n",
    "Import several necessary Python packages. We will be using the <a href=\"http://pandas.pydata.org/\">Python Data Analysis Library,</a> or <i>PANDAS</i>, extensively for our data manipulations in this and future tutorials."
   ]
  },
  {
   "cell_type": "code",
   "execution_count": null,
   "id": "20c2d746",
   "metadata": {},
   "outputs": [],
   "source": [
    "import numpy as np\n",
    "import pandas as pd\n",
    "from pandas import DataFrame\n",
    "from pandas import Series"
   ]
  },
  {
   "cell_type": "markdown",
   "id": "6ab477ac",
   "metadata": {},
   "source": [
    "<br>\n",
    "PANDAS allows you to set various options for, among other things, inspecting the data. I like to be able to see all of the columns. Therefore, I typically include this line at the top of all my notebooks."
   ]
  },
  {
   "cell_type": "code",
   "execution_count": null,
   "id": "bdca7e41",
   "metadata": {},
   "outputs": [],
   "source": [
    "#http://pandas.pydata.org/pandas-docs/stable/options.html\n",
    "pd.set_option('display.max_columns', None)\n",
    "pd.set_option('max_colwidth', 250)\n",
    "pd.set_option('display.max_info_columns', 500)"
   ]
  },
  {
   "cell_type": "markdown",
   "id": "8b452531",
   "metadata": {},
   "source": [
    "# Read in Data"
   ]
  },
  {
   "cell_type": "code",
   "execution_count": null,
   "id": "55a6165c",
   "metadata": {},
   "outputs": [],
   "source": [
    "import requests\n",
    "\n",
    "# NOTE: replace `https://github.com/` with `https://raw.githubusercontent.com`\n",
    "# https://github.com/gdsaxton/GDAN5400/blob/main/Coding%20Assignment%201/final_insurance_fraud.xlsx\n",
    "url = 'https://raw.githubusercontent.com/gdsaxton/GDAN5400/main/Coding%20Assignment%203/final_insurance_fraud.xlsx'\n",
    "\n",
    "# Download the file\n",
    "response = requests.get(url)\n",
    "with open('final_insurance_fraud.xlsx', 'wb') as f:\n",
    "    f.write(response.content)\n",
    "\n",
    "# Load the Excel file\n",
    "df = pd.read_excel('final_insurance_fraud.xlsx', engine='openpyxl')\n",
    "\n",
    "print('# of rows:', len(df), '\\n')\n",
    "\n",
    "df[:2]"
   ]
  },
  {
   "cell_type": "markdown",
   "id": "957185e6",
   "metadata": {},
   "source": [
    "# **Mini-Tutorial: Understanding Boxplots in Data Analytics**\n",
    "\n",
    "## **What Is a Boxplot?**\n",
    "A **boxplot** (also called a **box-and-whisker plot**) is a statistical visualization that summarizes the distribution of a dataset. It provides key insights into **central tendency, variability, and outliers** by displaying five main summary statistics:\n",
    "\n",
    "1. **Minimum** – The smallest non-outlier value in the dataset.\n",
    "2. **First Quartile (Q1)** – The 25th percentile (lower quartile), below which 25% of the data falls.\n",
    "3. **Median (Q2)** – The 50th percentile (middle value), which divides the dataset into two equal halves.\n",
    "4. **Third Quartile (Q3)** – The 75th percentile (upper quartile), below which 75% of the data falls.\n",
    "5. **Maximum** – The largest non-outlier value in the dataset.\n",
    "\n",
    "In addition to these, boxplots **highlight outliers**, which are data points that fall significantly outside the expected range.\n",
    "\n",
    "---\n",
    "\n",
    "## **Why Are Boxplots Important?**\n",
    "Boxplots are valuable for data analysts because they provide a **quick and effective way to detect key statistical properties** in a dataset. Here’s why they are useful:\n",
    "\n",
    "### **1. Identifying Outliers**\n",
    "- **Outliers** are extreme values that fall significantly above or below the majority of the data.\n",
    "- In a boxplot, outliers are typically represented as **individual points** outside the \"whiskers\" of the plot.\n",
    "- Detecting outliers is essential for identifying **data entry errors, fraud, or rare but significant events**.\n",
    "\n",
    "**Example**: In an **insurance claims dataset**, extremely high repair costs might indicate **fraudulent claims** or **highly severe damage**.\n",
    "\n",
    "---\n",
    "\n",
    "### **2. Comparing Distributions Across Categories**\n",
    "- Boxplots allow easy comparison of **distributions across different categories**.\n",
    "- By plotting multiple boxplots side by side, analysts can **visually compare variations** in different groups.\n",
    "\n",
    "**Example**: Comparing **repair costs** across different **roofing companies** can help insurers determine which companies **tend to charge higher or lower than the average**.\n",
    "\n",
    "---\n",
    "\n",
    "### **3. Understanding Data Spread and Variability**\n",
    "- The **length of the box** (Interquartile Range, or **IQR**) shows the spread of the **middle 50% of the data**.\n",
    "- If the box is **small**, most values are **close to the median** (low variability).\n",
    "- If the box is **large**, there is **high variability**, meaning data points are spread out.\n",
    "\n",
    "**Example**: If **wind speeds in insurance claims** show a wide spread, it may indicate that claims occur in a variety of weather conditions, rather than just during major storms.\n",
    "\n",
    "---\n",
    "\n",
    "### **4. Detecting Skewness and Symmetry**\n",
    "- If the **median** is in the **center** of the box and the whiskers are approximately **equal in length**, the distribution is **symmetric**.\n",
    "- If the **median** is closer to one side of the box, or if one whisker is much longer, the data is **skewed**.\n",
    "\n",
    "**Example**: If **hail diameter in insurance claims** is **right-skewed**, it suggests that most hail events are small, but a few extreme cases involve **large, damaging hail**.\n",
    "\n",
    "---\n",
    "\n",
    "### **5. Quickly Summarizing Large Datasets**\n",
    "- Boxplots are **compact and information-dense**, making them ideal for summarizing **large datasets** in a single visual.\n",
    "- Unlike histograms, they do not require **choosing bin sizes**, making them a **clean and efficient visualization**.\n",
    "\n",
    "**Example**: If an insurer wants to **compare claim amounts across multiple cities**, a **single boxplot per city** can provide an at-a-glance comparison.\n",
    "\n",
    "---\n",
    "\n",
    "## **Key Takeaways**\n",
    "- **Boxplots summarize distributions** using quartiles, medians, and whiskers.\n",
    "- They **identify outliers**, making them useful for fraud detection or data errors.\n",
    "- Boxplots **compare distributions** across multiple groups easily.\n",
    "- They **show variability and skewness**, helping analysts understand how data is spread.\n",
    "- **In finance and insurance**, boxplots are especially useful for analyzing claims, fraud detection, and market trends.\n",
    "\n",
    "By mastering **boxplots**, data professionals can **quickly assess datasets**, detect anomalies, and make informed decisions based on visual trends.\n"
   ]
  },
  {
   "cell_type": "markdown",
   "id": "07de714b",
   "metadata": {},
   "source": [
    "# **Code Examples: Boxplots for Insurance Claims Data**\n",
    "\n",
    "Now that we've covered **why boxplots are useful**, let's apply them to our dataset (`df`). These visualizations will help us **detect outliers, compare distributions, and assess variability** in key insurance-related variables.\n",
    "\n",
    "---\n",
    "\n",
    "### Example 1: Boxplot of Estimated Repair Costs\n",
    "**Purpose**: This boxplot helps **understand the distribution of repair costs** and detect **outliers that might indicate overbilling or extreme damages**."
   ]
  },
  {
   "cell_type": "code",
   "execution_count": null,
   "id": "ad7dc6f8",
   "metadata": {},
   "outputs": [],
   "source": [
    "import seaborn as sns\n",
    "import matplotlib.pyplot as plt\n",
    "\n",
    "plt.figure(figsize=(8,5))\n",
    "sns.boxplot(x=df['Estimated cost to repair'], color='skyblue')\n",
    "plt.xlabel(\"Estimated Repair Cost ($)\")\n",
    "plt.title(\"Boxplot of Estimated Repair Costs\")\n",
    "plt.show()"
   ]
  },
  {
   "cell_type": "markdown",
   "id": "eb24251b",
   "metadata": {},
   "source": [
    "### Key Insights\n",
    "- Outliers appear as individual points beyond the whiskers.\n",
    "- The median line shows the typical claim amount.\n",
    "- The spread of the box indicates how variable repair costs are."
   ]
  },
  {
   "cell_type": "markdown",
   "id": "311f1598",
   "metadata": {},
   "source": [
    "#### Flipping the Axis in a Boxplot\n",
    "##### **Purpose**\n",
    "This example demonstrates how to **flip the axis of a boxplot** to improve readability, especially when working with **long category names or better visualizing numerical distributions**."
   ]
  },
  {
   "cell_type": "code",
   "execution_count": null,
   "id": "33d09401",
   "metadata": {},
   "outputs": [],
   "source": [
    "plt.figure(figsize=(6,8))\n",
    "sns.boxplot(y=df['Estimated cost to repair'], color='skyblue')\n",
    "plt.xlabel(\"Estimated Repair Cost ($)\")\n",
    "plt.title(\"Boxplot of Estimated Repair Costs (Flipped Axis)\")\n",
    "plt.show()"
   ]
  },
  {
   "cell_type": "markdown",
   "id": "30a34ca2",
   "metadata": {},
   "source": [
    "#### How and Why Would You Flip the Axis?\n",
    "- In a default boxplot, numerical variables are usually plotted horizontally (x-axis).\n",
    "- By flipping the axis (plotting the numerical variable on the y-axis), we may:\n",
    "    - Improve readability if we have longer category names in a categorical variable.\n",
    "    - Enhance visualization for skewed distributions by making the spread easier to compare.\n",
    "   - Ensure better spacing when multiple boxplots are compared together.\n",
    "\n",
    "**Key Insights**\n",
    "- The distribution of repair costs is now plotted vertically, which can help make trends more apparent.\n",
    "- The spread and outliers remain the same, but depending on the dataset and layout of other visuals, this orientation may be preferable."
   ]
  },
  {
   "cell_type": "markdown",
   "id": "87c50bd2",
   "metadata": {},
   "source": [
    "### Example 2: Boxplot Comparing Repair Costs by Roofing Company\n",
    "**Purpose** - This visualization helps identify which roofing companies charge higher or lower than average for repairs and whether some companies have more variability in pricing."
   ]
  },
  {
   "cell_type": "code",
   "execution_count": null,
   "id": "d9bc603c",
   "metadata": {},
   "outputs": [],
   "source": [
    "plt.figure(figsize=(10,6))\n",
    "sns.boxplot(x='Roofing Company', hue='Roofing Company', y='Estimated cost to repair', data=df, palette='Blues_r')\n",
    "plt.xlabel(\"Roofing Company\")\n",
    "plt.ylabel(\"Estimated Repair Cost ($)\")\n",
    "plt.title(\"Distribution of Repair Costs by Roofing Company\")\n",
    "plt.xticks(rotation=45)\n",
    "plt.show()"
   ]
  },
  {
   "cell_type": "markdown",
   "id": "f33102c5",
   "metadata": {},
   "source": [
    "### Key Insights\n",
    "- Are certain roofing companies charging significantly more than others?\n",
    "- Are there outliers, possibly indicating overcharging or fraud?\n",
    "- How spread out are the costs for each company?"
   ]
  },
  {
   "cell_type": "markdown",
   "id": "e3458650",
   "metadata": {},
   "source": [
    "### Example 3: Boxplot of Rainfall in Claims\n",
    "**Purpose** – This boxplot helps us see how much rainfall is associated with insurance claims and whether higher rainfall leads to a spike in claims."
   ]
  },
  {
   "cell_type": "code",
   "execution_count": null,
   "id": "c84ce6dc",
   "metadata": {},
   "outputs": [],
   "source": [
    "plt.figure(figsize=(8,5))\n",
    "sns.boxplot(x=df['Rainfall'], color='purple')\n",
    "plt.xlabel(\"Rainfall (inches)\")\n",
    "plt.title(\"Boxplot of Rainfall Levels in Claims\")\n",
    "plt.show()"
   ]
  },
  {
   "cell_type": "markdown",
   "id": "32cb0f44",
   "metadata": {},
   "source": [
    "#### Key Insights\n",
    "- Does higher rainfall lead to more claims, or are claims spread out across all levels?\n",
    "- Are there extreme rainfall values that could indicate major storm events?\n",
    "- Is the distribution skewed, or is damage occurring at consistent rainfall levels?"
   ]
  },
  {
   "cell_type": "markdown",
   "id": "fee84ae0",
   "metadata": {},
   "source": [
    "### Example 4: Boxplot of Roof Age in Claims\n",
    "**Purpose** – This boxplot helps analyze whether older roofs lead to higher claims and whether newer roofs should have claims at all."
   ]
  },
  {
   "cell_type": "code",
   "execution_count": null,
   "id": "747a9c8d",
   "metadata": {},
   "outputs": [],
   "source": [
    "plt.figure(figsize=(8,5))\n",
    "sns.boxplot(x=df['Age of roof'], color='orange')\n",
    "plt.xlabel(\"Roof Age (Years)\")\n",
    "plt.title(\"Boxplot of Roof Age in Claims\")\n",
    "plt.show()"
   ]
  },
  {
   "cell_type": "markdown",
   "id": "e98f94fc",
   "metadata": {},
   "source": [
    "#### Key Insights\n",
    "- Do older roofs result in higher claim amounts?\n",
    "- Are there outliers, such as very new roofs with claims that could indicate fraud?\n",
    "- How spread out is the age distribution of insured roofs?"
   ]
  },
  {
   "cell_type": "markdown",
   "id": "16ed87e7",
   "metadata": {},
   "source": [
    "## **Conclusion**\n",
    "Boxplots are an essential visualization tool in data analytics, especially when working with financial and insurance datasets. They allow us to:\n",
    "- **Identify outliers** that may indicate fraudulent claims or unusual repair costs.\n",
    "- **Compare distributions** across different categories, such as roofing companies or adjusters.\n",
    "- **Understand variability** in key metrics like wind speed, rainfall, and estimated costs.\n",
    "\n",
    "By learning how to adjust the axis orientation and properly format boxplots, analysts can **enhance interpretability** and **improve decision-making** when analyzing large datasets. Mastering these techniques ensures that insights are **clear, actionable, and effectively communicated** to stakeholders."
   ]
  }
 ],
 "metadata": {
  "kernelspec": {
   "display_name": "Python 3 (ipykernel)",
   "language": "python",
   "name": "python3"
  },
  "language_info": {
   "codemirror_mode": {
    "name": "ipython",
    "version": 3
   },
   "file_extension": ".py",
   "mimetype": "text/x-python",
   "name": "python",
   "nbconvert_exporter": "python",
   "pygments_lexer": "ipython3",
   "version": "3.9.7"
  }
 },
 "nbformat": 4,
 "nbformat_minor": 5
}
