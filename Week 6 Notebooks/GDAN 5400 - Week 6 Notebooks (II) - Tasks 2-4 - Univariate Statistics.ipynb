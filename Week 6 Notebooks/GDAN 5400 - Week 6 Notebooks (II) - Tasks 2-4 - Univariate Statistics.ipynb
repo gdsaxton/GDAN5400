{
 "cells": [
  {
   "cell_type": "markdown",
   "id": "1c907206",
   "metadata": {},
   "source": [
    "[![Open In Colab](https://colab.research.google.com/assets/colab-badge.svg)](https://colab.research.google.com/github/gdsaxton/GDAN5400/blob/main/Week%206%20Notebooks/GDAN%205400%20-%20Week%206%20Notebooks%20%28II%29%20-%20Tasks%202-4%20-%20Univariate%20Statistics.ipynb)"
   ]
  },
  {
   "cell_type": "markdown",
   "id": "a58dcaba",
   "metadata": {},
   "source": [
    "This notebook provides a mini-tutorial on univariate statistics in Python "
   ]
  },
  {
   "cell_type": "code",
   "execution_count": null,
   "id": "ce9da7f0",
   "metadata": {},
   "outputs": [],
   "source": [
    "%%time\n",
    "import datetime\n",
    "print (\"Current date and time : \", datetime.datetime.now().strftime(\"%Y-%m-%d %H:%M:%S\"), '\\n')"
   ]
  },
  {
   "cell_type": "markdown",
   "id": "9af03858",
   "metadata": {},
   "source": [
    "# Load Packages and Set Working Directory\n",
    "Import several necessary Python packages. We will be using the <a href=\"http://pandas.pydata.org/\">Python Data Analysis Library,</a> or <i>PANDAS</i>, extensively for our data manipulations in this and future tutorials."
   ]
  },
  {
   "cell_type": "code",
   "execution_count": null,
   "id": "20c2d746",
   "metadata": {},
   "outputs": [],
   "source": [
    "import numpy as np\n",
    "import pandas as pd\n",
    "from pandas import DataFrame\n",
    "from pandas import Series"
   ]
  },
  {
   "cell_type": "markdown",
   "id": "6ab477ac",
   "metadata": {},
   "source": [
    "<br>\n",
    "PANDAS allows you to set various options for, among other things, inspecting the data. I like to be able to see all of the columns. Therefore, I typically include this line at the top of all my notebooks."
   ]
  },
  {
   "cell_type": "code",
   "execution_count": null,
   "id": "bdca7e41",
   "metadata": {},
   "outputs": [],
   "source": [
    "#http://pandas.pydata.org/pandas-docs/stable/options.html\n",
    "pd.set_option('display.max_columns', None)\n",
    "pd.set_option('max_colwidth', 250)\n",
    "pd.set_option('display.max_info_columns', 500)"
   ]
  },
  {
   "cell_type": "markdown",
   "id": "8b452531",
   "metadata": {},
   "source": [
    "# Read in Data"
   ]
  },
  {
   "cell_type": "code",
   "execution_count": null,
   "id": "55a6165c",
   "metadata": {},
   "outputs": [],
   "source": [
    "import requests\n",
    "\n",
    "# NOTE: replace `https://github.com/` with `https://raw.githubusercontent.com`\n",
    "# https://github.com/gdsaxton/GDAN5400/blob/main/Coding%20Assignment%201/final_insurance_fraud.xlsx\n",
    "url = 'https://raw.githubusercontent.com/gdsaxton/GDAN5400/main/Coding%20Assignment%203/final_insurance_fraud.xlsx'\n",
    "\n",
    "# Download the file\n",
    "response = requests.get(url)\n",
    "with open('final_insurance_fraud.xlsx', 'wb') as f:\n",
    "    f.write(response.content)\n",
    "\n",
    "# Load the Excel file\n",
    "df = pd.read_excel('final_insurance_fraud.xlsx', engine='openpyxl')\n",
    "\n",
    "print('# of rows:', len(df), '\\n')\n",
    "\n",
    "df[:2]"
   ]
  },
  {
   "cell_type": "markdown",
   "id": "1a93d80f",
   "metadata": {},
   "source": [
    "# Mini-Tutorial: Understanding Univariate Statistics in Data Analytics\n",
    "\n",
    "## **Lesson Objectives**\n",
    "By the end of this lesson, students will:\n",
    "1. Understand the concept and application of basic univariate statistics and probability.\n",
    "2. Learn how to calculate and interpret key univariate statistics: **mean, median, mode, minimum, maximum, range, variance, and standard deviation**.\n",
    "\n",
    "---\n",
    "\n",
    "## **What Are Univariate Statistics?**\n",
    "Univariate statistics refer to the analysis of a **single variable** in a dataset. The term \"univariate\" comes from \"uni-\" (one) and \"variate\" (variable), meaning that these statistics describe, summarize, and interpret the characteristics of one variable at a time.\n",
    "\n",
    "In data analytics, univariate statistics help analysts understand the **distribution, central tendency, and variability** of data. They form the foundation for identifying patterns, detecting anomalies, and making data-driven decisions.\n",
    "\n",
    "---\n",
    "\n",
    "## **Why Are Univariate Statistics Important?**\n",
    "Univariate statistics are useful for several reasons:\n",
    "\n",
    "### **1. Summarizing Large Datasets**\n",
    "Real-world datasets can contain thousands or millions of observations. Univariate statistics allow us to **summarize complex data** into meaningful insights. For example, rather than looking at every transaction in a financial dataset, we can quickly compute the **average transaction amount** to understand general spending behavior.\n",
    "\n",
    "### **2. Identifying Central Tendencies**\n",
    "Univariate statistics help pinpoint the **\"center\" of a dataset** using measures like:\n",
    "- **Mean (Average)** – The arithmetic average of all values.\n",
    "- **Median** – The middle value, which is useful for skewed data.\n",
    "- **Mode** – The most frequently occurring value.\n",
    "\n",
    "For example, in an **insurance claims dataset**, knowing the **median claim amount** helps companies set expectations for typical payouts.\n",
    "\n",
    "### **3. Measuring Variability and Risk**\n",
    "Understanding how **spread out** data is can reveal patterns or inconsistencies:\n",
    "- **Minimum & Maximum** – The smallest and largest values, helping to spot outliers.\n",
    "- **Range** – The difference between max and min values, showing data dispersion.\n",
    "- **Variance & Standard Deviation** – Indicate how much individual values deviate from the mean.\n",
    "\n",
    "For instance, an **insurance company** may analyze the **standard deviation of repair costs** to assess risk and pricing strategies.\n",
    "\n",
    "### **4. Detecting Anomalies and Outliers**\n",
    "Outliers can be **data errors, fraudulent activities, or special cases** that require further investigation. By analyzing:\n",
    "- **Extremely high or low values**\n",
    "- **Unusual gaps in data distributions**\n",
    "\n",
    "companies can identify **potential fraud in financial transactions** or **misreported expenses in accounting records**.\n",
    "\n",
    "### **5. Supporting Decision-Making**\n",
    "Univariate statistics form the backbone of **data-driven decision-making**. For example:\n",
    "- An audit team examining expense reports might look at **variance in spending patterns**.\n",
    "- A financial analyst predicting future sales might first analyze **historical averages**.\n",
    "- A risk management team might assess **standard deviations in investment returns** to determine stability.\n",
    "\n",
    "### **6. Preparing for More Complex Analyses**\n",
    "Before diving into advanced analytics like **predictive modeling, machine learning, or hypothesis testing**, analysts must first **explore and clean their data** using univariate statistics. \n",
    "\n",
    "For example:\n",
    "- A **skewed distribution** might indicate the need for **log transformations** before regression analysis.\n",
    "- A **high standard deviation** might suggest the presence of **multiple underlying factors** affecting variability.\n",
    "\n",
    "---\n",
    "\n",
    "### **Conclusion**\n",
    "Univariate statistics are a **fundamental tool in data analytics**. They help professionals summarize data, detect patterns, find anomalies, and make informed decisions. Mastering these concepts ensures that data analysts, accountants, and financial professionals **understand their data before applying more advanced analytical techniques**.\n",
    "\n",
    "By using univariate statistics effectively, analysts can **turn raw data into actionable insights** that drive better business strategies.\n",
    "\n",
    "---"
   ]
  },
  {
   "cell_type": "markdown",
   "id": "1708aab6",
   "metadata": {},
   "source": [
    "### Code Examples: Calculating Basic Statistics using `Estimated cost to repair`"
   ]
  },
  {
   "cell_type": "code",
   "execution_count": null,
   "id": "bd1e9cfe",
   "metadata": {},
   "outputs": [],
   "source": [
    "# Calculate basic statistics for 'Estimated cost to repair'\n",
    "mean_value = df['Estimated cost to repair'].mean()\n",
    "median_value = df['Estimated cost to repair'].median()\n",
    "mode_value = df['Estimated cost to repair'].mode()[0]\n",
    "min_value = df['Estimated cost to repair'].min()\n",
    "max_value = df['Estimated cost to repair'].max()\n",
    "range_value = max_value - min_value\n",
    "std_dev = df['Estimated cost to repair'].std()\n",
    "variance = df['Estimated cost to repair'].var()"
   ]
  },
  {
   "cell_type": "markdown",
   "id": "21e92feb",
   "metadata": {},
   "source": [
    "### Print results"
   ]
  },
  {
   "cell_type": "code",
   "execution_count": null,
   "id": "9bda1b56",
   "metadata": {},
   "outputs": [],
   "source": [
    "print(f\"Mean: ${mean_value:.2f}\")\n",
    "print(f\"Median: ${median_value:.2f}\")\n",
    "print(f\"Mode: ${mode_value}\")\n",
    "print(f\"Min: ${min_value:.2f}\")\n",
    "print(f\"Max: ${max_value:.2f}\")\n",
    "print(f\"Range: ${range_value:.2f}\")\n",
    "print(f\"Standard Deviation: ${std_dev:.2f}\")\n",
    "print(f\"Variance: ${variance:.2f}\")"
   ]
  },
  {
   "cell_type": "markdown",
   "id": "1af482a4",
   "metadata": {},
   "source": [
    "###  Summary of Different Univariate Statistics Using `Estimated cost to repair` \n",
    "\n",
    "Let's analyze **Estimated cost to repair** using different univariate statistics.\n",
    "\n",
    "| **Statistic**  | **Definition** | **Use in Accounting & Analytics** |\n",
    "|---------------|---------------|------------------------------------|\n",
    "| **Mean (Average)** | The sum of all values divided by the count. | Helps calculate the **average claim cost** for insurance companies. |\n",
    "| **Median** | The middle value when data is sorted. | Useful for **skewed distributions** (e.g., fraud cases with extreme values). |\n",
    "| **Mode** | The most frequently occurring value. | Identifies the **most common insurance claim amount**. |\n",
    "| **Minimum (Min)** | The smallest value in the dataset. | Useful for detecting **low-end outliers** in financial reports. |\n",
    "| **Maximum (Max)** | The largest value in the dataset. | Helps flag **unusually high claim amounts** that may indicate fraud. |\n",
    "| **Range** | Difference between max and min values. | Shows the **spread of claim amounts** in different regions. |\n",
    "| **Variance** | The average squared deviation from the mean. | Helps quantify **risk or variability** in financial transactions. |\n",
    "| **Standard Deviation (Std Dev)** | The square root of variance, measuring spread. | Important for **risk assessment** and understanding volatility. |\n",
    "\n",
    "---"
   ]
  }
 ],
 "metadata": {
  "kernelspec": {
   "display_name": "Python 3 (ipykernel)",
   "language": "python",
   "name": "python3"
  },
  "language_info": {
   "codemirror_mode": {
    "name": "ipython",
    "version": 3
   },
   "file_extension": ".py",
   "mimetype": "text/x-python",
   "name": "python",
   "nbconvert_exporter": "python",
   "pygments_lexer": "ipython3",
   "version": "3.9.7"
  }
 },
 "nbformat": 4,
 "nbformat_minor": 5
}
