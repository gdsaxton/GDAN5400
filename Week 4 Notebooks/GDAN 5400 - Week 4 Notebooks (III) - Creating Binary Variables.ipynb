{
 "cells": [
  {
   "cell_type": "markdown",
   "id": "1c907206",
   "metadata": {},
   "source": [
    "[![Open In Colab](https://colab.research.google.com/assets/colab-badge.svg)](https://colab.research.google.com/github/gdsaxton/GDAN5400/blob/main/Week%204%20Notebooks/GDAN%205400%20-%20Week%204%20Notebooks%20%28III%29%20-%20Creating%20Binary%20Variables.ipynb)"
   ]
  },
  {
   "cell_type": "markdown",
   "id": "a58dcaba",
   "metadata": {},
   "source": [
    "This notebook provides recipes for creating binary variables in Python "
   ]
  },
  {
   "cell_type": "code",
   "execution_count": null,
   "id": "ce9da7f0",
   "metadata": {},
   "outputs": [],
   "source": [
    "%%time\n",
    "import datetime\n",
    "print (\"Current date and time : \", datetime.datetime.now().strftime(\"%Y-%m-%d %H:%M:%S\"), '\\n')"
   ]
  },
  {
   "cell_type": "markdown",
   "id": "9af03858",
   "metadata": {},
   "source": [
    "# Load Packages and Set Working Directory\n",
    "Import several necessary Python packages. We will be using the <a href=\"http://pandas.pydata.org/\">Python Data Analysis Library,</a> or <i>PANDAS</i>, extensively for our data manipulations in this and future tutorials."
   ]
  },
  {
   "cell_type": "code",
   "execution_count": null,
   "id": "20c2d746",
   "metadata": {},
   "outputs": [],
   "source": [
    "import numpy as np\n",
    "import pandas as pd\n",
    "from pandas import DataFrame\n",
    "from pandas import Series"
   ]
  },
  {
   "cell_type": "markdown",
   "id": "6ab477ac",
   "metadata": {},
   "source": [
    "<br>\n",
    "PANDAS allows you to set various options for, among other things, inspecting the data. I like to be able to see all of the columns. Therefore, I typically include this line at the top of all my notebooks."
   ]
  },
  {
   "cell_type": "code",
   "execution_count": null,
   "id": "bdca7e41",
   "metadata": {},
   "outputs": [],
   "source": [
    "#http://pandas.pydata.org/pandas-docs/stable/options.html\n",
    "pd.set_option('display.max_columns', None)\n",
    "pd.set_option('max_colwidth', 250)\n",
    "pd.set_option('display.max_info_columns', 500)"
   ]
  },
  {
   "cell_type": "markdown",
   "id": "8b452531",
   "metadata": {},
   "source": [
    "# Read in Data"
   ]
  },
  {
   "cell_type": "code",
   "execution_count": null,
   "id": "55a6165c",
   "metadata": {},
   "outputs": [],
   "source": [
    "import pandas as pd\n",
    "import requests\n",
    "\n",
    "# NOTE: replace `https://github.com/` with `https://raw.githubusercontent.com`\n",
    "# https://github.com/gdsaxton/GDAN5400/blob/main/Coding%20Assignment%201/final_insurance_fraud.xlsx\n",
    "url = 'https://raw.githubusercontent.com/gdsaxton/GDAN5400/main/Coding%20Assignment%201/final_insurance_fraud.xlsx'\n",
    "\n",
    "# Download the file\n",
    "response = requests.get(url)\n",
    "with open('final_insurance_fraud.xlsx', 'wb') as f:\n",
    "    f.write(response.content)\n",
    "\n",
    "# Load the Excel file\n",
    "df = pd.read_excel('final_insurance_fraud.xlsx', engine='openpyxl')\n",
    "\n",
    "df.head()"
   ]
  },
  {
   "cell_type": "code",
   "execution_count": null,
   "id": "7db5ad45",
   "metadata": {},
   "outputs": [],
   "source": [
    "#APPLY DATA CLEANING OPERATIONS FROM CODING ASSIGNMENT 1\n",
    "df = df[df['Policy Number'].notnull()]\n",
    "df['Estimated cost to repair'] = df['Estimated cost to repair'].fillna(0)\n",
    "df['Estimated cost to replace'] = df['Estimated cost to replace'].fillna(0)"
   ]
  },
  {
   "cell_type": "markdown",
   "id": "25ce74df",
   "metadata": {},
   "source": [
    "# Creating Binary Variables\n",
    "- Create binary variable from `Stories` column to indicate multiple stories"
   ]
  },
  {
   "cell_type": "code",
   "execution_count": null,
   "id": "1bf2f340",
   "metadata": {},
   "outputs": [],
   "source": [
    "df['Stories'].value_counts()"
   ]
  },
  {
   "cell_type": "code",
   "execution_count": null,
   "id": "5007d9d0",
   "metadata": {},
   "outputs": [],
   "source": [
    "#Option 1: lambda function\n",
    "df['multiple_stories'] = df['Stories'].apply(lambda x: 1 if x > 1 else 0)\n",
    "df['multiple_stories'].value_counts()"
   ]
  },
  {
   "cell_type": "code",
   "execution_count": null,
   "id": "1fa6eb8b",
   "metadata": {},
   "outputs": [],
   "source": [
    "#Option 2: Custom function\n",
    "def classify_stories(stories, threshold=1):\n",
    "    return 1 if stories > threshold else 0"
   ]
  },
  {
   "cell_type": "code",
   "execution_count": null,
   "id": "0bf160e9",
   "metadata": {},
   "outputs": [],
   "source": [
    "df['multiple_stories'] = df['Stories'].apply(classify_stories)\n",
    "df['multiple_stories'].value_counts()"
   ]
  },
  {
   "cell_type": "code",
   "execution_count": null,
   "id": "98a45c13",
   "metadata": {},
   "outputs": [],
   "source": [
    "#Option 2: Apply direct Boolean function and convert to `int` format\n",
    "df['multiple_stories']  = (df['Stories'] > 1).apply(int)\n",
    "df['multiple_stories'].value_counts()"
   ]
  },
  {
   "cell_type": "code",
   "execution_count": null,
   "id": "99fdd5d8",
   "metadata": {},
   "outputs": [],
   "source": [
    "#Option 2 (alternative): using `astype()` instead of 'apply()'\n",
    "df['multiple_stories']  = (df['Stories'] > 1).astype(int)\n",
    "df['multiple_stories'].value_counts()"
   ]
  },
  {
   "cell_type": "code",
   "execution_count": null,
   "id": "9cf83b85",
   "metadata": {},
   "outputs": [],
   "source": [
    "#Showing what the Boolean operation looks like without applying `int()`\n",
    "(df['Stories'] > 1)"
   ]
  },
  {
   "cell_type": "code",
   "execution_count": null,
   "id": "7e1d9eb0",
   "metadata": {},
   "outputs": [],
   "source": [
    "#Option 4: Using `np.where()` from NumPy\n",
    "df['multiple_stories']  = np.where(df['Stories'] > 1, 1, 0)\n",
    "df['multiple_stories'].value_counts()"
   ]
  },
  {
   "cell_type": "markdown",
   "id": "e490c7a6",
   "metadata": {},
   "source": [
    "#### Additional example"
   ]
  },
  {
   "cell_type": "code",
   "execution_count": null,
   "id": "50bacbd3",
   "metadata": {},
   "outputs": [],
   "source": [
    "#Purpose: This categorizes hail diameter into high and low, simplifying analyses.\n",
    "df['High_Hail_Flag'] = df['Hail Diameter'].apply(lambda x: 1 if x > 1.0 else 0)\n",
    "df[['Hail Diameter', 'High_Hail_Flag']].head()"
   ]
  }
 ],
 "metadata": {
  "kernelspec": {
   "display_name": "Python 3 (ipykernel)",
   "language": "python",
   "name": "python3"
  },
  "language_info": {
   "codemirror_mode": {
    "name": "ipython",
    "version": 3
   },
   "file_extension": ".py",
   "mimetype": "text/x-python",
   "name": "python",
   "nbconvert_exporter": "python",
   "pygments_lexer": "ipython3",
   "version": "3.9.7"
  }
 },
 "nbformat": 4,
 "nbformat_minor": 5
}
