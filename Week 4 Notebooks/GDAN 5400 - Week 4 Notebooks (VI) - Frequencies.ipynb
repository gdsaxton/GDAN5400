{
 "cells": [
  {
   "cell_type": "markdown",
   "id": "1c907206",
   "metadata": {},
   "source": [
    "[![Open In Colab](https://colab.research.google.com/assets/colab-badge.svg)](https://colab.research.google.com/github/gdsaxton/GDAN5400/blob/main/Week%204%20Notebooks/GDAN%205400%20-%20Week%204%20Notebooks%20%28VI%29%20-%20Frequencies.ipynb)"
   ]
  },
  {
   "cell_type": "markdown",
   "id": "a58dcaba",
   "metadata": {},
   "source": [
    "This notebook provides recipes for showing variable frequencies in PANDAS dataframes"
   ]
  },
  {
   "cell_type": "code",
   "execution_count": null,
   "id": "ce9da7f0",
   "metadata": {},
   "outputs": [],
   "source": [
    "%%time\n",
    "import datetime\n",
    "print (\"Current date and time : \", datetime.datetime.now().strftime(\"%Y-%m-%d %H:%M:%S\"), '\\n')"
   ]
  },
  {
   "cell_type": "markdown",
   "id": "9af03858",
   "metadata": {},
   "source": [
    "# Load Packages and Set Working Directory\n",
    "Import several necessary Python packages. We will be using the <a href=\"http://pandas.pydata.org/\">Python Data Analysis Library,</a> or <i>PANDAS</i>, extensively for our data manipulations in this and future tutorials."
   ]
  },
  {
   "cell_type": "code",
   "execution_count": null,
   "id": "20c2d746",
   "metadata": {},
   "outputs": [],
   "source": [
    "import numpy as np\n",
    "import pandas as pd\n",
    "from pandas import DataFrame\n",
    "from pandas import Series"
   ]
  },
  {
   "cell_type": "markdown",
   "id": "6ab477ac",
   "metadata": {},
   "source": [
    "<br>\n",
    "PANDAS allows you to set various options for, among other things, inspecting the data. I like to be able to see all of the columns. Therefore, I typically include this line at the top of all my notebooks."
   ]
  },
  {
   "cell_type": "code",
   "execution_count": null,
   "id": "bdca7e41",
   "metadata": {},
   "outputs": [],
   "source": [
    "#http://pandas.pydata.org/pandas-docs/stable/options.html\n",
    "pd.set_option('display.max_columns', None)\n",
    "pd.set_option('max_colwidth', 250)\n",
    "pd.set_option('display.max_info_columns', 500)"
   ]
  },
  {
   "cell_type": "markdown",
   "id": "8b452531",
   "metadata": {},
   "source": [
    "# Read in Data"
   ]
  },
  {
   "cell_type": "code",
   "execution_count": null,
   "id": "55a6165c",
   "metadata": {},
   "outputs": [],
   "source": [
    "import pandas as pd\n",
    "import requests\n",
    "\n",
    "# NOTE: replace `https://github.com/` with `https://raw.githubusercontent.com`\n",
    "# https://github.com/gdsaxton/GDAN5400/blob/main/Coding%20Assignment%201/final_insurance_fraud.xlsx\n",
    "url = 'https://raw.githubusercontent.com/gdsaxton/GDAN5400/main/Coding%20Assignment%201/final_insurance_fraud.xlsx'\n",
    "\n",
    "# Download the file\n",
    "response = requests.get(url)\n",
    "with open('final_insurance_fraud.xlsx', 'wb') as f:\n",
    "    f.write(response.content)\n",
    "\n",
    "# Load the Excel file\n",
    "df = pd.read_excel('final_insurance_fraud.xlsx', engine='openpyxl')\n",
    "\n",
    "df.head()"
   ]
  },
  {
   "cell_type": "code",
   "execution_count": null,
   "id": "7db5ad45",
   "metadata": {},
   "outputs": [],
   "source": [
    "#APPLY DATA CLEANING OPERATIONS FROM CODING ASSIGNMENT 1\n",
    "df = df[df['Policy Number'].notnull()]\n",
    "df['Estimated cost to repair'] = df['Estimated cost to repair'].fillna(0)\n",
    "df['Estimated cost to replace'] = df['Estimated cost to replace'].fillna(0)"
   ]
  },
  {
   "cell_type": "markdown",
   "id": "25ce74df",
   "metadata": {},
   "source": [
    "# Column Frequencies in PANDAS"
   ]
  },
  {
   "cell_type": "markdown",
   "id": "f5eb8013",
   "metadata": {},
   "source": [
    "**[ChatGPT prompt]** `How can I get frequencies in PANDAS?`"
   ]
  },
  {
   "cell_type": "markdown",
   "id": "477e7978",
   "metadata": {},
   "source": [
    "### Using `value_counts()` in Pandas\n",
    "\n",
    "The `value_counts()` method is a simple way to calculate the frequency of unique values in a pandas Series or DataFrame column. It returns the counts of unique values in descending order by default.\n",
    "\n",
    "This is the best method when you want frequencies for a single column.\n",
    "\n",
    "---\n",
    "\n",
    "#### **1. Basic Usage**\n",
    "\n",
    "`value_counts()` counts the occurrences of each unique value in the column.\n",
    "\n",
    "```python\n",
    "# Example DataFrame\n",
    "import pandas as pd\n",
    "\n",
    "data = {\n",
    "    'Industry': ['Retail', 'Tech', 'Finance', 'Retail', 'Tech', 'Finance', 'Retail', 'Tech']\n",
    "}\n",
    "df = pd.DataFrame(data)\n",
    "```\n",
    "\n",
    "Using `value_counts()`\n",
    "```python\n",
    "print(df['Industry'].value_counts())\n",
    "```\n",
    "\n",
    "\n",
    "#### 2. Normalize to Get Proportions\n",
    "You can normalize the counts to get proportions instead of absolute counts by setting `normalize=True`.\n",
    "```python\n",
    "print(df['Industry'].value_counts(normalize=True))\n",
    "```\n",
    "\n",
    "\n",
    "#### 3. Include Missing Values\n",
    "By default, `value_counts()` excludes `NaN` values. You can include them by setting `dropna=False`.\n",
    "```python\n",
    "data_with_nan = {\n",
    "    'Industry': ['Retail', 'Tech', 'Finance', 'Retail', 'Tech', None, 'Retail', 'Tech']\n",
    "}\n",
    "\n",
    "df_with_nan = pd.DataFrame(data_with_nan)\n",
    "\n",
    "print(df_with_nan['Industry'].value_counts(dropna=False))\n",
    "```\n",
    "\n",
    "#### 4. Sorting the Output\n",
    "You can sort the results in ascending order by setting `ascending=True`.\n",
    "```python\n",
    "print(df['Industry'].value_counts(ascending=True))\n",
    "```"
   ]
  },
  {
   "cell_type": "code",
   "execution_count": null,
   "id": "f2396426",
   "metadata": {},
   "outputs": [],
   "source": [
    "# Frequency of occupations\n",
    "df['Occupation'].value_counts()"
   ]
  },
  {
   "cell_type": "code",
   "execution_count": null,
   "id": "b2c7db51",
   "metadata": {},
   "outputs": [],
   "source": [
    "# Frequency (normalized)\n",
    "df['Occupation'].value_counts(normalize=True)"
   ]
  },
  {
   "cell_type": "code",
   "execution_count": null,
   "id": "b792728c",
   "metadata": {},
   "outputs": [],
   "source": [
    "# Frequency including NaN values\n",
    "df['Occupation'].value_counts(dropna=False)"
   ]
  },
  {
   "cell_type": "code",
   "execution_count": null,
   "id": "f85cb575",
   "metadata": {},
   "outputs": [],
   "source": [
    "# Frequency sorting on frequencies – ascending values\n",
    "df['Occupation'].value_counts(ascending=True)"
   ]
  },
  {
   "cell_type": "code",
   "execution_count": null,
   "id": "b4c8afd9",
   "metadata": {},
   "outputs": [],
   "source": [
    "# Frequency sorting on frequencies – descending values\n",
    "df['Occupation'].value_counts(ascending=False)"
   ]
  },
  {
   "cell_type": "code",
   "execution_count": null,
   "id": "dcfbee39",
   "metadata": {},
   "outputs": [],
   "source": [
    "# Frequency sorting on occupation\n",
    "df['Occupation'].value_counts().sort_index()"
   ]
  },
  {
   "cell_type": "markdown",
   "id": "ed675104",
   "metadata": {},
   "source": [
    "# Summary of Options:\n",
    "- Basic Counts: `df['Column_Name'].value_counts()`\n",
    "- Normalized Counts: `df['Column_Name'].value_counts(normalize=True)`\n",
    "- Include NaNs: `df['Column_Name'].value_counts(dropna=False)`\n",
    "- Sort Ascending: `df['Column_Name'].value_counts(ascending=True)`"
   ]
  }
 ],
 "metadata": {
  "kernelspec": {
   "display_name": "Python 3 (ipykernel)",
   "language": "python",
   "name": "python3"
  },
  "language_info": {
   "codemirror_mode": {
    "name": "ipython",
    "version": 3
   },
   "file_extension": ".py",
   "mimetype": "text/x-python",
   "name": "python",
   "nbconvert_exporter": "python",
   "pygments_lexer": "ipython3",
   "version": "3.9.7"
  }
 },
 "nbformat": 4,
 "nbformat_minor": 5
}
