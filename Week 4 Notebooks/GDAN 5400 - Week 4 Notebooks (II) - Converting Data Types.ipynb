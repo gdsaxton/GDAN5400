{
 "cells": [
  {
   "cell_type": "markdown",
   "id": "1c907206",
   "metadata": {},
   "source": [
    "[![Open In Colab](https://colab.research.google.com/assets/colab-badge.svg)](https://colab.research.google.com/github/gdsaxton/GDAN5400/blob/main/Week%204%20Notebooks/GDAN%205400%20-%20Week%204%20Notebooks%20%28II%29%20-%20Converting%20Data%20Types.ipynb)"
   ]
  },
  {
   "cell_type": "markdown",
   "id": "a58dcaba",
   "metadata": {},
   "source": [
    "This notebook provides recipes for converting variables' data types in Python "
   ]
  },
  {
   "cell_type": "code",
   "execution_count": null,
   "id": "ce9da7f0",
   "metadata": {},
   "outputs": [],
   "source": [
    "%%time\n",
    "import datetime\n",
    "print (\"Current date and time : \", datetime.datetime.now().strftime(\"%Y-%m-%d %H:%M:%S\"), '\\n')"
   ]
  },
  {
   "cell_type": "markdown",
   "id": "9af03858",
   "metadata": {},
   "source": [
    "# Load Packages and Set Working Directory\n",
    "Import several necessary Python packages. We will be using the <a href=\"http://pandas.pydata.org/\">Python Data Analysis Library,</a> or <i>PANDAS</i>, extensively for our data manipulations in this and future tutorials."
   ]
  },
  {
   "cell_type": "code",
   "execution_count": null,
   "id": "20c2d746",
   "metadata": {},
   "outputs": [],
   "source": [
    "import numpy as np\n",
    "import pandas as pd\n",
    "from pandas import DataFrame\n",
    "from pandas import Series"
   ]
  },
  {
   "cell_type": "markdown",
   "id": "6ab477ac",
   "metadata": {},
   "source": [
    "<br>\n",
    "PANDAS allows you to set various options for, among other things, inspecting the data. I like to be able to see all of the columns. Therefore, I typically include this line at the top of all my notebooks."
   ]
  },
  {
   "cell_type": "code",
   "execution_count": null,
   "id": "bdca7e41",
   "metadata": {},
   "outputs": [],
   "source": [
    "#http://pandas.pydata.org/pandas-docs/stable/options.html\n",
    "pd.set_option('display.max_columns', None)\n",
    "pd.set_option('max_colwidth', 250)\n",
    "pd.set_option('display.max_info_columns', 500)"
   ]
  },
  {
   "cell_type": "markdown",
   "id": "8b452531",
   "metadata": {},
   "source": [
    "# Read in Data"
   ]
  },
  {
   "cell_type": "code",
   "execution_count": null,
   "id": "55a6165c",
   "metadata": {},
   "outputs": [],
   "source": [
    "import pandas as pd\n",
    "import requests\n",
    "\n",
    "# NOTE: replace `https://github.com/` with `https://raw.githubusercontent.com`\n",
    "# https://github.com/gdsaxton/GDAN5400/blob/main/Coding%20Assignment%201/final_insurance_fraud.xlsx\n",
    "url = 'https://raw.githubusercontent.com/gdsaxton/GDAN5400/main/Coding%20Assignment%201/final_insurance_fraud.xlsx'\n",
    "\n",
    "# Download the file\n",
    "response = requests.get(url)\n",
    "with open('final_insurance_fraud.xlsx', 'wb') as f:\n",
    "    f.write(response.content)\n",
    "\n",
    "# Load the Excel file\n",
    "df = pd.read_excel('final_insurance_fraud.xlsx', engine='openpyxl')\n",
    "\n",
    "df.head()"
   ]
  },
  {
   "cell_type": "code",
   "execution_count": null,
   "id": "ab727e81",
   "metadata": {},
   "outputs": [],
   "source": [
    "#APPLY DATA CLEANING OPERATIONS FROM CODING ASSIGNMENT 1\n",
    "df = df[df['Policy Number'].notnull()]\n",
    "df['Estimated cost to repair'] = df['Estimated cost to repair'].fillna(0)\n",
    "df['Estimated cost to replace'] = df['Estimated cost to replace'].fillna(0)"
   ]
  },
  {
   "cell_type": "markdown",
   "id": "0a196189",
   "metadata": {},
   "source": [
    "# Main Data Types in PANDAS"
   ]
  },
  {
   "cell_type": "markdown",
   "id": "ddf93df2",
   "metadata": {},
   "source": [
    "**[ChatGPT prompt]** `What are the main data types in Python?`"
   ]
  },
  {
   "cell_type": "markdown",
   "id": "25ce74df",
   "metadata": {},
   "source": [
    "# Check Our Current Data Types \n",
    "First, let us check what the data types for all of our variables"
   ]
  },
  {
   "cell_type": "code",
   "execution_count": null,
   "id": "88e36c01",
   "metadata": {},
   "outputs": [],
   "source": [
    "df.dtypes"
   ]
  },
  {
   "cell_type": "markdown",
   "id": "da6702a3",
   "metadata": {},
   "source": [
    "<br>Recall that if we want data type plus additional information, we can use `.info()`"
   ]
  },
  {
   "cell_type": "code",
   "execution_count": null,
   "id": "07bd63f0",
   "metadata": {},
   "outputs": [],
   "source": [
    "df.info()"
   ]
  },
  {
   "cell_type": "markdown",
   "id": "afa63856",
   "metadata": {},
   "source": [
    "# Examples\n",
    "### Convert `Date&Time` column to `datetime` format"
   ]
  },
  {
   "cell_type": "code",
   "execution_count": null,
   "id": "57ce69f8",
   "metadata": {},
   "outputs": [],
   "source": [
    "df['Date&Time'].sample(5)"
   ]
  },
  {
   "cell_type": "markdown",
   "id": "d0b671f6",
   "metadata": {},
   "source": [
    "Note that we need to know the precise format for our data. \n",
    "\n",
    "We add the `format` option with the command `'%m/%d/%y %H:%M'` to match the specific format of our data."
   ]
  },
  {
   "cell_type": "markdown",
   "id": "587904f9",
   "metadata": {},
   "source": [
    "To get help:"
   ]
  },
  {
   "cell_type": "code",
   "execution_count": null,
   "id": "e3705edc",
   "metadata": {},
   "outputs": [],
   "source": [
    "pd.to_datetime?"
   ]
  },
  {
   "cell_type": "markdown",
   "id": "9c1ee798",
   "metadata": {},
   "source": [
    "Or, via **ChatGPT**: `My Date&Time data are in this format. How can I convert it to datetime? 2019-09-12 02:45:00`\n",
    "\n",
    "**Response:** `Your Date&Time data is already in a standard ISO 8601 datetime format (YYYY-MM-DD HH:MM:SS), which Pandas can easily recognize. Here's how you can convert it to a datetime format:`"
   ]
  },
  {
   "cell_type": "code",
   "execution_count": null,
   "id": "c436615b",
   "metadata": {},
   "outputs": [],
   "source": [
    "df['Date&Time'] = pd.to_datetime(df['Date&Time'])\n",
    "df['Date&Time'][:5]"
   ]
  },
  {
   "cell_type": "markdown",
   "id": "b0ef088b",
   "metadata": {},
   "source": [
    "**Response:** ``If you want to use the **`format`** option in `pd.to_datetime()`, you can specify the exact datetime format of your data. This is useful when you know the exact structure of your datetime strings and want faster or more precise parsing. For your data (`2019-09-12 02:45:00`), the format is `'%Y-%m-%d %H:%M:%S'`.``\n",
    "\n",
    "### Explanation of the Format String:\n",
    "- **`%Y`**: Four-digit year (e.g., `2019`).\n",
    "- **`%m`**: Two-digit month (e.g., `09` for September).\n",
    "- **`%d`**: Two-digit day of the month (e.g., `12`).\n",
    "- **`%H`**: Two-digit hour in 24-hour format (e.g., `02` for 2 AM).\n",
    "- **`%M`**: Two-digit minute (e.g., `45`).\n",
    "- **`%S`**: Two-digit second (e.g., `00`).\n",
    "\n",
    "---\n",
    "\n",
    "### Why Use `format`?\n",
    "- **Performance**: Specifying the format can be faster than automatic detection when the dataset is large.\n",
    "- **Precision**: Ensures the data is parsed exactly as intended, avoiding incorrect conversions.\n",
    "\n",
    "---\n",
    "\n",
    "### Handling Errors with `format`\n",
    "If some rows do not match the specified format, you can handle them gracefully:\n",
    "```python\n",
    "df['Date&Time'] = pd.to_datetime(df['Date&Time'], format='%Y-%m-%d %H:%M:%S', errors='coerce')\n",
    "```\n",
    "\n",
    "`errors='coerce'`: Converts invalid formats to NaT (Not a Time), allowing you to identify and handle problematic rows.\n"
   ]
  },
  {
   "cell_type": "code",
   "execution_count": null,
   "id": "d11a80ca",
   "metadata": {},
   "outputs": [],
   "source": [
    "df['Date&Time'] = pd.to_datetime(df['Date&Time'], format='%m/%d/%y %H:%M')\n",
    "df['Date&Time'][:5]"
   ]
  },
  {
   "cell_type": "code",
   "execution_count": null,
   "id": "f1ca53f2",
   "metadata": {},
   "outputs": [],
   "source": [
    "df['Date&Time'].dt.time"
   ]
  },
  {
   "cell_type": "code",
   "execution_count": null,
   "id": "2020a563",
   "metadata": {},
   "outputs": [],
   "source": [
    "df['Date&Time'].dt.second\n",
    "df['Date&Time'].dt.minute\n",
    "df['Date&Time'].dt.hour\n",
    "df['Date&Time'].dt.weekday # Extracts the day of the week (Monday = 0, Sunday = 6)\n",
    "df['Date&Time'].dt.day\n",
    "df['Date&Time'].dt.month\n",
    "df['Date&Time'].dt.year"
   ]
  },
  {
   "cell_type": "code",
   "execution_count": null,
   "id": "ee115b17",
   "metadata": {},
   "outputs": [],
   "source": [
    "df['Time'] = df['Date&Time'].dt.time"
   ]
  },
  {
   "cell_type": "code",
   "execution_count": null,
   "id": "9b117728",
   "metadata": {},
   "outputs": [],
   "source": [
    "df[['Date&Time', 'Time']].sample(5)"
   ]
  },
  {
   "cell_type": "markdown",
   "id": "59d8ca1d",
   "metadata": {},
   "source": [
    "### Convert `Estimated cost to repair` column from `float` to `integer` format\n",
    "First, take a look at the values in the first 5 rows:"
   ]
  },
  {
   "cell_type": "code",
   "execution_count": null,
   "id": "bb9b705b",
   "metadata": {},
   "outputs": [],
   "source": [
    "df['Estimated cost to repair'][:5]"
   ]
  },
  {
   "cell_type": "markdown",
   "id": "d21f3e31",
   "metadata": {},
   "source": [
    "Two alternatives:"
   ]
  },
  {
   "cell_type": "code",
   "execution_count": null,
   "id": "973dd811",
   "metadata": {},
   "outputs": [],
   "source": [
    "df['Rounded_Cost'] = df['Estimated cost to repair'].astype(int)"
   ]
  },
  {
   "cell_type": "code",
   "execution_count": null,
   "id": "3ac5c5f4",
   "metadata": {},
   "outputs": [],
   "source": [
    "df['Rounded_Cost'] = df['Estimated cost to repair'].apply(int)"
   ]
  },
  {
   "cell_type": "code",
   "execution_count": null,
   "id": "e6cb4ea3",
   "metadata": {},
   "outputs": [],
   "source": [
    "df[['Estimated cost to repair', 'Rounded_Cost']].sample(5)"
   ]
  },
  {
   "cell_type": "markdown",
   "id": "76b026a4",
   "metadata": {},
   "source": [
    "### Convert `Policy Number` to `int` and `string` formats:"
   ]
  },
  {
   "cell_type": "code",
   "execution_count": null,
   "id": "2f22d76f",
   "metadata": {},
   "outputs": [],
   "source": [
    "#SHOW FIRST FIVE ROWS\n",
    "df['Policy Number'][:5]"
   ]
  },
  {
   "cell_type": "code",
   "execution_count": null,
   "id": "e74a3fc1",
   "metadata": {},
   "outputs": [],
   "source": [
    "df['Policy Number'] = df['Policy Number'].apply(int)\n",
    "df['Policy Number'][:5]"
   ]
  },
  {
   "cell_type": "code",
   "execution_count": null,
   "id": "24643467",
   "metadata": {},
   "outputs": [],
   "source": [
    "df['Policy Number'] = df['Policy Number'].apply(str)\n",
    "df['Policy Number'][:5]"
   ]
  },
  {
   "cell_type": "code",
   "execution_count": null,
   "id": "aeaa9fb6",
   "metadata": {},
   "outputs": [],
   "source": [
    "df['Policy Number'][:5].apply(str)"
   ]
  },
  {
   "cell_type": "markdown",
   "id": "6134271a",
   "metadata": {},
   "source": [
    "### Examples of using `bool()` conversion"
   ]
  },
  {
   "cell_type": "code",
   "execution_count": null,
   "id": "622a5e01",
   "metadata": {},
   "outputs": [],
   "source": [
    "# Example 4: Convert a column to boolean using `bool()`\n",
    "df['Has_Replacement_Cost'] = df['Estimated cost to replace'].apply(bool)\n",
    "# Display examples to verify the results\n",
    "df[['Estimated cost to replace', 'Has_Replacement_Cost']].head()"
   ]
  },
  {
   "cell_type": "markdown",
   "id": "ba128be2",
   "metadata": {},
   "source": [
    "#### Inspect data types again"
   ]
  },
  {
   "cell_type": "code",
   "execution_count": null,
   "id": "5b7a296f",
   "metadata": {},
   "outputs": [],
   "source": [
    "df.info()"
   ]
  }
 ],
 "metadata": {
  "kernelspec": {
   "display_name": "Python 3 (ipykernel)",
   "language": "python",
   "name": "python3"
  },
  "language_info": {
   "codemirror_mode": {
    "name": "ipython",
    "version": 3
   },
   "file_extension": ".py",
   "mimetype": "text/x-python",
   "name": "python",
   "nbconvert_exporter": "python",
   "pygments_lexer": "ipython3",
   "version": "3.9.7"
  }
 },
 "nbformat": 4,
 "nbformat_minor": 5
}
