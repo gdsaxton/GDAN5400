{
 "cells": [
  {
   "cell_type": "markdown",
   "id": "1c907206",
   "metadata": {},
   "source": [
    "[![Open In Colab](https://colab.research.google.com/assets/colab-badge.svg)](https://colab.research.google.com/github/gdsaxton/GDAN5400/blob/main/Week%204%20Notebooks/GDAN%205400%20-%20Week%204%20Notebooks%20%28I%29%20-%20Using%Functions.ipynb)"
   ]
  },
  {
   "cell_type": "markdown",
   "id": "a58dcaba",
   "metadata": {},
   "source": [
    "This notebook provides recipes for using built-in and custom functions in Python "
   ]
  },
  {
   "cell_type": "code",
   "execution_count": null,
   "id": "ce9da7f0",
   "metadata": {},
   "outputs": [],
   "source": [
    "%%time\n",
    "import datetime\n",
    "print (\"Current date and time : \", datetime.datetime.now().strftime(\"%Y-%m-%d %H:%M:%S\"), '\\n')"
   ]
  },
  {
   "cell_type": "markdown",
   "id": "9af03858",
   "metadata": {},
   "source": [
    "# Load Packages and Set Working Directory\n",
    "Import several necessary Python packages. We will be using the <a href=\"http://pandas.pydata.org/\">Python Data Analysis Library,</a> or <i>PANDAS</i>, extensively for our data manipulations in this and future tutorials."
   ]
  },
  {
   "cell_type": "code",
   "execution_count": null,
   "id": "20c2d746",
   "metadata": {},
   "outputs": [],
   "source": [
    "import numpy as np\n",
    "import pandas as pd\n",
    "from pandas import DataFrame\n",
    "from pandas import Series"
   ]
  },
  {
   "cell_type": "markdown",
   "id": "6ab477ac",
   "metadata": {},
   "source": [
    "<br>\n",
    "PANDAS allows you to set various options for, among other things, inspecting the data. I like to be able to see all of the columns. Therefore, I typically include this line at the top of all my notebooks."
   ]
  },
  {
   "cell_type": "code",
   "execution_count": null,
   "id": "bdca7e41",
   "metadata": {},
   "outputs": [],
   "source": [
    "#http://pandas.pydata.org/pandas-docs/stable/options.html\n",
    "pd.set_option('display.max_columns', None)\n",
    "pd.set_option('max_colwidth', 250)\n",
    "pd.set_option('display.max_info_columns', 500)"
   ]
  },
  {
   "cell_type": "markdown",
   "id": "8b452531",
   "metadata": {},
   "source": [
    "# Read in Data"
   ]
  },
  {
   "cell_type": "code",
   "execution_count": null,
   "id": "55a6165c",
   "metadata": {},
   "outputs": [],
   "source": [
    "import pandas as pd\n",
    "import requests\n",
    "\n",
    "# NOTE: replace `https://github.com/` with `https://raw.githubusercontent.com`\n",
    "# https://github.com/gdsaxton/GDAN5400/blob/main/Coding%20Assignment%201/final_insurance_fraud.xlsx\n",
    "url = 'https://raw.githubusercontent.com/gdsaxton/GDAN5400/main/Coding%20Assignment%201/final_insurance_fraud.xlsx'\n",
    "\n",
    "# Download the file\n",
    "response = requests.get(url)\n",
    "with open('final_insurance_fraud.xlsx', 'wb') as f:\n",
    "    f.write(response.content)\n",
    "\n",
    "# Load the Excel file\n",
    "df = pd.read_excel('final_insurance_fraud.xlsx', engine='openpyxl')\n",
    "\n",
    "df[:2]"
   ]
  },
  {
   "cell_type": "code",
   "execution_count": null,
   "id": "5b0a8b81",
   "metadata": {},
   "outputs": [],
   "source": [
    "#APPLY DATA CLEANING OPERATIONS FROM CODING ASSIGNMENT 1\n",
    "df = df[df['Policy Number'].notnull()]\n",
    "df['Estimated cost to repair'] = df['Estimated cost to repair'].fillna(0)\n",
    "df['Estimated cost to replace'] = df['Estimated cost to replace'].fillna(0)"
   ]
  },
  {
   "cell_type": "markdown",
   "id": "25ce74df",
   "metadata": {},
   "source": [
    "# Working with Python `Functions`"
   ]
  },
  {
   "cell_type": "markdown",
   "id": "f5eb8013",
   "metadata": {},
   "source": [
    "**[ChatGPT prompt]** `What are *functions* in Python?`"
   ]
  },
  {
   "cell_type": "markdown",
   "id": "ade09382",
   "metadata": {},
   "source": [
    "# Built-In Functions\n",
    "\n",
    "### **Example: Math and Numeric Operations**\n",
    "\n",
    "- **`abs()`** – Returns the absolute value of a number.\n",
    "\n",
    "- **`round()`** – Rounds a number to the nearest integer or specified number of decimal places.\n",
    "\n",
    "- **`pow()`** – Returns the value of a number raised to a power.\n",
    "\n",
    "- **`sum()`** – Sums the elements of an iterable (e.g., a list).\n",
    "\n",
    "- **`mean()`** – Returns the average value.\n",
    "\n",
    "- **`min()`, max()** – Return the minimum or maximum value from an iterable."
   ]
  },
  {
   "cell_type": "markdown",
   "id": "e0a9252b",
   "metadata": {},
   "source": [
    "Apply `max()` to find the maximum hail diameter.     "
   ]
  },
  {
   "cell_type": "code",
   "execution_count": null,
   "id": "2c4bcf3b",
   "metadata": {},
   "outputs": [],
   "source": [
    "max_hail = df['Hail Diameter'].max()\n",
    "print(\"Maximum Hail Diameter:\", max_hail)"
   ]
  },
  {
   "cell_type": "markdown",
   "id": "ad0e6201",
   "metadata": {},
   "source": [
    "Use `min()` to find the minimum wind speed."
   ]
  },
  {
   "cell_type": "code",
   "execution_count": null,
   "id": "825e89b2",
   "metadata": {},
   "outputs": [],
   "source": [
    "min_wind_speed = df['Wind Speed'].min()\n",
    "print(\"Minimum Wind Speed:\", min_wind_speed)"
   ]
  },
  {
   "cell_type": "markdown",
   "id": "c9d31958",
   "metadata": {},
   "source": [
    "### Creating New Columns with Built-In Functions**:\n",
    "   - Use `round()` to round the rainfall values to one decimal place and store them in a new column."
   ]
  },
  {
   "cell_type": "code",
   "execution_count": null,
   "id": "b79cf8b2",
   "metadata": {},
   "outputs": [],
   "source": [
    "df['Rounded_Rainfall'] = df['Rainfall'].round(1)\n",
    "df[['Rainfall', 'Rounded_Rainfall']].head()"
   ]
  },
  {
   "cell_type": "markdown",
   "id": "cf682fe4",
   "metadata": {},
   "source": [
    "# Custom Functions\n",
    "### What are they?\n",
    "- Reusable blocks of code defined using `def` keyword\n",
    "- Take inputs (parameters), perform operations, return outputs\n",
    "- Follow DRY principle (Don't Repeat Yourself)\n",
    "- Enable modular, organized, and maintainable code\n",
    "- Can be called multiple times with different inputs"
   ]
  },
  {
   "cell_type": "code",
   "execution_count": null,
   "id": "f532ef4f",
   "metadata": {},
   "outputs": [],
   "source": [
    "def is_large_repair(cost):\n",
    "  return \"Yes\" if cost > 5000 else \"No\""
   ]
  },
  {
   "cell_type": "markdown",
   "id": "eac28fca",
   "metadata": {},
   "source": [
    "<br>Apply the function directly"
   ]
  },
  {
   "cell_type": "code",
   "execution_count": null,
   "id": "dee29a55",
   "metadata": {},
   "outputs": [],
   "source": [
    "large_repair_check = df['Estimated cost to repair'].apply(is_large_repair)\n",
    "print(large_repair_check.head())"
   ]
  },
  {
   "cell_type": "markdown",
   "id": "fbd9b086",
   "metadata": {},
   "source": [
    "<br>Another Example: Categorize Age of Roof"
   ]
  },
  {
   "cell_type": "code",
   "execution_count": null,
   "id": "dd0d06ff",
   "metadata": {},
   "outputs": [],
   "source": [
    "def categorize_roof_age(age):\n",
    "    if age <= 10:\n",
    "        return \"New\"\n",
    "    elif 11 <= age <= 20:\n",
    "        return \"Middle-aged\"\n",
    "    else:\n",
    "        return \"Old\""
   ]
  },
  {
   "cell_type": "markdown",
   "id": "8caee3d2",
   "metadata": {},
   "source": [
    "<br>Apply the function directly"
   ]
  },
  {
   "cell_type": "code",
   "execution_count": null,
   "id": "e1795b5a",
   "metadata": {},
   "outputs": [],
   "source": [
    "roof_age_categories = df['Age of roof'].apply(categorize_roof_age)\n",
    "print(roof_age_categories.head())"
   ]
  },
  {
   "cell_type": "markdown",
   "id": "7119a55c",
   "metadata": {},
   "source": [
    "### **Example: Determine Large Square Footage**\n",
    "- Write a function to check if the home has large square footage (greater than 3,000 square feet) and print the result."
   ]
  },
  {
   "cell_type": "code",
   "execution_count": null,
   "id": "a5b98a7c",
   "metadata": {},
   "outputs": [],
   "source": [
    "def is_large_square_footage(square_feet):\n",
    "    return \"Large\" if square_feet > 3000 else \"Small\""
   ]
  },
  {
   "cell_type": "markdown",
   "id": "87d70dad",
   "metadata": {},
   "source": [
    "<br>Apply the function directly"
   ]
  },
  {
   "cell_type": "code",
   "execution_count": null,
   "id": "859325cf",
   "metadata": {},
   "outputs": [],
   "source": [
    "square_footage_check = df['Home Square Feet'].apply(is_large_square_footage)\n",
    "print(len(square_footage_check))\n",
    "print(square_footage_check.head())"
   ]
  },
  {
   "cell_type": "markdown",
   "id": "5ff0cf36",
   "metadata": {},
   "source": [
    "<br>Now apply it to dataframe as a new variable"
   ]
  },
  {
   "cell_type": "code",
   "execution_count": null,
   "id": "f220b98d",
   "metadata": {},
   "outputs": [],
   "source": [
    "df['square_footage_type'] = df['Home Square Feet'].apply(is_large_square_footage)\n",
    "df[['Home Square Feet', 'square_footage_type']][:5]"
   ]
  },
  {
   "cell_type": "markdown",
   "id": "4a695bb3",
   "metadata": {},
   "source": [
    "### `lambda` custom functions vs. formal named functions\n",
    "Create a binary variable using `lambda` "
   ]
  },
  {
   "cell_type": "code",
   "execution_count": null,
   "id": "88dd2f4b",
   "metadata": {},
   "outputs": [],
   "source": [
    "df['High_Hail_Flag'] = df['Hail Diameter'].apply(lambda x: 1 if x > 1.0 else 0)\n",
    "df[['Hail Diameter', 'High_Hail_Flag']].head()"
   ]
  },
  {
   "cell_type": "code",
   "execution_count": null,
   "id": "5aa141ab",
   "metadata": {
    "scrolled": true
   },
   "outputs": [],
   "source": [
    "df['Hail Diameter'].value_counts().sort_index()"
   ]
  },
  {
   "cell_type": "markdown",
   "id": "88245867",
   "metadata": {},
   "source": [
    "<br>Create an alternative version of the variable using a named function"
   ]
  },
  {
   "cell_type": "code",
   "execution_count": null,
   "id": "6c704a6a",
   "metadata": {},
   "outputs": [],
   "source": [
    "def high_hail(hail_diameter):\n",
    "    return \"High Diameter\" if hail_diameter>1 else \"Low Diameter\""
   ]
  },
  {
   "cell_type": "code",
   "execution_count": null,
   "id": "2cadd4e4",
   "metadata": {},
   "outputs": [],
   "source": [
    "df['High_Hail_Flag_v2'] = df['Hail Diameter'].apply(high_hail)\n",
    "df[['Hail Diameter', 'High_Hail_Flag', 'High_Hail_Flag_v2']].sample(10)"
   ]
  }
 ],
 "metadata": {
  "kernelspec": {
   "display_name": "Python 3 (ipykernel)",
   "language": "python",
   "name": "python3"
  },
  "language_info": {
   "codemirror_mode": {
    "name": "ipython",
    "version": 3
   },
   "file_extension": ".py",
   "mimetype": "text/x-python",
   "name": "python",
   "nbconvert_exporter": "python",
   "pygments_lexer": "ipython3",
   "version": "3.9.7"
  }
 },
 "nbformat": 4,
 "nbformat_minor": 5
}
