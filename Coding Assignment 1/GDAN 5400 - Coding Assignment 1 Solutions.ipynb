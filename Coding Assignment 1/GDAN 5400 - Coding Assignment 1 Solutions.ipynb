{
 "cells": [
  {
   "cell_type": "markdown",
   "id": "b064bb10",
   "metadata": {},
   "source": [
    "[![Open In Colab](https://colab.research.google.com/assets/colab-badge.svg)](https://colab.research.google.com/github/gdsaxton/GDAN5400/blob/main/Coding%20Assignment%201/GDAN%205400%20-%20Coding%20Assignment%201%20Solutions.ipynb)"
   ]
  },
  {
   "cell_type": "markdown",
   "id": "3b907d9a",
   "metadata": {
    "id": "3b907d9a"
   },
   "source": [
    "# Coding Assignment #1\n",
    "\n",
    "Welcome to your first coding assignment! You will work with the provided dataset, which contains information about roof insurance claims. In this assignment, you will:\n",
    "1. Load and inspect the dataset.\n",
    "2. Perform basic data exploration.\n",
    "3. Practice Python programming skills, including:\n",
    "   - Using basic arithmetic and comparison operators.\n",
    "   - Creating and working with lists.\n",
    "   - Using booleans.\n",
    "   - Writing for loops.\n",
    "   - Using if-elif-else statements.\n",
    "4. Develop a Python-based workflow to prepare the roof insurance claim dataset for analysis. This assignment focuses on learning how to:\n",
    "   - Extract, clean, and transform data.\n",
    "   - Identify and handle missing values.\n",
    "   - Filter and organize data for analysis.\n",
    "\n",
    "## Dataset\n",
    "The dataset you'll be working with is `final_insurance_fraud.xlsx`. This file contains information about insurance claims, including details like claim type, amount, and fraud status.\n",
    "\n"
   ]
  },
  {
   "cell_type": "markdown",
   "id": "nUpNOLo0nRRw",
   "metadata": {
    "id": "nUpNOLo0nRRw"
   },
   "source": [
    "## CASE INTRODUCTION.\n",
    "\n",
    "Casey Lee, an insurance claims processor was reviewing claims received from a recent storm before finalizing authorization for roof replacements. She pulled up and reread the U.S. National Weather Service Announcement:\n",
    "\n",
    "&nbsp;&nbsp; TORNADO WARNING  \n",
    "&nbsp;&nbsp; NATIONAL WEATHER SERVICE CHICAGO/ROMEOVILLE   \n",
    "&nbsp;&nbsp;1215 AM CDT THU SEP 12 20XX  \n",
    "\n",
    "&nbsp;&nbsp;THE NATIONAL WEATHER SERVICE IN CHICAGO HAS ISSUED A   \n",
    "&nbsp;&nbsp;*TORNADO WARNING FOR...    \n",
    "&nbsp;&nbsp;CENTRAL DEKALB COUNTY IN NORTH CENTRAL ILLINOIS...    \n",
    "&nbsp;&nbsp;UNTIL 530 PM CDT.  \n",
    "\n",
    "&nbsp;&nbsp;*AT 1218 AM CDT, A SEVERE THUNDERSTORM CAPABLE OF PRODUCING A  \n",
    "&nbsp;&nbsp;TORNADO WAS LOCATED NEAR SYCAMORE,  \n",
    "&nbsp;&nbsp;OR NEAR SHABBONA, MOVING SOUTHWEST AT 2 MPH.  \n",
    "&nbsp;&nbsp;&nbsp;&nbsp;  HAZARD...TORNADO AND QUARTER-SIZED HAIL.  \n",
    "&nbsp;&nbsp;&nbsp;&nbsp;  SOURCE...RADAR INDICATED ROTATION.  \n",
    "&nbsp;&nbsp;&nbsp;&nbsp; IMPACT...FLYING DEBRIS WILL BE DANGEROUS TO THOSE CAUGHT WITHOUT SHELTER.   \n",
    " &nbsp;&nbsp;&nbsp;&nbsp;&nbsp;&nbsp;MOBILE HOMES WILL BE DAMAGED OR DESTROYED.  \n",
    "   &nbsp;&nbsp;&nbsp;&nbsp;&nbsp;&nbsp;&nbsp;&nbsp;   DAMAGE TO ROOFS, WINDOWS, AND VEHICLES WILL OCCUR. TREE DAMAGE IS LIKELY.  \n",
    "\n",
    "&nbsp;&nbsp;*THIS DANGEROUS STORM WILL BE NEAR...  \n",
    "&nbsp;&nbsp;SYCAMORE AROUND 1240 AM CDT.   \n",
    "&nbsp;&nbsp;DEKALB AROUND 600 AM CDT.  \n",
    "&nbsp;&nbsp;COURTLAND AROUND 1140 AM.     \n",
    "\n",
    "&nbsp;&nbsp;PRECAUTIONARY/PREPAREDNESS ACTIONS...   \n",
    "\n",
    "&nbsp;&nbsp;TAKE COVER NOW! MOVE TO A BASEMENT OR AN INTERIOR ROOM  \n",
    "&nbsp;&nbsp;ON THE LOWEST FLOOR OF A STURDY BUILDING.  \n",
    "&nbsp;&nbsp;AVOID WINDOWS. IF YOU ARE OUTDOORS, IN A MOBILE HOME, OR IN A VEHICLE,   \n",
    "&nbsp;&nbsp;MOVE TO THE CLOSEST SUBSTANTIAL SHELTER AND PROTECT YOURSELF FROM FLYING DEBRIS.    \n",
    "\n",
    "Indeed, it appeared to be a bad storm, which could substantiate the large number of claims that she received for new roofs from hail and wind damage. Yet, she felt that something could be off.\n",
    "\n",
    "While Casey could not process the data from multiple companies, she knew that the National Insurance Crime Bureau might be able to help by aggregating data from multiple insurance companies across the area hit by the storm and evaluating the data to look for anomalies. Casey's request landed on your desk. As a new fraud specialist, you have been hired to investigate claims following storm damage to hopefully reduce the payouts made to false claimants. You also knew you had to act fast. You began by pulling the claims data for roofs. You also received a database that showed the actual path of this storm. Your task is to sort through the claims to see if there were any unusual claim patterns from this recent weather event.\n",
    "\n",
    "---\n",
    "Case introduction and dataset comes from: Cheng, C., & Lee, C.-C. (2023). A Case Study Using Data Analytics to Detect Hail Damage Insurance Claim Fraud. *Journal of Forensic Accounting Research, 8,* 287–306."
   ]
  },
  {
   "cell_type": "markdown",
   "id": "NGqBj7vJUKKK",
   "metadata": {
    "id": "NGqBj7vJUKKK"
   },
   "source": [
    "# **Instructions: Steps to Complete**"
   ]
  },
  {
   "cell_type": "markdown",
   "id": "-yJXS0ditgHa",
   "metadata": {
    "id": "-yJXS0ditgHa"
   },
   "source": [
    "### 1. **Load the Dataset:**\n",
    "   -  [This would be the ``Input`` tool in Alteryx, for example]\n",
    "   - Load the roof insurance claim dataset (provided in `.xlsx` format) into a Pandas DataFrame named `df`"
   ]
  },
  {
   "cell_type": "markdown",
   "id": "_-tZzf4c9eBi",
   "metadata": {
    "id": "_-tZzf4c9eBi"
   },
   "source": [
    "<br>\n",
    "You have several options for doing step 1."
   ]
  },
  {
   "cell_type": "markdown",
   "id": "RhPMqPIB9LZt",
   "metadata": {
    "id": "RhPMqPIB9LZt"
   },
   "source": [
    "#### Option #1 - Upload the File Manually"
   ]
  },
  {
   "cell_type": "code",
   "execution_count": null,
   "id": "_PkYTf4futnk",
   "metadata": {
    "colab": {
     "base_uri": "https://localhost:8080/",
     "height": 74
    },
    "id": "_PkYTf4futnk",
    "outputId": "9456574b-c4ae-4021-fd1b-c7ebf441f3a8"
   },
   "outputs": [],
   "source": [
    "#Run this code to upload the file:\n",
    "from google.colab import files\n",
    "uploaded = files.upload()  # This will prompt you to upload the file"
   ]
  },
  {
   "cell_type": "code",
   "execution_count": null,
   "id": "LxWkXDRPt8L3",
   "metadata": {
    "id": "LxWkXDRPt8L3"
   },
   "outputs": [],
   "source": [
    "#Once uploaded, you can open the file using pandas:\n",
    "import pandas as pd\n",
    "df = pd.read_excel('final_insurance_fraud.xlsx')"
   ]
  },
  {
   "cell_type": "markdown",
   "id": "L9gGug9evCFz",
   "metadata": {
    "id": "L9gGug9evCFz"
   },
   "source": [
    "#### Option 2: Mount Google Drive\n",
    "Mount and access an Excel file stored in your Google Drive:"
   ]
  },
  {
   "cell_type": "code",
   "execution_count": null,
   "id": "gw3FDwof9UCu",
   "metadata": {
    "colab": {
     "base_uri": "https://localhost:8080/"
    },
    "id": "gw3FDwof9UCu",
    "outputId": "704bedb8-6c79-4861-ea42-0e649276877c"
   },
   "outputs": [],
   "source": [
    "from google.colab import drive\n",
    "drive.mount('/content/drive')"
   ]
  },
  {
   "cell_type": "code",
   "execution_count": null,
   "id": "xj7ywVWa9Wmg",
   "metadata": {
    "id": "xj7ywVWa9Wmg"
   },
   "outputs": [],
   "source": [
    "import pandas as pd\n",
    "file_path = '/content/drive/My Drive/final_insurance_fraud.xlsx'\n",
    "df = pd.read_excel(file_path)"
   ]
  },
  {
   "cell_type": "markdown",
   "id": "y0_vNAXVvSnT",
   "metadata": {
    "id": "y0_vNAXVvSnT"
   },
   "source": [
    "#### Option 3: Download from an Online URL\n",
    "If the Excel file is hosted online:  \n",
    "1. Use `requests` to fetch the file\n",
    "\n",
    "```python\n",
    "import pandas as pd\n",
    "import requests\n",
    "\n",
    "url = 'https://raw.githubusercontent.com/gdsaxton/GDAN5400/main/Coding%20Assignment%201/final_insurance_fraud.xlsx'\n",
    "response = requests.get(url)\n",
    "with open('final_insurance_fraud.xlsx', 'wb') as f:\n",
    "    f.write(response.content)\n",
    "\n",
    "df = pd.read_excel('final_insurance_fraud.xlsx', engine='openpyxl')\n",
    "```"
   ]
  },
  {
   "cell_type": "markdown",
   "id": "5w91jk5RvCfe",
   "metadata": {
    "id": "5w91jk5RvCfe"
   },
   "source": [
    "### 2. **Inspect the Dataset**\n",
    "- Print the first 5 rows of the dataset to inspect its structure:\n",
    "- Print all column names.\n",
    "- Display the structure and data types for all variables.\n",
    "- Display summary statistics for all numeric columns."
   ]
  },
  {
   "cell_type": "code",
   "execution_count": null,
   "id": "9RJKIT62ucQm",
   "metadata": {
    "colab": {
     "base_uri": "https://localhost:8080/",
     "height": 430
    },
    "id": "9RJKIT62ucQm",
    "outputId": "083c016e-71aa-4650-b91d-3ab797b6c837"
   },
   "outputs": [],
   "source": [
    "# View the first 5 rows of the dataset\n",
    "print(\"First 5 rows:\")\n",
    "df.head()"
   ]
  },
  {
   "cell_type": "code",
   "execution_count": null,
   "id": "Ekw1bNFeJvx-",
   "metadata": {
    "colab": {
     "base_uri": "https://localhost:8080/"
    },
    "id": "Ekw1bNFeJvx-",
    "outputId": "ed6697cd-f966-41c0-800b-e71108eba357"
   },
   "outputs": [],
   "source": [
    "print(\"Print all column names:\\n\")\n",
    "print(df.columns)"
   ]
  },
  {
   "cell_type": "code",
   "execution_count": null,
   "id": "a7Lt-u3UuQNY",
   "metadata": {
    "colab": {
     "base_uri": "https://localhost:8080/"
    },
    "id": "a7Lt-u3UuQNY",
    "outputId": "db0e60fc-e13c-4a9e-bcde-204488757dcb"
   },
   "outputs": [],
   "source": [
    "print(\"Display the structure and data types for all variables.\\n\")\n",
    "df.info()"
   ]
  },
  {
   "cell_type": "code",
   "execution_count": null,
   "id": "ZQTjd-Jb-nwR",
   "metadata": {
    "id": "ZQTjd-Jb-nwR"
   },
   "outputs": [],
   "source": [
    "print(\"Display summary statistics for all numeric columns:\")\n",
    "df.describe().T # note that I add the `.T` at the end to transpose the output (this is a personal preference)"
   ]
  },
  {
   "cell_type": "markdown",
   "id": "ldsjgetXNBKw",
   "metadata": {
    "id": "ldsjgetXNBKw"
   },
   "source": [
    "### 3. **Use Operators**\n",
    "- Use basic *arithmetic* operators to:\n",
    "  - Add 10 to the `Wind Speed` for each claim and print the result.\n",
    "\n",
    "- Use *comparison* operators to:\n",
    "  - Show all rows of the dataset where `Home Square Feet` is greater than or equal to 3750.  \n"
   ]
  },
  {
   "cell_type": "code",
   "execution_count": null,
   "id": "b4bNJ31HBNZ2",
   "metadata": {
    "colab": {
     "base_uri": "https://localhost:8080/"
    },
    "id": "b4bNJ31HBNZ2",
    "outputId": "cfe4010c-0593-4222-f817-03687aef51a6"
   },
   "outputs": [],
   "source": [
    "# Add 10 to Wind Speed and print the result\n",
    "print(\"Wind Speed + 10 for the first 5 rows:\")\n",
    "print(df['Wind Speed'].head() + 10)"
   ]
  },
  {
   "cell_type": "code",
   "execution_count": null,
   "id": "KiYO3601OY-_",
   "metadata": {
    "colab": {
     "base_uri": "https://localhost:8080/",
     "height": 464
    },
    "id": "KiYO3601OY-_",
    "outputId": "04e12a2c-c22f-40c0-fec9-81a3d5caf3b9"
   },
   "outputs": [],
   "source": [
    "#Show all rows of the dataset where Home Square Feet is greater than or equal to 3750\n",
    "df[df['Home Square Feet'] > 3750]"
   ]
  },
  {
   "cell_type": "markdown",
   "id": "OfnK1MfD_kSw",
   "metadata": {
    "id": "OfnK1MfD_kSw"
   },
   "source": [
    "### 4. **Create and Work with a List**\n",
    "- Create and print out a `list` of all *unique* values from the `City` column. Call the list `city_names`"
   ]
  },
  {
   "cell_type": "markdown",
   "id": "DLot_AIkABMz",
   "metadata": {
    "id": "DLot_AIkABMz"
   },
   "source": [
    "You have a number of options here. As long as you can print out the unique values then that is fine."
   ]
  },
  {
   "cell_type": "code",
   "execution_count": null,
   "id": "kXyyIqFb-5hQ",
   "metadata": {
    "id": "kXyyIqFb-5hQ"
   },
   "outputs": [],
   "source": [
    "#First step: Create the list\n",
    "city_names = df['City'].tolist()\n",
    "print(\"List of first 5 cities:\", set(city_names)) #optional step"
   ]
  },
  {
   "cell_type": "code",
   "execution_count": null,
   "id": "LyU1WTvvDMcw",
   "metadata": {
    "colab": {
     "base_uri": "https://localhost:8080/"
    },
    "id": "LyU1WTvvDMcw",
    "outputId": "b10c94cb-5a74-45cf-ae69-c85b71e22238"
   },
   "outputs": [],
   "source": [
    "#Alternative to creating the list\n",
    "city_names = list(df['City'])\n",
    "print(\"List of first 5 cities:\", set(city_names)) #optional step"
   ]
  },
  {
   "cell_type": "code",
   "execution_count": null,
   "id": "yVUO-_s3A_FW",
   "metadata": {
    "colab": {
     "base_uri": "https://localhost:8080/"
    },
    "id": "yVUO-_s3A_FW",
    "outputId": "b35779a3-3c35-4927-f79b-a41068acd9ee"
   },
   "outputs": [],
   "source": [
    "#Second step: convert the list into a set\n",
    "city_names = set(city_names)\n",
    "print(city_names) #This prints out all the unique values in the City column"
   ]
  },
  {
   "cell_type": "code",
   "execution_count": null,
   "id": "qaynKiZU_-NT",
   "metadata": {
    "id": "qaynKiZU_-NT"
   },
   "outputs": [],
   "source": [
    "#Additional final step - convert back to a list\n",
    "city_names = list(city_names)\n",
    "print(city_names)"
   ]
  },
  {
   "cell_type": "markdown",
   "id": "jXOHkR12DWwp",
   "metadata": {
    "id": "jXOHkR12DWwp"
   },
   "source": [
    "#### Other options"
   ]
  },
  {
   "cell_type": "code",
   "execution_count": null,
   "id": "lRKfzr-qCmtM",
   "metadata": {
    "colab": {
     "base_uri": "https://localhost:8080/"
    },
    "id": "lRKfzr-qCmtM",
    "outputId": "0f79e649-68c4-4014-c917-0a5673036b6e"
   },
   "outputs": [],
   "source": [
    "# Convert the column to a Python set to extract unique values:\n",
    "# Using set() with column\n",
    "#unique_set = set(df['column_name'])\n",
    "unique_set = set(df['City'])\n",
    "print(unique_set)"
   ]
  },
  {
   "cell_type": "code",
   "execution_count": null,
   "id": "2vO6fxpWDCKh",
   "metadata": {
    "colab": {
     "base_uri": "https://localhost:8080/"
    },
    "id": "2vO6fxpWDCKh",
    "outputId": "6b819b7f-a15f-4774-c881-2a34e3c08369"
   },
   "outputs": [],
   "source": [
    "# Using pd.unique()\n",
    "# A direct function for getting unique values, similar to .unique():\n",
    "#unique_values = pd.unique(df['column_name'])\n",
    "unique_values = pd.unique(df['City'])\n",
    "print(unique_values)"
   ]
  },
  {
   "cell_type": "markdown",
   "id": "ttsxz_prNgdD",
   "metadata": {
    "id": "ttsxz_prNgdD"
   },
   "source": [
    "### 5. **For Loop**\n",
    "- Use a `for` loop to iterate through the `Rainfall` column and print:\n",
    "  - `\"The amount of rainfall was <rainfall> inches.\"`, where `<rainfall>` refers to the amount of rainfall."
   ]
  },
  {
   "cell_type": "code",
   "execution_count": null,
   "id": "UhnWfQ7XQlFr",
   "metadata": {
    "colab": {
     "base_uri": "https://localhost:8080/"
    },
    "id": "UhnWfQ7XQlFr",
    "outputId": "70db406b-3eae-4baf-bf4f-e09106fc8871"
   },
   "outputs": [],
   "source": [
    "#You can use any word or letter you'd like in place of \"rainfall\"\n",
    "for rainfall in df['Rainfall']:\n",
    "    print(f\"The amount of rainfall: {rainfall} inches.\")"
   ]
  },
  {
   "cell_type": "markdown",
   "id": "04pkULrgNqbR",
   "metadata": {
    "id": "04pkULrgNqbR"
   },
   "source": [
    "### 6. **If-Elif-Else Statement**\n",
    "- Write a simple conditional statement to check the `Age of roof` for the first 5 rows:\n",
    "  - If less than 5, print `\"New Roof\"`.\n",
    "  - If between 5 and 10, print `\"Moderately New Roof\"`.\n",
    "  - Otherwise, print `\"Old Roof\"`.\n",
    "- Print the result for the first 5 rows.\n",
    "- *Hint*: the `if-elif-else` statement is nested under a `for` loop."
   ]
  },
  {
   "cell_type": "code",
   "execution_count": null,
   "id": "eorhrXqHHT7p",
   "metadata": {
    "colab": {
     "base_uri": "https://localhost:8080/"
    },
    "id": "eorhrXqHHT7p",
    "outputId": "a4916cca-7b35-43a3-d688-145f5fa8e76f"
   },
   "outputs": [],
   "source": [
    "# Loop over the first 5 rows. Check and print the age of the roof for each row.\n",
    "print(\"Roof age classifications:\")\n",
    "for age in df['Age of roof'].head(5):\n",
    "    if age < 5:\n",
    "        print(\"New Roof\")\n",
    "    elif 5 <= age <= 10:\n",
    "        print(\"Moderately New Roof\")\n",
    "    else:\n",
    "        print(\"Old Roof\")"
   ]
  },
  {
   "cell_type": "markdown",
   "id": "RSALvWGuuKL6",
   "metadata": {
    "id": "RSALvWGuuKL6"
   },
   "source": [
    "### 7. **Filter Invalid Records:**\n",
    "   - Use PANDAS to remove rows where the `Policy Number` is missing (`null`).\n",
    "   - How many records do you have after using the filter tool for roof claims?"
   ]
  },
  {
   "cell_type": "code",
   "execution_count": null,
   "id": "gySFp3UDl0y4",
   "metadata": {
    "colab": {
     "base_uri": "https://localhost:8080/"
    },
    "id": "gySFp3UDl0y4",
    "outputId": "4f396697-c9da-42fd-b6af-88e58c6f9cc3"
   },
   "outputs": [],
   "source": [
    "#422 records are left after removing missing values on *Policy Number*\n",
    "print(len(df))\n",
    "df = df[df['Policy Number'].notnull()]\n",
    "print(len(df))"
   ]
  },
  {
   "cell_type": "markdown",
   "id": "bnm9Wb0WA_CD",
   "metadata": {
    "id": "bnm9Wb0WA_CD"
   },
   "source": [
    "This step filters out 2 records, leaving 422 records remaining. Duplicate claims for the same type of damage should be investigated by insurance companies. Regardless of whether the duplicate claims could have arisen from intentional or unintentional errors, insurance companies should only want to pay the claim one time."
   ]
  },
  {
   "cell_type": "markdown",
   "id": "iT9k4MzluH-A",
   "metadata": {
    "id": "iT9k4MzluH-A"
   },
   "source": [
    "### 8. **Data Cleaning:**\n",
    "   - Use PANDAS to replace `null` values with `0` in the `Estimated cost to repair` and `Estimated cost to replace` columns. For each claim, only one of these two columns will have data depending on the adjuster’s recommendation."
   ]
  },
  {
   "cell_type": "markdown",
   "id": "P9zKFZ7RBeGA",
   "metadata": {
    "id": "P9zKFZ7RBeGA"
   },
   "source": [
    "This next step is not necessary. I am adding this in so you can see that only 381 rows have a value on `Estimated cost to repair` and only 42 rows have a value on `Estimated cost to replace`."
   ]
  },
  {
   "cell_type": "code",
   "execution_count": null,
   "id": "C8q75nQKlLK2",
   "metadata": {
    "colab": {
     "base_uri": "https://localhost:8080/",
     "height": 582
    },
    "id": "C8q75nQKlLK2",
    "outputId": "19032da5-72d3-4e2e-8baf-c83471135ebc"
   },
   "outputs": [],
   "source": [
    "df.describe().T"
   ]
  },
  {
   "cell_type": "code",
   "execution_count": null,
   "id": "dGeloDqV0Y_u",
   "metadata": {
    "colab": {
     "base_uri": "https://localhost:8080/"
    },
    "id": "dGeloDqV0Y_u",
    "outputId": "c9bd642c-e2e2-4f7e-88f5-393bced84116"
   },
   "outputs": [],
   "source": [
    "#Replace null (missing) values with 0 for both columns\n",
    "df['Estimated cost to repair'].fillna(0, inplace=True)\n",
    "df['Estimated cost to replace'].fillna(0, inplace=True)"
   ]
  },
  {
   "cell_type": "code",
   "execution_count": null,
   "id": "7mmlp9mDlud7",
   "metadata": {
    "id": "7mmlp9mDlud7"
   },
   "outputs": [],
   "source": [
    "# Alternative: Replace missing values with 0 for both columns (newer method)\n",
    "df['Estimated cost to repair'] = df['Estimated cost to repair'].fillna(0)\n",
    "df['Estimated cost to replace'] = df['Estimated cost to replace'].fillna(0)"
   ]
  },
  {
   "cell_type": "markdown",
   "id": "NTvNwXsWB4Zq",
   "metadata": {
    "id": "NTvNwXsWB4Zq"
   },
   "source": [
    "Let's use `describe()` again. Now you can see that all rows have values for `Estimated cost to repair` and  `Estimated cost to replace`. Note also the different `mean` values."
   ]
  },
  {
   "cell_type": "code",
   "execution_count": null,
   "id": "VJMuNs3SlUDX",
   "metadata": {
    "colab": {
     "base_uri": "https://localhost:8080/",
     "height": 582
    },
    "id": "VJMuNs3SlUDX",
    "outputId": "acd34a67-74fe-49f3-8a95-d09bab7a57f6"
   },
   "outputs": [],
   "source": [
    "df.describe().T"
   ]
  },
  {
   "cell_type": "markdown",
   "id": "b62adafb",
   "metadata": {
    "id": "b62adafb"
   },
   "source": [
    "### 9. **Identify Duplicate Claims:**\n",
    "   - Use PANDAS to identify whether there are any duplicate claims in your dataset based on ``House/Apartment Number``,\t``Street Address``, ``City``, and ``Zip Code``.   "
   ]
  },
  {
   "cell_type": "code",
   "execution_count": null,
   "id": "8vIACMUpmw2n",
   "metadata": {
    "colab": {
     "base_uri": "https://localhost:8080/",
     "height": 283
    },
    "id": "8vIACMUpmw2n",
    "outputId": "5c42f4fd-e022-4ee1-d44d-b152d3e52152"
   },
   "outputs": [],
   "source": [
    "duplicates = df[df.duplicated(subset=['House/Apartment Number', 'Street Address', 'City', 'Zip Code'], keep=False)]\n",
    "print(f\"Number of duplicate claims: {len(duplicates)}\") #Optional step\n",
    "duplicates"
   ]
  },
  {
   "cell_type": "markdown",
   "id": "d6451be7",
   "metadata": {
    "id": "d6451be7"
   },
   "source": [
    "Note that I used `duplicates` above, which will show the dataframe, rather than `print(duplicates)`. This is a personal preference but I like the above output much more than using the print command to show dataframes."
   ]
  },
  {
   "cell_type": "markdown",
   "id": "a2d1957c",
   "metadata": {
    "id": "a2d1957c"
   },
   "source": [
    "### 10. **Export Data**\n",
    "   - Export the cleaned dataset to a new `CSV` file."
   ]
  },
  {
   "cell_type": "markdown",
   "id": "-aKEPkLCDP_a",
   "metadata": {
    "id": "-aKEPkLCDP_a"
   },
   "source": [
    "I will show you two different options. Note that in the Week 2 notebooks we used `to_pickle()` command. In this case you had to use `to_csv()` to save the file in CSV format. There are other options but that is the easiest."
   ]
  },
  {
   "cell_type": "markdown",
   "id": "dgnKNYJzwijd",
   "metadata": {
    "id": "dgnKNYJzwijd"
   },
   "source": [
    "### Option 1: Save to Your Google Drive"
   ]
  },
  {
   "cell_type": "code",
   "execution_count": null,
   "id": "ExmLMNWvwI9i",
   "metadata": {
    "colab": {
     "base_uri": "https://localhost:8080/"
    },
    "id": "ExmLMNWvwI9i",
    "outputId": "b875e85f-a5af-4c9e-ba84-40573861fe03"
   },
   "outputs": [],
   "source": [
    "# Mount your Google Drive\n",
    "from google.colab import drive\n",
    "drive.mount('/content/drive')"
   ]
  },
  {
   "cell_type": "code",
   "execution_count": null,
   "id": "qi07dmrovHlE",
   "metadata": {
    "colab": {
     "base_uri": "https://localhost:8080/"
    },
    "id": "qi07dmrovHlE",
    "outputId": "6529e7d1-5978-4ae0-9ee1-482fd0683db9"
   },
   "outputs": [],
   "source": [
    "# Path to save the file in Google Drive\n",
    "file_path = '/content/drive/My Drive/cleaned_roof_insurance_claims.csv'\n",
    "\n",
    "# Save the DataFrame as a CSV file\n",
    "df.to_csv(file_path, index=False)\n",
    "\n",
    "print(f\"File saved to {file_path}\") #Optional step"
   ]
  },
  {
   "cell_type": "markdown",
   "id": "wQvFnamOvo8j",
   "metadata": {
    "id": "wQvFnamOvo8j"
   },
   "source": [
    "### Option 2: Save and Download the File to Your Computer\n",
    "1. Save the DataFrame as a CSV File.  \n",
    "Use pandas to save the DataFrame to a CSV file in the Colab environment:"
   ]
  },
  {
   "cell_type": "code",
   "execution_count": null,
   "id": "tgrOakeHvS9D",
   "metadata": {
    "id": "tgrOakeHvS9D"
   },
   "outputs": [],
   "source": [
    "df.to_csv('cleaned_roof_insurance_claims.csv', index=False)"
   ]
  },
  {
   "cell_type": "markdown",
   "id": "q_OPvgpqvrk9",
   "metadata": {
    "id": "q_OPvgpqvrk9"
   },
   "source": [
    "2. Download the File to Your Computer.   \n",
    "After saving the file, use the following code to download it:"
   ]
  },
  {
   "cell_type": "code",
   "execution_count": null,
   "id": "mWAvPpnbv4LO",
   "metadata": {
    "colab": {
     "base_uri": "https://localhost:8080/",
     "height": 17
    },
    "id": "mWAvPpnbv4LO",
    "outputId": "9322e0f0-bf4e-47a7-a3ed-57dd59c037cd"
   },
   "outputs": [],
   "source": [
    "from google.colab import files\n",
    "\n",
    "# Download the file\n",
    "files.download('cleaned_roof_insurance_claims.csv')"
   ]
  },
  {
   "cell_type": "markdown",
   "id": "e0838850",
   "metadata": {
    "id": "e0838850"
   },
   "source": [
    "---\n",
    "\n",
    "## **Deliverables**\n",
    "1. Submit the link to you Google Colab notebook in the assignment area in Canvas.\n",
    "2. Include comments in your code to explain each step."
   ]
  },
  {
   "cell_type": "markdown",
   "id": "6608c287",
   "metadata": {
    "id": "6608c287"
   },
   "source": [
    "## **Tips**\n",
    "- Use small chunks of code and inspect your dataset frequently.\n",
    "- Handle missing and invalid data systematically to maintain data integrity.\n",
    "\n",
    "Good luck! 🚀"
   ]
  },
  {
   "cell_type": "markdown",
   "id": "8080c226",
   "metadata": {
    "id": "8080c226"
   },
   "source": [
    "## Submission\n",
    "- Submit your completed Colab notebook with all code cells executed.\n",
    "- Ensure your notebook includes helpful explanations (as Markdown cells) for each step."
   ]
  }
 ],
 "metadata": {
  "colab": {
   "provenance": []
  },
  "kernelspec": {
   "display_name": "Python 3 (ipykernel)",
   "language": "python",
   "name": "python3"
  },
  "language_info": {
   "codemirror_mode": {
    "name": "ipython",
    "version": 3
   },
   "file_extension": ".py",
   "mimetype": "text/x-python",
   "name": "python",
   "nbconvert_exporter": "python",
   "pygments_lexer": "ipython3",
   "version": "3.9.7"
  }
 },
 "nbformat": 4,
 "nbformat_minor": 5
}
