{
 "cells": [
  {
   "cell_type": "markdown",
   "id": "1c907206",
   "metadata": {},
   "source": [
    "[![Open In Colab](https://colab.research.google.com/assets/colab-badge.svg)](https://colab.research.google.com/github/gdsaxton/GDAN5400/blob/main/Week%206%20Notebooks/GDAN%205400%20-%20Week%206%20Notebooks%20%28VIII%29%20-%20Bar%20Chart%20After%20Groupby.ipynb)"
   ]
  },
  {
   "cell_type": "markdown",
   "id": "a58dcaba",
   "metadata": {},
   "source": [
    "This notebook provides a mini-tutorial on understanding and using bar graphs after `groupby` in Python "
   ]
  },
  {
   "cell_type": "code",
   "execution_count": null,
   "id": "ce9da7f0",
   "metadata": {},
   "outputs": [],
   "source": [
    "%%time\n",
    "import datetime\n",
    "print (\"Current date and time : \", datetime.datetime.now().strftime(\"%Y-%m-%d %H:%M:%S\"), '\\n')"
   ]
  },
  {
   "cell_type": "markdown",
   "id": "9af03858",
   "metadata": {},
   "source": [
    "# Load Packages and Set Working Directory\n",
    "Import several necessary Python packages. We will be using the <a href=\"http://pandas.pydata.org/\">Python Data Analysis Library,</a> or <i>PANDAS</i>, extensively for our data manipulations in this and future tutorials."
   ]
  },
  {
   "cell_type": "code",
   "execution_count": null,
   "id": "20c2d746",
   "metadata": {},
   "outputs": [],
   "source": [
    "import numpy as np\n",
    "import pandas as pd\n",
    "from pandas import DataFrame\n",
    "from pandas import Series"
   ]
  },
  {
   "cell_type": "markdown",
   "id": "6ab477ac",
   "metadata": {},
   "source": [
    "<br>\n",
    "PANDAS allows you to set various options for, among other things, inspecting the data. I like to be able to see all of the columns. Therefore, I typically include this line at the top of all my notebooks."
   ]
  },
  {
   "cell_type": "code",
   "execution_count": null,
   "id": "bdca7e41",
   "metadata": {},
   "outputs": [],
   "source": [
    "#http://pandas.pydata.org/pandas-docs/stable/options.html\n",
    "pd.set_option('display.max_columns', None)\n",
    "pd.set_option('max_colwidth', 250)\n",
    "pd.set_option('display.max_info_columns', 500)"
   ]
  },
  {
   "cell_type": "markdown",
   "id": "8b452531",
   "metadata": {},
   "source": [
    "# Read in Data"
   ]
  },
  {
   "cell_type": "code",
   "execution_count": null,
   "id": "55a6165c",
   "metadata": {},
   "outputs": [],
   "source": [
    "import requests\n",
    "\n",
    "# NOTE: replace `https://github.com/` with `https://raw.githubusercontent.com`\n",
    "# https://github.com/gdsaxton/GDAN5400/blob/main/Coding%20Assignment%201/final_insurance_fraud.xlsx\n",
    "url = 'https://raw.githubusercontent.com/gdsaxton/GDAN5400/main/Coding%20Assignment%203/final_insurance_fraud.xlsx'\n",
    "\n",
    "# Download the file\n",
    "response = requests.get(url)\n",
    "with open('final_insurance_fraud.xlsx', 'wb') as f:\n",
    "    f.write(response.content)\n",
    "\n",
    "# Load the Excel file\n",
    "df = pd.read_excel('final_insurance_fraud.xlsx', engine='openpyxl')\n",
    "\n",
    "print('# of rows:', len(df), '\\n')\n",
    "\n",
    "df[:2]"
   ]
  },
  {
   "cell_type": "markdown",
   "id": "6f902452",
   "metadata": {},
   "source": [
    "# **Overview: Bar Charts After GroupBy**\n",
    "\n",
    "## **What is `groupby()` and Why Use It?**\n",
    "The `groupby()` function in Pandas is used to **split** a dataset into groups, **apply** calculations to each group, and **combine** the results. This is especially useful for **summarizing and aggregating numerical data based on categorical variables**.\n",
    "\n",
    "When combined with **bar charts**, grouping helps visualize differences across categories, making it easier to identify **patterns, outliers, and trends**.\n",
    "\n",
    "### **Common Use Cases for `groupby` and Bar Charts**\n",
    "- **Comparing average costs** – e.g., average claim replacement cost by roofing company.\n",
    "- **Summarizing counts** – e.g., number of claims per city.\n",
    "- **Finding highest/lowest values** – e.g., insurance adjusters with the highest repair estimates.\n",
    "\n",
    "---\n",
    "\n",
    "# **Breaking Down the Code Example**\n",
    "\n",
    "## Example: Bar Chart of Average Replacement Cost by Roofing Company\n",
    "### **Objective**\n",
    "Identify which roofing companies have higher or lower **average estimated replacement costs**.\n",
    "\n",
    "### **Steps**\n",
    "1. **Group the Data by Roofing Company**\n",
    "   - The dataset contains multiple claims handled by different roofing companies.\n",
    "   - We use `.groupby('Roofing Company')` to **group all claims handled by each company**.\n",
    "\n",
    "2. **Calculate the Mean Replacement Cost** for each `Roofing Company`\n",
    "   - The column `Estimated cost to replace` stores the replacement costs for each claim.\n",
    "   - Using `.mean()` calculates the **average replacement cost** per company.\n",
    "\n",
    "3. **Sort the Results** in descending order\n",
    "   - `.sort_values(ascending=False)` sorts the companies **from highest to lowest** average replacement cost.\n",
    "\n",
    "4. **Create a Bar Chart** to visualize the differences\n",
    "   - `.plot(kind='bar')` generates a bar chart.\n",
    "   - `color='skyblue'` sets the bar color.\n",
    "   - `figsize=(10,5)` adjusts the figure size for readability.\n",
    "   - `plt.xticks(rotation=45)` rotates the x-axis labels to prevent overlap."
   ]
  },
  {
   "cell_type": "code",
   "execution_count": null,
   "id": "6c2713f3",
   "metadata": {},
   "outputs": [],
   "source": [
    "import seaborn as sns\n",
    "import matplotlib.pyplot as plt\n",
    "\n",
    "avg_replacement_by_roofer = df.groupby('Roofing Company')['Estimated cost to replace'].mean().sort_values(ascending=False)\n",
    "avg_replacement_by_roofer.plot(kind='bar', color='skyblue', figsize=(10,5))\n",
    "plt.title(\"Average Replacement Cost by Roofing Company\")\n",
    "plt.xlabel(\"Roofing Company\")\n",
    "plt.ylabel(\"Avg Replacement Cost ($)\")\n",
    "plt.xticks(rotation=45, ha='right')\n",
    "plt.show()"
   ]
  },
  {
   "cell_type": "markdown",
   "id": "21c1e86d",
   "metadata": {},
   "source": [
    "#### Key Insights\n",
    "- *Identifying Cost Differences:* Some roofing companies may charge significantly more for replacements than others. This could indicate differences in materials, labor costs, pricing strategies, or even potential fraud.\n",
    "- *Potential Overpricing or Fraud:* If a particular company consistently has *higher-than-average* replacement costs, it may warrant further investigation for potential overpricing or fraudulent claims.\n",
    "- *Regional Variations:* If certain roofing companies are concentrated in specific regions, this could highlight geographic differences in replacement costs due to local labor rates or material availability.\n",
    "- *Insurer decision-making* – Insurers can compare vendors and assess cost efficiency.\n",
    "- *Customer Decision-Making:* Policyholders and insurance companies can use this data to *make more informed decisions* when selecting roofing companies for repairs.\n",
    "- *Comparing to Repair Costs:* This can be *compared with the average repair cost by roofing company* to see if high replacement costs align with high repair costs or if certain companies specialize in replacements.\n",
    "- *Detecting outliers* – Any roofing company with exceptionally high or low costs might need further investigation.\n",
    "\n",
    "By combining `groupby()` with bar charts, analysts can summarize large datasets and gain actionable insights from categorical comparisons."
   ]
  },
  {
   "cell_type": "markdown",
   "id": "a0b55ae7",
   "metadata": {},
   "source": [
    "#### Customing the Plot\n",
    "There are lots of ways we can customize the above plot. Below I use a custom color, remove the border, add 'padding' below the title and around the x-axis and y-axis labels, change the font size, and add bold font. "
   ]
  },
  {
   "cell_type": "code",
   "execution_count": null,
   "id": "828aefcb",
   "metadata": {},
   "outputs": [],
   "source": [
    "# Get Seaborn's default blue color\n",
    "seaborn_blue = sns.color_palette(\"deep\")[0]\n",
    "\n",
    "avg_replacement_by_roofer = df.groupby('Roofing Company')['Estimated cost to replace'].mean().sort_values(ascending=False)\n",
    "\n",
    "plt.figure(figsize=(10,5))\n",
    "avg_replacement_by_roofer.plot(kind='bar', color=seaborn_blue)\n",
    "plt.title(\"Average Replacement Cost by Roofing Company\", fontsize=12, pad=20, fontweight='bold')\n",
    "plt.xlabel(\"Roofing Company\", labelpad=20, fontsize=11, fontweight='bold')  # Added label padding, font size, bold font\n",
    "plt.ylabel(\"Avg Replacement Cost ($)\", labelpad=20, fontsize=11, fontweight='bold')  # Added label padding, font size, bold font\n",
    "plt.xticks(rotation=45, ha='right', fontsize=9)  # Align labels properly\n",
    "\n",
    "plt.gca().spines[['top', 'right', 'left', 'bottom']].set_visible(False)  # Remove border\n",
    "\n",
    "plt.show()"
   ]
  },
  {
   "cell_type": "markdown",
   "id": "f9b6810d",
   "metadata": {},
   "source": [
    "## **Example 2: Bar Chart of Total Claims by City**\n",
    "**Purpose** - This visualization helps identify which **cities** have the highest number of claims, allowing analysts to detect high-risk areas."
   ]
  },
  {
   "cell_type": "code",
   "execution_count": null,
   "id": "7de5a29f",
   "metadata": {},
   "outputs": [],
   "source": [
    "import matplotlib.pyplot as plt\n",
    "\n",
    "# Count the number of claims per city\n",
    "claims_by_city = df.groupby('City')['Claim number'].count().sort_values(ascending=False)\n",
    "\n",
    "# Create a bar chart\n",
    "claims_by_city.plot(kind='bar', color='skyblue', figsize=(10,5))\n",
    "plt.title(\"Total Claims by City\")\n",
    "plt.xlabel(\"\") #Remove x-axis title\n",
    "plt.ylabel(\"Number of Claims\", labelpad=20)\n",
    "plt.xticks(rotation=0)\n",
    "plt.show()"
   ]
  },
  {
   "cell_type": "markdown",
   "id": "a1ce7a6b",
   "metadata": {},
   "source": [
    "#### Key Insight\n",
    "- Cities with a higher volume of claims might require additional risk assessment or adjusted insurance premiums."
   ]
  },
  {
   "cell_type": "markdown",
   "id": "3e7d1de6",
   "metadata": {},
   "source": [
    "## Example 3: Average Repair Cost by Adjuster\n",
    "**Purpose** - \n",
    "This example groups the dataset by `Adjuster` and calculates the average `Estimated cost to repair`, helping to identify patterns in claim assessments."
   ]
  },
  {
   "cell_type": "code",
   "execution_count": null,
   "id": "85b09aa7",
   "metadata": {},
   "outputs": [],
   "source": [
    "# Calculate the average repair cost per adjuster and print the results\n",
    "avg_repair_by_adjuster = df.groupby('Adjuster')['Estimated cost to repair'].mean().sort_values(ascending=False)\n",
    "print(avg_repair_by_adjuster)"
   ]
  },
  {
   "cell_type": "code",
   "execution_count": null,
   "id": "14959f3a",
   "metadata": {},
   "outputs": [],
   "source": [
    "#Plot the graph\n",
    "avg_repair_by_adjuster.plot(kind='bar', color='skyblue', figsize=(10,5))"
   ]
  },
  {
   "cell_type": "code",
   "execution_count": null,
   "id": "0c14a348",
   "metadata": {},
   "outputs": [],
   "source": [
    "#Quick one-liner version\n",
    "df.groupby('Adjuster')['Estimated cost to repair'].mean().sort_values(ascending=False).plot(kind='bar')"
   ]
  },
  {
   "cell_type": "markdown",
   "id": "ae056d19",
   "metadata": {},
   "source": [
    "## **Conclusions on Bar Charts with `groupby()`**\n",
    "Using **bar charts with grouped data** allows for **clear comparisons** between categories, making it an essential tool for financial and insurance analytics. \n",
    "\n",
    "### **Key Takeaways**\n",
    "- **Simplifies large datasets** – Grouping and visualizing data highlights **patterns and trends** across different categories.\n",
    "- **Enhances decision-making** – Helps identify **which categories perform best or worst**, such as **roofing companies with higher average replacement costs**.\n",
    "- **Detects anomalies and outliers** – Unusually high or low values may indicate **pricing inconsistencies, overbilling, or inefficiencies**.\n",
    "- **Supports business strategy** – Insurance firms can **adjust vendor contracts, refine policies, or optimize pricing models** based on insights from grouped data.\n",
    "\n",
    "### **Best Practices**\n",
    "- Always **sort the data** in a meaningful way (e.g., descending order for cost comparisons).\n",
    "- Rotate x-axis labels (`plt.xticks(rotation=45)`) to **prevent overlap and improve readability**.\n",
    "- Choose appropriate colors and figure sizes for **clarity and presentation**.\n",
    "- Consider **filtering out extreme outliers** for a more balanced visualization.\n",
    "\n",
    "By leveraging `groupby()` and bar charts, analysts can efficiently **summarize, compare, and visualize** key financial and operational metrics to drive **better business decisions**."
   ]
  }
 ],
 "metadata": {
  "kernelspec": {
   "display_name": "Python 3 (ipykernel)",
   "language": "python",
   "name": "python3"
  },
  "language_info": {
   "codemirror_mode": {
    "name": "ipython",
    "version": 3
   },
   "file_extension": ".py",
   "mimetype": "text/x-python",
   "name": "python",
   "nbconvert_exporter": "python",
   "pygments_lexer": "ipython3",
   "version": "3.9.7"
  }
 },
 "nbformat": 4,
 "nbformat_minor": 5
}
