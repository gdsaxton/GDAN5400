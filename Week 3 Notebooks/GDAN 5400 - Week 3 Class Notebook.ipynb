{
 "cells": [
  {
   "cell_type": "markdown", 
   "id": "364b4e9f",
   "metadata": {},
   "source": [
    "<p><a href=\"https://colab.research.google.com/github/gdsaxton/GDAN5400/blob/main/Week%203%20Notebooks/GDAN%205400%20-%20Week%203%20Class%20Notebook.ipynb\"><img src=\"https://colab.research.google.com/assets/colab-badge.svg\" alt=\"Open In Colab\" /></a></p>"
   ]
  },
  {
   "cell_type": "markdown",
   "id": "b1807af3",
   "metadata": {},
   "source": [
    "# Week 3: Data Wrangling and Transformation in Pandas\n",
    "\n",
    "## **Learning Objectives**\n",
    "By the end of this session, students will:\n",
    "1. Write and apply custom functions to transform data.\n",
    "2. Understand how to create new variables in a pandas DataFrame.\n",
    "3. Understand the different levels of measurement.\n",
    "4. Perform data type conversions in pandas."
   ]
  },
  {
   "cell_type": "markdown",
   "id": "2048172e",
   "metadata": {},
   "source": [
    "  \n",
    "---\n",
    "\n",
    "# **Lesson Plan**\n",
    "\n",
    "- Today's Plan:\n",
    "  - Functions\n",
    "    - Built-in functions\n",
    "    - Custom user-defined functions\n",
    "  - Creating new variables\n",
    "  - Levels of measurement \n",
    "     - Nominal, ordinal, interval, ratio\n",
    "     - Discrete vs. continuous variables\n",
    "     - Binary variables\n",
    "  - Converting data types"
   ]
  },
  {
   "cell_type": "markdown",
   "id": "00f570d3",
   "metadata": {},
   "source": [
    "## **Dataset**\n",
    "We will use the following accounting-specific dataset, created for this session. This dataset simulates financial transactions for 20 clients. It includes details like transaction amounts, client industries, invoice status, and payment delays."
   ]
  },
  {
   "cell_type": "code",
   "execution_count": null,
   "id": "c6cf008b",
   "metadata": {},
   "outputs": [],
   "source": [
    "import pandas as pd\n",
    "\n",
    "# Create test dataset\n",
    "data = {\n",
    "    'Client_ID': range(1, 21),\n",
    "    'Industry': ['Retail', 'Manufacturing', 'Tech', 'Finance'] * 5,\n",
    "    'Transaction_Amount': [1500, 2000, 3500, 4000, 4500, 800, 1200, 3000, 700, 2200,\n",
    "                           1800, 2500, 4000, 3700, 3200, 500, 2100, 2900, 3600, 3300],\n",
    "    'Invoice_Status': ['Paid', 'Unpaid', 'Paid', 'Unpaid', 'Paid'] * 4,\n",
    "    'Payment_Delay_Days': [0, 15, 0, 30, 0, 45, 60, 0, 10, 0, 20, 0, 5, 25, 0, 35, 50, 0, 40, 0],\n",
    "    'Zip_Code': [10001, 10002, 10003, 10004, 10005] * 4,\n",
    "    'Region': ['North', 'East', 'West', 'South', 'Central'] * 4,\n",
    "    'Currency': ['USD'] * 20,\n",
    "    'Transaction_Date': pd.date_range(start='2023-01-01', periods=20).astype(str),\n",
    "    'Tax_Percentage': [5, 8, 10, 7, 6, 4, 5, 9, 6, 7, 5, 10, 8, 7, 6, 9, 4, 7, 5, 6]\n",
    "}\n",
    "# I am converting `Transaction_Date` to `str` format in the following code block so that we can convert it to `datetime`\n",
    "\n",
    "df = pd.DataFrame(data)\n",
    "df"
   ]
  },
  {
   "cell_type": "markdown",
   "id": "e732b96d",
   "metadata": {},
   "source": [
    "# Python Functions \n",
    "\n",
    "# Commonly Used Built-in Functions in Python\n",
    "\n",
    "Python has a variety of built-in functions that simplify coding and data analysis tasks. \n",
    "\n",
    "- **Definition**: Built-in functions are pre-defined functions in Python that perform specific operations.\n",
    "- **Why Use Them?**\n",
    "  - Save time and effort by leveraging pre-coded functionality.\n",
    "  - Increase readability and efficiency in your code.\n",
    "\n",
    "Here’s a categorized list of the most important ones:\n",
    "\n",
    "---\n",
    "\n",
    "## **1. Data Type Conversion**\n",
    "\n",
    "- **`int()`** – Converts a value to an integer.\n",
    "\n",
    "- **`float()`** – Converts a value to a floating-point number.\n",
    "\n",
    "- **`str()`** – Converts a value to a string.\n",
    "\n",
    "- **`bool()`** – Converts a value to a boolean (`True` or False).\n",
    "\n",
    "- **`list()`, tuple(), set(), dict()** – Convert values into these respective data types.\n",
    "\n",
    "---\n",
    "\n",
    "## **2. Input and Output**\n",
    "\n",
    "- **`print()`** – Prints output to the console.\n",
    "\n",
    "- **`input()`** – Accepts user input as a string.\n",
    "\n",
    "---\n",
    "\n",
    "## **3. Math and Numeric Operations**\n",
    "\n",
    "- **`abs()`** – Returns the absolute value of a number.\n",
    "\n",
    "- **`round()`** – Rounds a number to the nearest integer or specified number of decimal places.\n",
    "\n",
    "- **`pow()`** – Returns the value of a number raised to a power.\n",
    "\n",
    "- **`sum()`** – Sums the elements of an iterable (e.g., a list).\n",
    "\n",
    "- **`min()`, max()** – Return the minimum or maximum value from an iterable.\n",
    "\n",
    "---\n",
    "\n",
    "## **4. Iterables and Collections**\n",
    "\n",
    "- **`len()`** – Returns the number of items in an iterable.\n",
    "\n",
    "- **`sorted()`** – Returns a sorted list from the elements of an iterable.\n",
    "\n",
    "- **`reversed()`** – Returns a reversed iterator of a sequence.\n",
    "\n",
    "- **`enumerate()`** – Returns an iterator that produces pairs of index and value for an iterable.\n",
    "\n",
    "- **`zip()`** – Combines multiple iterables into tuples.\n",
    "\n",
    "---\n",
    "\n",
    "## **5. Functional Programming**\n",
    "\n",
    "- **`map()`** – Applies a function to all items in an iterable.\n",
    "\n",
    "- **`filter()`** – Filters elements of an iterable based on a function.\n",
    "\n",
    "- **`reduce()`** – Reduces an iterable to a single value using a function (requires functools).\n",
    "\n",
    "- **`lambda`** – Not a function but used to create anonymous functions for one-time use.\n",
    "\n",
    "---\n",
    "\n",
    "## **6. Logical and Comparison**\n",
    "\n",
    "- **`all()`** – Returns True if all elements in an iterable are True.\n",
    "\n",
    "- **`any()`** – Returns True if at least one element in an iterable is True.\n",
    "\n",
    "---\n",
    "\n",
    "## **7. Object Introspection**\n",
    "\n",
    "- **`type()`** – Returns the type of an object.\n",
    "\n",
    "- **`dir()`** – Lists the attributes and methods of an object.\n",
    "\n",
    "- **`id()`** – Returns the unique ID of an object.\n",
    "\n",
    "- **`help()`** – Displays help information about a function or object.\n",
    "\n",
    "- **`isinstance()`** – Checks if an object is an instance of a specific class or type.\n",
    "\n",
    "---\n",
    "\n",
    "## **8. File Handling**\n",
    "\n",
    "- **`open()`** – Opens a file for reading, writing, or appending.\n",
    "\n",
    "- **`read()`, write(), close()** – Methods for file manipulation.\n",
    "\n",
    "---\n",
    "\n",
    "## **9. Error Handling**\n",
    "\n",
    "- **`eval()`** – Evaluates a string as a Python expression (use cautiously for security).\n",
    "\n",
    "- **`exec()`** – Executes a string as Python code.\n",
    "\n",
    "---\n",
    "\n",
    "## **10. Miscellaneous**\n",
    "\n",
    "- **`range()`** – Returns a sequence of numbers, often used in loops.\n",
    "\n",
    "- **`chr()`** – Converts an integer to its corresponding Unicode character.\n",
    "\n",
    "- **`ord()`** – Converts a character to its corresponding Unicode integer.\n",
    "\n",
    "- **`hash()`** – Returns the hash value of an object.\n",
    "\n",
    "- **`bin()`, oct(), hex()** – Convert an integer to binary, octal, or hexadecimal format.\n",
    "\n",
    "---\n",
    "\n",
    "\n"
   ]
  },
  {
   "cell_type": "markdown",
   "id": "61b97342",
   "metadata": {},
   "source": [
    "# Examples\n",
    "\n",
    "We will go over the first three categories – the three most common – in class. The code for the other categories is provided if you want to play around with them.\n",
    "\n",
    "### Category 1: Data Type Conversion Examples\n",
    "**Purpose**: Convert values between data types.\n",
    "\n",
    "**General Python Examples**\n",
    "1. Converting a Float to an Integer"
   ]
  },
  {
   "cell_type": "code",
   "execution_count": null,
   "id": "70183260",
   "metadata": {},
   "outputs": [],
   "source": [
    "value = 3.14\n",
    "converted_value = int(value)\n",
    "print(f\"Converted Value: {converted_value}, Type: {type(converted_value)}\")"
   ]
  },
  {
   "cell_type": "markdown",
   "id": "8adcd7c7",
   "metadata": {},
   "source": [
    "2. Converting a Float to a String"
   ]
  },
  {
   "cell_type": "code",
   "execution_count": null,
   "id": "55005ee5",
   "metadata": {},
   "outputs": [],
   "source": [
    "pi = 3.14159\n",
    "string_pi = str(pi)\n",
    "print(f\"String Value: {string_pi}, Type: {type(string_pi)}\")"
   ]
  },
  {
   "cell_type": "markdown",
   "id": "428fcb24",
   "metadata": {},
   "source": [
    "**Dataframe Example**\n",
    "1. Convert the `Transaction_Date` column to datetime format"
   ]
  },
  {
   "cell_type": "code",
   "execution_count": null,
   "id": "9c4813ff",
   "metadata": {},
   "outputs": [],
   "source": [
    "df['Transaction_Date'] = pd.to_datetime(df['Transaction_Date'])\n",
    "print(df[['Transaction_Date']].dtypes)\n",
    "# Output: Transaction_Date    datetime64[ns]"
   ]
  },
  {
   "cell_type": "markdown",
   "id": "5f3b2b2b",
   "metadata": {},
   "source": [
    "### Category 2: Input and Output\n",
    "\n",
    "`print()` is essential for displaying information and debugging code.\n",
    "\n",
    "`input()` allows user interaction, useful for dynamic scripts.\n",
    "Printing specific rows or columns of a DataFrame helps with exploratory data analysis.\n",
    "\n",
    "**General Python Examples**\n",
    "\n",
    "Printing Output to the Console"
   ]
  },
  {
   "cell_type": "code",
   "execution_count": null,
   "id": "a5c213ab",
   "metadata": {},
   "outputs": [],
   "source": [
    "message = \"Hello, Python!\"\n",
    "print(message)"
   ]
  },
  {
   "cell_type": "code",
   "execution_count": null,
   "id": "14dd8d6b",
   "metadata": {},
   "outputs": [],
   "source": [
    "name = input(\"Enter your name: \")\n",
    "print(f\"Hello, {name}!\")"
   ]
  },
  {
   "cell_type": "code",
   "execution_count": null,
   "id": "785df2db",
   "metadata": {},
   "outputs": [],
   "source": [
    "age = input(\"Enter your age: \")\n",
    "print(f\"You will be {int(age) + 10} years old in 10 years\")"
   ]
  },
  {
   "cell_type": "markdown",
   "id": "95a025e2",
   "metadata": {},
   "source": [
    "**Dataframe Examples**"
   ]
  },
  {
   "cell_type": "code",
   "execution_count": null,
   "id": "cd2e07f0",
   "metadata": {},
   "outputs": [],
   "source": [
    "print(f\"Total transactions: ${df['Transaction_Amount'].sum():,.2f}\")\n",
    "print(f\"Number of unpaid invoices: {len(df[df['Invoice_Status'] == 'Unpaid'])}\")"
   ]
  },
  {
   "cell_type": "markdown",
   "id": "5037b96e",
   "metadata": {},
   "source": [
    "### Category 3:  Math and Numeric Operations\n",
    "Using `abs()`, `round()`, `pow()`, `sum()`, `min()`, `max()`\n",
    "\n",
    "**General Python Examples**"
   ]
  },
  {
   "cell_type": "code",
   "execution_count": null,
   "id": "a7a6653d",
   "metadata": {},
   "outputs": [],
   "source": [
    "numbers = [-5, 3.14159, 2, 8, -10]\n",
    "print(abs(numbers[0]))  # 5\n",
    "print(round(numbers[1], 2))  # 3.14\n",
    "print(pow(2, 3))  # 8\n",
    "print(sum(numbers))  # -1.85841\n",
    "print(min(numbers))  # -10\n",
    "print(max(numbers))  # 8"
   ]
  },
  {
   "cell_type": "markdown",
   "id": "38f51ab2",
   "metadata": {},
   "source": [
    "**Dataframe Examples**  \n",
    "Dataset examples using numerical operations`"
   ]
  },
  {
   "cell_type": "code",
   "execution_count": null,
   "id": "4a78ac8a",
   "metadata": {},
   "outputs": [],
   "source": [
    "print(f\"Average transaction: ${round(df['Transaction_Amount'].mean(), 2)}\")\n",
    "print(f\"Range of payment delays: {max(df['Payment_Delay_Days']) - min(df['Payment_Delay_Days'])} days\")\n",
    "print(f\"Total revenue: ${sum(df['Transaction_Amount']):,.2f}\")\n",
    "print(f\"Smallest payment delay: {min(df['Payment_Delay_Days'])} days\")\n",
    "print(f\"Largest payment delay: {max(df['Payment_Delay_Days'])} days\")\n",
    "print(f\"Absolute difference in tax rates: {abs(max(df['Tax_Percentage']) - min(df['Tax_Percentage']))}%\")"
   ]
  },
  {
   "cell_type": "markdown",
   "id": "9a839c33",
   "metadata": {},
   "source": [
    "### Category 4: Iterables and Collections\n",
    "\n",
    "Examples using `len()`, `sorted()`, `reversed()`, `enumerate()`, `zip()`\n",
    "\n",
    "**General Python Examples**\n",
    "```python\n",
    "items = ['invoice', 'payment', 'refund']\n",
    "print(len(items))  # 3\n",
    "print(items)  #  ['invoice', 'payment', 'refund', ]\n",
    "print(sorted(items))  # ['invoice', 'payment', 'refund']\n",
    "print(list(reversed(items)))  # ['refund', 'payment', 'invoice']\n",
    "print(list(enumerate(items)))  # [(0, 'invoice'), (1, 'payment'), (2, 'refund')]\n",
    "combined = list(zip(items, [1, 2, 3]))  # [('invoice', 1), ('payment', 2), ('refund', 3)]\n",
    "print(combined)\n",
    "\n",
    "nums = [4, 2, 1, 3]\n",
    "print(len(nums))  # 4\n",
    "print(sorted(nums))  # [1, 2, 3, 4]\n",
    "print(list(enumerate(nums)))  # [(0, 4), (1, 2), (2, 1), (3, 3)]\n",
    "```\n",
    "\n",
    "**Dataframe Examples**\n",
    "```python\n",
    "print(f\"Total records: {len(df)}\")\n",
    "print(f\"Sorted amounts: {sorted(df['Transaction_Amount'])[:5]}\")  # First 5\n",
    "for i, (amount, status) in enumerate(zip(df['Transaction_Amount'], df['Invoice_Status'])):\n",
    "   print(f\"Transaction {i+1}: ${amount} - {status}\")\n",
    "for idx, amount in enumerate(sorted(df['Transaction_Amount'])):\n",
    "   print(f\"Transaction {idx+1}: ${amount}\")   \n",
    "```"
   ]
  },
  {
   "cell_type": "markdown",
   "id": "c205cef3",
   "metadata": {},
   "source": [
    "### Category 5: Functional Programming\n",
    "\n",
    "Examples using `map()`, `filter()`, `lambda`\n",
    "\n",
    "**General Python Examples**\n",
    "```python\n",
    "numbers = [1, 2, 3, 4, 5]\n",
    "squared = list(map(lambda x: x**2, numbers))  # [1, 4, 9, 16, 25]\n",
    "evens = list(filter(lambda x: x % 2 == 0, numbers))  # [2, 4]\n",
    "from functools import reduce\n",
    "sum_all = reduce(lambda x, y: x + y, numbers)\n",
    "doubled = list(map(lambda x: x * 2, numbers))\n",
    "```\n",
    "\n",
    "**Dataframe Examples**\n",
    "```python\n",
    "high_transactions = list(filter(lambda x: x > 3000, df['Transaction_Amount']))\n",
    "tax_rates = list(map(lambda x: x/100, df['Tax_Percentage']))\n",
    "late_payments = list(filter(lambda x: x > 0, df['Payment_Delay_Days']))\n",
    "tax_amounts = list(map(lambda x, y: x * (y/100), df['Transaction_Amount'], df['Tax_Percentage']))\n",
    "tax_multiplier = list(map(lambda x: x/100, df['Tax_Percentage']))\n",
    "```"
   ]
  },
  {
   "cell_type": "markdown",
   "id": "59a10786",
   "metadata": {},
   "source": [
    "### Category 6: Logical and Comparison\n",
    "\n",
    "**General Python Examples**\n",
    "```python\n",
    "values = [True, True, False]\n",
    "print(all(values))  # False\n",
    "print(any(values))  # True\n",
    "numbers = [1, 2, 3, 4, 5]\n",
    "print(all(x > 0 for x in numbers))  # True\n",
    "print(any(x > 4 for x in numbers))  # True\n",
    "\n",
    "numbers = [2, 4, 6, 8]\n",
    "all_even = all(num % 2 == 0 for num in numbers)  # True\n",
    "any_over_five = any(num > 5 for num in numbers)  # True\n",
    "```\n",
    "\n",
    "**Dataframe Examples**\n",
    "```python\n",
    "all_paid = all(status == 'Paid' for status in df['Invoice_Status'])\n",
    "any_large = any(amount > 5000 for amount in df['Transaction_Amount'])\n",
    "all_usd = all(currency == 'USD' for currency in df['Currency'])\n",
    "any_late = any(delay > 30 for delay in df['Payment_Delay_Days'])\n",
    "```"
   ]
  },
  {
   "cell_type": "markdown",
   "id": "05295676",
   "metadata": {},
   "source": [
    "### Category 7: Object Introspection\n",
    "\n",
    "Examples using `type()`, `dir()`, `id()`, `help()`, `isinstance()`\n",
    "\n",
    "**General Python Examples**\n",
    "```python\n",
    "x = 42\n",
    "print(type(x))  # <class 'int'>\n",
    "print(isinstance(x, int))  # True\n",
    "print(dir(x))  # Shows all attributes and methods\n",
    "help(x)  # Shows documentation\n",
    "print(id(x))  # Shows unique identifier\n",
    "```\n",
    "\n",
    "**Dataframe Examples**\n",
    "```python\n",
    "print(type(df['Transaction_Amount']))  # pandas.Series\n",
    "print(isinstance(df, pd.DataFrame))  # True\n",
    "print(dir(df))  # Shows DataFrame methods\n",
    "print(df.dtypes)  # Shows data types of columns\n",
    "```"
   ]
  },
  {
   "cell_type": "markdown",
   "id": "bc77bc4b",
   "metadata": {},
   "source": [
    "### Category 8: File Handling\n",
    "\n",
    "**General Python Examples**\n",
    "```python\n",
    "with open('report.txt', 'w') as f:\n",
    "   f.write('Financial Report')\n",
    "\n",
    "with open('report.txt', 'r') as f:\n",
    "   content = f.read()\n",
    "   \n",
    "with open('data.txt', 'a') as f:\n",
    "   f.write('\\nAppending new data')\n",
    "```\n",
    "\n",
    "**Dataframe Examples**\n",
    "```python\n",
    "df.to_csv('transactions.csv', index=False)\n",
    "df_new = pd.read_csv('transactions.csv')\n",
    "df.to_excel('financial_report.xlsx', sheet_name='Transactions')\n",
    "df_subset = pd.read_excel('financial_report.xlsx', sheet_name='Transactions')\n",
    "```"
   ]
  },
  {
   "cell_type": "markdown",
   "id": "3fe4716f",
   "metadata": {},
   "source": [
    "### Category 9: Error Handling\n",
    "\n",
    "**General Python Examples**\n",
    "```python\n",
    "x = 1\n",
    "y = 2\n",
    "result = eval('x + y')  # 3\n",
    "expression = \"max([1, 2, 3])\"\n",
    "print(eval(expression))  # 3\n",
    "\n",
    "code = \"for i in range(3): print(i)\"\n",
    "exec(code)\n",
    "```\n",
    "\n",
    "**Dataframe Examples**\n",
    "```python\n",
    "try:\n",
    "   result = eval(\"df['Transaction_Amount'].mean()\")\n",
    "   print(f\"Average amount: ${result:,.2f}\")\n",
    "except Exception as e:\n",
    "   print(f\"Error: {e}\")\n",
    "\n",
    "try:\n",
    "   exec(\"df['Tax_Total'] = df['Transaction_Amount'] * df['Tax_Percentage'] / 100\")\n",
    "except Exception as e:\n",
    "   print(f\"Error: {e}\")\n",
    "```"
   ]
  },
  {
   "cell_type": "markdown",
   "id": "67be0684",
   "metadata": {},
   "source": [
    "### Category 10: Miscellaneous\n",
    "\n",
    "Examples using `range()`, `chr()`, `ord()`, `hash()`, `bin()`, `oct()`, `hex()`\n",
    "\n",
    "The `hash()` function returns the hash value of an object. In Python, a `hash`` is a unique integer value generated by a hash function for a given input. Hashes are commonly used in data structures like dictionaries and sets to quickly compare keys and store/retrieve data efficiently.\n",
    "\n",
    "In computing, a `hash` is a fixed-size numerical or alphanumeric value generated from input data of arbitrary size using a mathematical algorithm known as a hash function. This process, called hashing, transforms the input into a unique representation, often referred to as a hash code, hash value, or digest. Hashing is a fundamental technique in computer science and cybersecurity, providing a means to uniquely represent data, verify its integrity, and facilitate efficient data management\n",
    "\n",
    "**General Python Examples**\n",
    "```python\n",
    "for i in range(3):  # 0,1,2\n",
    "   print(chr(65 + i))  # ABC\n",
    "print(ord('A'))  # 65\n",
    "print(bin(10))  # 0b1010\n",
    "print(hex(255))  # 0xff\n",
    "print(hash('invoice'))  # hash value\n",
    "```\n",
    "\n",
    "The built-in `hash()` function returns the hash value of an object\n",
    "```python\n",
    "for id in range(len(df)):\n",
    "   print(f\"Hash of Client {df.loc[id, 'Client_ID']}: {hash(df.loc[id, 'Client_ID'])}\")\n",
    "print(f\"Binary representation of max amount: {bin(int(df['Transaction_Amount'].max()))}\")\n",
    "```\n",
    "\n",
    "**Dataframe Examples**\n",
    "```python\n",
    "for id in range(len(df)):\n",
    "   print(f\"Client {df.loc[id, 'Client_ID']}\")\n",
    "print(f\"Binary of max amount: {bin(int(df['Transaction_Amount'].max()))}\")\n",
    "print(f\"Hex of client count: {hex(len(df))}\")\n",
    "```"
   ]
  },
  {
   "cell_type": "markdown",
   "id": "554eabba",
   "metadata": {},
   "source": [
    "### Example using `range` – Run helper script to get code for remaining years\n",
    "Script to read a CSV file, skipping the first row and using the second row as column names"
   ]
  },
  {
   "cell_type": "code",
   "execution_count": null,
   "id": "878c8396",
   "metadata": {},
   "outputs": [],
   "source": [
    "for year in range(2011, 2021):\n",
    "    print(f\"\"\"\n",
    "file_path = 'R13792447_SL050.csv'  # Replace with your file path\n",
    "df{year} = pd.read_csv(file_path, skiprows=1)\n",
    "df{year}['year'] = {year}\n",
    "print('# of columns:', len(df{year}.columns))\n",
    "print('# of observations:', len(df{year}))\n",
    "df{year}[:2]\n",
    "    \"\"\")"
   ]
  },
  {
   "cell_type": "markdown",
   "id": "d8276c82",
   "metadata": {},
   "source": [
    "# Custom Functions in Python\n",
    "## What are they?\n",
    "- Reusable blocks of code defined using `def` keyword\n",
    "- Take inputs (parameters), perform operations, return outputs\n",
    "- Follow DRY principle (Don't Repeat Yourself)\n",
    "- Enable modular, organized, and maintainable code\n",
    "- Can be called multiple times with different inputs\n",
    "\n",
    "-------------------\n",
    "\n",
    "# Custom Functions\n",
    "**General Python Examples**"
   ]
  },
  {
   "cell_type": "code",
   "execution_count": null,
   "id": "4daf84f7",
   "metadata": {},
   "outputs": [],
   "source": [
    "def has_vowels(text):\n",
    "   \"\"\"Returns True if string contains vowels\"\"\"\n",
    "   return any(char in 'aeiouAEIOU' for char in text)"
   ]
  },
  {
   "cell_type": "code",
   "execution_count": null,
   "id": "b2455c45",
   "metadata": {},
   "outputs": [],
   "source": [
    "print(has_vowels('Python')) "
   ]
  },
  {
   "cell_type": "code",
   "execution_count": null,
   "id": "6462f485",
   "metadata": {},
   "outputs": [],
   "source": [
    "# Basic function to square a number and add a constant\n",
    "def square_plus(x, constant=1):\n",
    "   \"\"\"Takes a number, squares it and adds a constant (default 1)\"\"\"\n",
    "   return x**2 + constant"
   ]
  },
  {
   "cell_type": "code",
   "execution_count": null,
   "id": "1315aa8f",
   "metadata": {},
   "outputs": [],
   "source": [
    "print(square_plus(3))\n",
    "print(square_plus(3, 2))"
   ]
  },
  {
   "cell_type": "code",
   "execution_count": null,
   "id": "440071ee",
   "metadata": {},
   "outputs": [],
   "source": [
    "def calculate_depreciation(cost, salvage, years):\n",
    "   \"\"\"Calculate straight-line depreciation\"\"\"\n",
    "   return (cost - salvage) / years"
   ]
  },
  {
   "cell_type": "code",
   "execution_count": null,
   "id": "44ef123a",
   "metadata": {},
   "outputs": [],
   "source": [
    "calculate_depreciation(50000, 5000, 5)"
   ]
  },
  {
   "cell_type": "code",
   "execution_count": null,
   "id": "615c3dfb",
   "metadata": {},
   "outputs": [],
   "source": [
    "# Example 1: Straight-line depreciation for a machine\n",
    "machine_cost = 50000\n",
    "salvage_value = 5000\n",
    "useful_life = 5\n",
    "annual_depreciation = calculate_depreciation(machine_cost, salvage_value, useful_life)\n",
    "print(f\"Annual depreciation: ${annual_depreciation:,.2f}\")  # $9,000.00"
   ]
  },
  {
   "cell_type": "code",
   "execution_count": null,
   "id": "59884957",
   "metadata": {},
   "outputs": [],
   "source": [
    "def gross_margin(revenue, cogs):\n",
    "   \"\"\"Calculate gross margin percentage\"\"\"\n",
    "   return ((revenue - cogs) / revenue) * 100"
   ]
  },
  {
   "cell_type": "code",
   "execution_count": null,
   "id": "6bba401d",
   "metadata": {},
   "outputs": [],
   "source": [
    "# Example 3: Gross margin calculation\n",
    "revenue = 100000\n",
    "cost_of_goods = 60000\n",
    "margin = gross_margin(revenue, cost_of_goods)\n",
    "print(f\"Gross margin: {margin:.1f}%\") "
   ]
  },
  {
   "cell_type": "code",
   "execution_count": null,
   "id": "71c27965",
   "metadata": {},
   "outputs": [],
   "source": [
    "def debt_ratio(total_liabilities, total_assets):\n",
    "   \"\"\"Calculate debt ratio\"\"\"\n",
    "   return total_liabilities / total_assets"
   ]
  },
  {
   "cell_type": "code",
   "execution_count": null,
   "id": "dd3e9dc9",
   "metadata": {},
   "outputs": [],
   "source": [
    "# Calculate debt ratio\n",
    "print(debt_ratio(500000, 1000000))  "
   ]
  },
  {
   "cell_type": "code",
   "execution_count": null,
   "id": "43c9d9d4",
   "metadata": {},
   "outputs": [],
   "source": [
    "def working_capital(current_assets, current_liabilities):\n",
    "   \"\"\"Calculate working capital\"\"\"\n",
    "   return current_assets - current_liabilities"
   ]
  },
  {
   "cell_type": "code",
   "execution_count": null,
   "id": "ad4e9944",
   "metadata": {},
   "outputs": [],
   "source": [
    "# Calculate working capital\n",
    "print(working_capital(250000, 150000))  "
   ]
  },
  {
   "cell_type": "code",
   "execution_count": null,
   "id": "87b9755e",
   "metadata": {},
   "outputs": [],
   "source": [
    "def roi(net_profit, investment):\n",
    "   \"\"\"Calculate return on investment percentage\"\"\"\n",
    "   return (net_profit / investment) * 100"
   ]
  },
  {
   "cell_type": "code",
   "execution_count": null,
   "id": "9facb603",
   "metadata": {},
   "outputs": [],
   "source": [
    "# Calculate ROI\n",
    "print(f\"{roi(50000, 200000):.1f}%\") "
   ]
  },
  {
   "cell_type": "code",
   "execution_count": null,
   "id": "6ee1f6a2",
   "metadata": {},
   "outputs": [],
   "source": [
    "def interest_payment(principal, annual_rate, days):\n",
    "   \"\"\"Calculate interest for partial year\n",
    "   Using actual/365 day method\"\"\"\n",
    "   return principal * (annual_rate / 365) * days"
   ]
  },
  {
   "cell_type": "code",
   "execution_count": null,
   "id": "f6223b38",
   "metadata": {},
   "outputs": [],
   "source": [
    "# Calculate interest for 90 days\n",
    "print(interest_payment(100000, 0.06, 90)) "
   ]
  },
  {
   "cell_type": "code",
   "execution_count": null,
   "id": "a27a5f8b",
   "metadata": {},
   "outputs": [],
   "source": [
    "df[:1]"
   ]
  },
  {
   "cell_type": "markdown",
   "id": "818ed10d",
   "metadata": {},
   "source": [
    "#### Dataframe Examples\n",
    "\n",
    "Function to calculate tax percentage as low, medium, or high"
   ]
  },
  {
   "cell_type": "code",
   "execution_count": null,
   "id": "354fe941",
   "metadata": {},
   "outputs": [],
   "source": [
    "def categorize_tax_percentage(tax):\n",
    "    if tax < 6:\n",
    "        return 'Low'\n",
    "    elif tax <= 8:\n",
    "        return 'Medium'\n",
    "    else:\n",
    "        return 'High'"
   ]
  },
  {
   "cell_type": "markdown",
   "id": "29db8a4d",
   "metadata": {},
   "source": [
    "<br>Apply function to dataframe column without assigning output to a variable"
   ]
  },
  {
   "cell_type": "code",
   "execution_count": null,
   "id": "ddfa87d1",
   "metadata": {},
   "outputs": [],
   "source": [
    "df['Tax_Percentage'].apply(categorize_tax_percentage)"
   ]
  },
  {
   "cell_type": "markdown",
   "id": "519023a4",
   "metadata": {},
   "source": [
    "<br>Apply function to dataframe column and assign output to a new `global` (non-dataframe) variable. In PANDAS, this is also considered a `Series`."
   ]
  },
  {
   "cell_type": "code",
   "execution_count": null,
   "id": "df80bc9e",
   "metadata": {},
   "outputs": [],
   "source": [
    "tax_percentages = df['Tax_Percentage'].apply(categorize_tax_percentage)\n",
    "tax_percentages"
   ]
  },
  {
   "cell_type": "markdown",
   "id": "15e42558",
   "metadata": {},
   "source": [
    "<br>Apply function to dataframe column and assign output to a new dataframe column"
   ]
  },
  {
   "cell_type": "code",
   "execution_count": null,
   "id": "aa25ec57",
   "metadata": {},
   "outputs": [],
   "source": [
    "df['Tax_Category'] = df['Tax_Percentage'].apply(categorize_tax_percentage)\n",
    "df[['Tax_Percentage', 'Tax_Category']]"
   ]
  },
  {
   "cell_type": "code",
   "execution_count": null,
   "id": "4717f7f1",
   "metadata": {},
   "outputs": [],
   "source": [
    "def amount_category(amount):\n",
    "   \"\"\"Returns size category based on transaction amount\"\"\"\n",
    "   if amount < 1000: return 'Small'\n",
    "   elif amount < 3000: return 'Medium'\n",
    "   else: return 'Large'"
   ]
  },
  {
   "cell_type": "code",
   "execution_count": null,
   "id": "6ea48383",
   "metadata": {},
   "outputs": [],
   "source": [
    "df['Size_Category'] = df['Transaction_Amount'].apply(amount_category)      \n",
    "df[['Transaction_Amount', 'Size_Category']] "
   ]
  },
  {
   "cell_type": "markdown",
   "id": "d98887bf",
   "metadata": {},
   "source": [
    "### Small-Group Activity [10 minutes]\n",
    "- Write a custom function to check if the `Transaction_Amount` exceeds $3,000 and apply it directly to print the results. Have the output be 'Yes' or 'No'\n",
    "  - Call the function `is_large_transaction` and save the output as a `global variable` called `large_transaction_check`\n",
    "- Write a custom function to classify `Transaction_Amount` as `Small`, `Medium`, or `Large`.\n",
    "  - Call the function `categorize_transaction_amt` and save the output as a `dataframe column` called `Transaction_Category`"
   ]
  },
  {
   "cell_type": "code",
   "execution_count": null,
   "id": "3e1d0127",
   "metadata": {},
   "outputs": [],
   "source": [
    "#Result: Prdefints \"Yes\" or \"No\" for each row based on whether the transaction amount is > $3,000.\n",
    "def is_large_transaction"
   ]
  },
  {
   "cell_type": "code",
   "execution_count": null,
   "id": "95e44a54",
   "metadata": {},
   "outputs": [],
   "source": [
    "#Apply the function directly\n",
    "large_transaction_check = "
   ]
  },
  {
   "cell_type": "markdown",
   "id": "f0dc9bec",
   "metadata": {},
   "source": []
  },
  {
   "cell_type": "markdown",
   "id": "e8f1c9e3",
   "metadata": {},
   "source": [
    "# 2. Creating New Variables \n",
    "\n",
    "#### Modifying column values to create a new variable \n",
    "Basic syntax for creating a new column from an existing column:\n",
    "```python\n",
    "df['new_column'] = df['existing_column'] * 2\n",
    "```\n",
    "\n",
    "#### Using apply for custom transformations -- either a formal/named function or a `lambda` function\n",
    "```python\n",
    "df['new_column'] = df['existing_column'].apply(lambda x: x * 2 if x > 10 else x)\n",
    "```\n",
    "\n",
    "**Dataframe Examples**  \n",
    "Add a new column for the tax amount:"
   ]
  },
  {
   "cell_type": "code",
   "execution_count": null,
   "id": "28850931",
   "metadata": {},
   "outputs": [],
   "source": [
    "df['Tax_Amount'] = (df['Transaction_Amount'] * df['Tax_Percentage']) / 100\n",
    "df[['Transaction_Amount', 'Tax_Percentage', 'Tax_Amount']]"
   ]
  },
  {
   "cell_type": "markdown",
   "id": "88788979",
   "metadata": {},
   "source": [
    "<br>Add a column for the total transaction amount (including tax):"
   ]
  },
  {
   "cell_type": "code",
   "execution_count": null,
   "id": "cc337ea7",
   "metadata": {},
   "outputs": [],
   "source": [
    "df['Total_Transaction_Amount'] = df['Transaction_Amount'] + df['Tax_Amount']\n",
    "df[['Transaction_Amount', 'Tax_Amount', 'Total_Transaction_Amount']]"
   ]
  },
  {
   "cell_type": "markdown",
   "id": "d8217cb4",
   "metadata": {},
   "source": [
    "<br>Add a column with a discounted price"
   ]
  },
  {
   "cell_type": "code",
   "execution_count": null,
   "id": "a102c4f8",
   "metadata": {},
   "outputs": [],
   "source": [
    "df['Discounted_Price'] = df['Transaction_Amount'] * 0.9\n",
    "df[['Transaction_Amount', 'Discounted_Price']]"
   ]
  },
  {
   "cell_type": "markdown",
   "id": "c3808a1d",
   "metadata": {},
   "source": [
    "### Small-Group Activity [5 minutes]\n",
    "  - Create a column `Delayed_Payment` that is `True` if `Payment_Delay_Days` > 0, otherwise `False`."
   ]
  },
  {
   "cell_type": "code",
   "execution_count": null,
   "id": "ddf8e1d7",
   "metadata": {},
   "outputs": [],
   "source": [
    "df['Delayed_Payment'] =  "
   ]
  },
  {
   "cell_type": "markdown",
   "id": "a898b161",
   "metadata": {},
   "source": [
    "# 3. Converting Data Type\n",
    "\n",
    "\n",
    "## **Pandas Data Types**\n",
    "\n",
    "In Pandas, data types are used to represent the kind of data stored in a DataFrame or Series. These types are based on NumPy’s data types but include some enhancements specific to Pandas.\n",
    "\n",
    "---\n",
    "\n",
    "## **Core Data Types**\n",
    "\n",
    "### **1. Numeric Data Types**\n",
    "- Represent numerical data that can be used for mathematical operations.\n",
    "- **Examples**:\n",
    "  - `int64`: Integer values (e.g., 1, 2, -5, 0).\n",
    "    - Allows missing values (`NaN`).\n",
    "  - `float64`: Floating-point numbers (e.g., 1.0, -3.14, 2.718).\n",
    "- **Use Cases**:\n",
    "  - Representing quantities, measurements, or calculated values.\n",
    "\n",
    "---\n",
    "\n",
    "### **2. Object (String)**\n",
    "- Represents text or mixed data types.\n",
    "- Often used for columns containing:\n",
    "  - Strings (e.g., names, addresses).\n",
    "  - Mixed data types (e.g., a mix of numbers and text).\n",
    "- **Use Cases**:\n",
    "  - Storing categorical data, labels, or descriptive information.\n",
    "\n",
    "---\n",
    "\n",
    "### **3. Boolean (`bool`)**\n",
    "- Represents logical values: `True` or `False`.\n",
    "- **Use Cases**:\n",
    "  - Logical conditions, binary flags, or filters in data.\n",
    "\n",
    "---\n",
    "\n",
    "### **4. Datetime (`datetime64`)**\n",
    "- Represents dates and times.\n",
    "- Supports operations like:\n",
    "  - Calculating differences between dates.\n",
    "  - Extracting components (e.g., year, month, day).\n",
    "- **Use Cases**:\n",
    "  - Time-series data or date-related analysis.\n",
    "\n",
    "---\n",
    "\n",
    "### **5. Categorical**\n",
    "- Represents data with a fixed number of possible values (categories).\n",
    "- More memory-efficient than `object` type for repetitive data.\n",
    "- **Use Cases**:\n",
    "  - Storing data with limited unique values (e.g., regions, product categories).\n",
    "\n",
    "---\n",
    "\n",
    "### **6. Timedelta (`timedelta64`)**\n",
    "- Represents differences or durations between datetime values.\n",
    "- **Use Cases**:\n",
    "  - Calculating durations, intervals, or lags in time-series data.\n",
    "\n",
    "---\n",
    "\n",
    "\n",
    "---\n",
    "\n",
    "## **Checking and Converting Data Types**\n",
    "1. **Check Data Types**:\n",
    "   ```python\n",
    "   print(df.dtypes)\n",
    "   ```\n",
    "    \n",
    "# Reasons an Analytics Professional Needs to Change Data Types\n",
    "\n",
    "1. **Enable Calculations**: Convert strings or objects to numeric types (`int` or `float`) for performing mathematical operations (e.g., calculating totals, averages, or variances).\n",
    "2. **Standardize Dates**: Convert date strings to `datetime` for time-based analysis (e.g., trend analysis, aging reports, or forecasting).\n",
    "3. **Optimize Memory Usage**: Convert columns to more efficient types (e.g., `category` for repetitive text or `Int64` for nullable integers) to reduce memory usage.\n",
    "4. **Ensure Compatibility**: Convert data types to align with model or function requirements (e.g., numeric inputs for regression models or `datetime` for time-series functions).\n",
    "5. **Facilitate Grouping**: Convert data to categorical types for efficient grouping and aggregation (e.g., grouping by regions or product categories).\n",
    "\n",
    "    \n",
    "    \n",
    "### Convert Data Types:\n",
    "\n",
    "Convert to `float`:\n",
    "  ```python\n",
    "  df['column'] = df['column'].astype(float)\n",
    "  ```\n",
    "  \n",
    "Convert to datetime:\n",
    "  ```python    \n",
    "  df['date_column'] = pd.to_datetime(df['date_column'])\n",
    "  ```\n",
    "\n",
    "Convert to category:\n",
    "  ```python      \n",
    "  df['category_column'] = df['category_column'].astype('category')\n",
    "  ```\n",
    "\n",
    "## **Summary of Data Types**\n",
    "\n",
    "| Data Type      | Description                              | Example Values         |\n",
    "|----------------|------------------------------------------|------------------------|\n",
    "| `int64`        | Integer values                          | 1, 0, -5              |\n",
    "| `float64`      | Floating-point numbers                  | 1.0, -3.14, 2.718     |\n",
    "| `object`       | Strings or mixed data types             | \"Hello\", \"123\", \"NA\"  |\n",
    "| `bool`         | Logical values                          | True, False           |\n",
    "| `datetime64`   | Dates and times                         | 2023-01-01, 2024-05-05 |\n",
    "| `category`     | Categorical data (fixed set of values)  | \"Red\", \"Blue\", \"Green\"|\n",
    "| `timedelta64`  | Differences between datetime values      | 5 days, 2 hours       |\n"
   ]
  },
  {
   "cell_type": "markdown",
   "id": "f9274777",
   "metadata": {},
   "source": [
    "#### Dataframe Example"
   ]
  },
  {
   "cell_type": "code",
   "execution_count": null,
   "id": "db9e5463",
   "metadata": {},
   "outputs": [],
   "source": [
    "df.dtypes"
   ]
  },
  {
   "cell_type": "code",
   "execution_count": null,
   "id": "8a0e77c3",
   "metadata": {},
   "outputs": [],
   "source": [
    "df['Transaction_Date'] = pd.to_datetime(df['Transaction_Date'])\n",
    "df.dtypes"
   ]
  },
  {
   "cell_type": "markdown",
   "id": "b580d599",
   "metadata": {},
   "source": [
    "# 4. Levels of Measurement\n",
    "- Nominal, ordinal, interval, and ratio variables\n",
    "- Discrete vs. continuous variables\n",
    "- Binary variables\n",
    "\n",
    "\n",
    "---\n",
    "\n",
    "\n",
    "# **Introduction to Levels of Measurement**\n",
    "\n",
    "\n",
    "## **What Are Levels of Measurement?**\n",
    "- Levels of measurement describe the type of data and how it can be analyzed.\n",
    "- Understanding these levels is essential for:\n",
    "  - Choosing the correct statistical tests.\n",
    "  - Interpreting data accurately.\n",
    "  - Designing effective visualizations.\n",
    "\n",
    "---\n",
    "\n",
    "## **Key Levels of Measurement**\n",
    "1. **Nominal (Categorical)**\n",
    "   - Data that represents categories with no inherent order.\n",
    "   - **Examples**:\n",
    "     - `Industry` (e.g., Retail, Tech, Finance)\n",
    "     - `Region` (e.g., North, East, South, West)\n",
    "   - **Research Example**:\n",
    "     - \"Which region has the highest number of transactions?\"\n",
    "\n",
    "---\n",
    "\n",
    "2. **Ordinal**\n",
    "   - Data with a ranked or ordered structure, but intervals between values are not consistent.\n",
    "   - **Examples**:\n",
    "     - Customer satisfaction levels (e.g., Low, Medium, High)\n",
    "     - Payment priority (e.g., First, Second, Third)\n",
    "   - **Research Example**:\n",
    "     - \"What is the most common customer satisfaction level?\"\n",
    "\n",
    "---\n",
    "\n",
    "3. **Interval**\n",
    "   - Data with consistent intervals but no true zero point.\n",
    "   - **Examples**:\n",
    "     - Temperature in Celsius or Fahrenheit.\n",
    "   - **Research Example**:\n",
    "     - \"How do average temperatures affect transaction amounts?\"\n",
    "\n",
    "---\n",
    "\n",
    "4. **Ratio**\n",
    "   - Data with a true zero, allowing for meaningful ratios and comparisons.\n",
    "   - **Examples**:\n",
    "     - `Transaction_Amount`\n",
    "     - `Payment_Delay_Days`\n",
    "   - **Research Example**:\n",
    "     - \"How does the average transaction amount differ by industry?\"\n",
    "\n",
    "---\n",
    "\n",
    "## **Why Are Levels of Measurement Important?**\n",
    "- **Nominal and Ordinal**:\n",
    "  - Suitable for grouping and ranking.\n",
    "  - Often visualized using bar charts or pie charts.\n",
    "- **Interval and Ratio**:\n",
    "  - Suitable for mathematical operations like addition and multiplication.\n",
    "  - Often visualized using histograms, line charts, or scatterplots.\n",
    "\n",
    "---\n",
    "\n",
    "# **Activity**\n",
    "- **Classify Dataset Columns**:\n",
    "  - Examine each column in the dataset and identify its level of measurement (Nominal, Ordinal, Interval, Ratio).\n",
    "\n",
    "\n",
    "---\n",
    "\n",
    "# Discrete vs Continuous Variables\n",
    "\n",
    "## **Discrete Variables**\n",
    "- Represent **countable** values.\n",
    "- Take on **specific, distinct values** (e.g., integers).\n",
    "- Often arise from **counting** processes.\n",
    "- **Examples**:\n",
    "  - Number of employees in a company.\n",
    "  - Number of accounting errors in a report.\n",
    "\n",
    "---\n",
    "\n",
    "## **Continuous Variables**\n",
    "- Represent **measurable** quantities.\n",
    "- Can take on **any value within a range** (e.g., real numbers).\n",
    "- Often arise from **measurement** processes.\n",
    "- **Examples**:\n",
    "  - Revenue of a company (in dollars).\n",
    "  - Time taken to complete a task (in seconds).\n",
    "\n",
    "---\n",
    "\n",
    "## **Key Differences**\n",
    "| **Aspect**          | **Discrete Variables**              | **Continuous Variables**          |\n",
    "|----------------------|-------------------------------------|------------------------------------|\n",
    "| **Nature**           | Countable                          | Measurable                        |\n",
    "| **Values**           | Distinct, separate values          | Infinite possibilities in a range |\n",
    "| **Examples**         | Number of products sold            | Weight of a product (in kg)       |\n",
    "\n",
    "---\n",
    "\n",
    "**Tip:**  \n",
    "Understanding the type of variable is critical for selecting the appropriate statistical methods and visualizations!\n",
    "\n",
    "- [Choosing the Correct Statistical Test](https://stats.oarc.ucla.edu/other/mult-pkg/whatstat/)\n",
    "\n",
    "\n",
    "---\n",
    "\n",
    "\n",
    "# Additional Considerations\n",
    "\n",
    "### Mutually Exclusive and Collectively Exhaustive\n",
    "\n",
    "1. **Mutually Exclusive**: Each case has only one value\n",
    "    - Example: Age categories that do not overlap.  \n",
    "2. **Collectively Exhaustive**: Every case falls into some category.\n",
    "   - Example: Adding \"Senior\" to class standings (Freshman, Sophomore, Junior)."
   ]
  },
  {
   "cell_type": "markdown",
   "id": "1bb5294f",
   "metadata": {},
   "source": [
    "# Binary Variables\n",
    "\n",
    "## **How Do Binary Variables Relate to Levels of Measurement?**\n",
    "- **Binary Variables**:\n",
    "  - A special case of **Nominal** data with only two categories typically encoded as `0` and `1`.\n",
    "  - Often used for classification tasks or to simplify complex categories.\n",
    "  - Can be **based off** nominal, ordinal, interval, or ratio variables.\n",
    "  - Can be **based off** discrete or continuous variables.  \n",
    "  - Also known as *dichotomous*, *indicator*, or *dummy* variables.\n",
    "\n",
    "---\n",
    "\n",
    "- **Why Use Binary Variables?**\n",
    "  - Simplify categorical data for analysis.\n",
    "  - Required for some statistical models (e.g., logistic regression).\n",
    "  - Useful for yes/no research questions:\n",
    "    - **Example**: \"What factors predict whether an invoice is paid or unpaid?\"\n",
    "  - Binary generally useful for:\n",
    "    - **Clear categories**\n",
    "      ```python\n",
    "      df['Is_Late'] = df['Payment_Delay_Days'].apply(lambda x: 1 if x > 0 else 0)\n",
    "      ``` \n",
    "      \n",
    "    - **Risk assessment**\n",
    "      ```python\n",
    "      df['High_Risk'] = (df['Payment_Delay_Days'] > 30) & (df['Transaction_Amount'] > 3000)\n",
    "      ``` \n",
    "---\n",
    "\n",
    "# **Activity**\n",
    "\n",
    "1. **Do we have any binary variables in our dataframe?**\n",
    "<br>\n",
    "\n",
    "2. **Ratio Variable Exploration**:\n",
    "   - Analyze the relationship between `Transaction_Amount` and `Payment_Delay_Days`:\n",
    "     ```python\n",
    "     import matplotlib.pyplot as plt\n",
    "     \n",
    "     plt.scatter(df['Transaction_Amount'], df['Payment_Delay_Days'])\n",
    "     plt.title('Transaction Amount vs. Payment Delay')\n",
    "     plt.xlabel('Transaction Amount')\n",
    "     plt.ylabel('Payment Delay (Days)')\n",
    "     plt.show()\n",
    "     ```\n",
    "   - Discuss: Why is it helpful to retain `Payment_Delay_Days` as a ratio variable?\n",
    "\n",
    "\n",
    "\n",
    "\n",
    "\n",
    "\n",
    "<br>\n",
    "\n",
    "3. **Binary Conversion Exercise**:\n",
    "   - Convert `Invoice_Status` to a binary variable.\n",
    "     ```python\n",
    "     df['Invoice_Status_Binary'] = df['Invoice_Status'].apply(lambda x: 1 if x == 'Paid' else 0)\n",
    "     print(df[['Invoice_Status', 'Invoice_Status_Binary']])\n",
    "     ```\n",
    "<br>\n",
    "\n",
    "3. **Discussion Questions**:\n",
    "  - What are the pros and cons of reducing `Invoice_Status` to binary?\n",
    "  - \"When might it be beneficial to convert `Payment_Delay_Days` into a binary variable (e.g., delayed/not delayed)?\"\n",
    "  - \"What insights might be lost by simplifying ratio-level data into binary categories?\"\n",
    "  - \"Can binary variables be transformed back into ratio variables? Why or why not?\"\n",
    "  - How does the choice of binary vs. interval/ratio  impact the richness of the insights you can gain?\n",
    "\n",
    "\n",
    "---\n",
    "\n",
    "## Interactive Exercises\n",
    "\n",
    "#### **Hands-On Exercise**\n",
    "1. **Binary Conversion**:\n",
    "   - Convert `Invoice_Status` to a binary variable called `Invoice_Status_Binary`:\n",
    "     ```python\n",
    "     df['Invoice_Status_Binary'] = \n",
    "     ```\n",
    "\n",
    "2. **Use Cases**:\n",
    "   - When might you want to use `Invoice_Status_Binary` instead of `Invoice_Status`?\n",
    "     - Example: Predicting likelihood of payment in a machine learning `classification` problem.\n",
    "\n",
    "#### Discussion Questions\n",
    "\"When would you convert `Payment_Delay_Days` to binary? When keep it ratio?\"\n",
    "\n",
    "- What information is lost when converting interval/ratio variables to binary (e.g., converting `Payment_Delay_Days` into `Delay_Binary` where delays above zero are \"1\" and others are \"0\")?\n",
    "\n",
    "- Create scenarios where each is better:\n",
    "  - Predicting default risk \n",
    "  - Contract compliance (met terms or didn't)\n",
    "  - Quick risk flagging\n",
    "  - Calculating late fees \n",
    "  - Detailed risk assessment\n",
    "  - Performance trending\n",
    "  - Statistical modeling\n",
    "  - Client segmentation \n",
    "\n",
    "---\n",
    "\n",
    "## **Takeaways**\n",
    "- Binary variables have unique strengths depending on the research context.\n",
    "    - Useful in certain analyses (e.g., logistic regression, classification).\n",
    "- Binary variables simplify analysis, while interval/ratio variables retain detail and nuance.\n",
    "- Interval/ratio variables provide richer information (e.g., when studying trends or correlations)."
   ]
  },
  {
   "cell_type": "markdown",
   "id": "11aafdf0",
   "metadata": {},
   "source": [
    "# Additional Examples\n",
    "What level of measurement are the following?\n",
    "- [Digital Nomad Index](https://visaguide.world/digital-nomad-visa/digital-nomad-index/)\n",
    "- [Quality of Life Index](https://www.numbeo.com/quality-of-life/country_result.jsp?country=Canada)  \n",
    "- Earnings Announcements:\n",
    "  - https://www.chicagobooth.edu/review/surprise-yesterdays-bad-earnings-news-can-be-good\n",
    "  - https://www.nasdaq.com/articles/earnings-announcements-sliced-and-diced"
   ]
  },
  {
   "cell_type": "markdown",
   "id": "f91719a1",
   "metadata": {},
   "source": [
    "# Important Resources\n",
    "\n",
    "Learn how to make the most of Python, Jupyter, Colaboratory, and related tools with these resources:\n",
    "\n",
    "### Working with Notebooks in Colaboratory\n",
    "- [Overview of Colaboratory](/notebooks/basic_features_overview.ipynb)  \n",
    "- [Guide to Markdown](/notebooks/markdown_guide.ipynb)\n",
    "- [Importing libraries and installing dependencies](/notebooks/snippets/importing_libraries.ipynb)\n",
    "- [Saving and loading notebooks in GitHub](https://colab.research.google.com/github/googlecolab/colabtools/blob/master/notebooks/colab-github-demo.ipynb)\n",
    "\n",
    "### Working with Data\n",
    "- [Loading data: Drive, Sheets, and Google Cloud Storage](https://colab.research.google.com/notebooks/io.ipynb)\n",
    "- [Charts: visualizing data](/notebooks/charts.ipynb)\n",
    "- [Getting started with BigQuery](/notebooks/bigquery.ipynb)"
   ]
  }
 ],
 "metadata": {
  "kernelspec": {
   "display_name": "Python 3 (ipykernel)",
   "language": "python",
   "name": "python3"
  },
  "language_info": {
   "codemirror_mode": {
    "name": "ipython",
    "version": 3
   },
   "file_extension": ".py",
   "mimetype": "text/x-python",
   "name": "python",
   "nbconvert_exporter": "python",
   "pygments_lexer": "ipython3",
   "version": "3.9.7"
  }
 },
 "nbformat": 4,
 "nbformat_minor": 5
}
