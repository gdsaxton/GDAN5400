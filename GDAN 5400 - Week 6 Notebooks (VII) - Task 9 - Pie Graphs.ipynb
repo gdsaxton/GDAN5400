{
 "cells": [
  {
   "cell_type": "markdown",
   "id": "1c907206",
   "metadata": {},
   "source": [
    "[![Open In Colab](https://colab.research.google.com/assets/colab-badge.svg)](https://colab.research.google.com/github/gdsaxton/GDAN5400/blob/main/Week%206%20Notebooks/GDAN%205400%20-%20Week%206%20Notebooks%20%28VII%29%20-%20Pie%20Graphs.ipynb)"
   ]
  },
  {
   "cell_type": "markdown",
   "id": "a58dcaba",
   "metadata": {},
   "source": [
    "This notebook provides a mini-tutorial on understanding and using pie charts in Python "
   ]
  },
  {
   "cell_type": "code",
   "execution_count": null,
   "id": "ce9da7f0",
   "metadata": {},
   "outputs": [],
   "source": [
    "%%time\n",
    "import datetime\n",
    "print (\"Current date and time : \", datetime.datetime.now().strftime(\"%Y-%m-%d %H:%M:%S\"), '\\n')"
   ]
  },
  {
   "cell_type": "markdown",
   "id": "9af03858",
   "metadata": {},
   "source": [
    "# Load Packages and Set Working Directory\n",
    "Import several necessary Python packages. We will be using the <a href=\"http://pandas.pydata.org/\">Python Data Analysis Library,</a> or <i>PANDAS</i>, extensively for our data manipulations in this and future tutorials."
   ]
  },
  {
   "cell_type": "code",
   "execution_count": null,
   "id": "20c2d746",
   "metadata": {},
   "outputs": [],
   "source": [
    "import numpy as np\n",
    "import pandas as pd\n",
    "from pandas import DataFrame\n",
    "from pandas import Series"
   ]
  },
  {
   "cell_type": "markdown",
   "id": "6ab477ac",
   "metadata": {},
   "source": [
    "<br>\n",
    "PANDAS allows you to set various options for, among other things, inspecting the data. I like to be able to see all of the columns. Therefore, I typically include this line at the top of all my notebooks."
   ]
  },
  {
   "cell_type": "code",
   "execution_count": null,
   "id": "bdca7e41",
   "metadata": {},
   "outputs": [],
   "source": [
    "#http://pandas.pydata.org/pandas-docs/stable/options.html\n",
    "pd.set_option('display.max_columns', None)\n",
    "pd.set_option('max_colwidth', 250)\n",
    "pd.set_option('display.max_info_columns', 500)"
   ]
  },
  {
   "cell_type": "markdown",
   "id": "8b452531",
   "metadata": {},
   "source": [
    "# Read in Data"
   ]
  },
  {
   "cell_type": "code",
   "execution_count": null,
   "id": "55a6165c",
   "metadata": {},
   "outputs": [],
   "source": [
    "import requests\n",
    "\n",
    "# NOTE: replace `https://github.com/` with `https://raw.githubusercontent.com`\n",
    "# https://github.com/gdsaxton/GDAN5400/blob/main/Coding%20Assignment%201/final_insurance_fraud.xlsx\n",
    "url = 'https://raw.githubusercontent.com/gdsaxton/GDAN5400/main/Coding%20Assignment%203/final_insurance_fraud.xlsx'\n",
    "\n",
    "# Download the file\n",
    "response = requests.get(url)\n",
    "with open('final_insurance_fraud.xlsx', 'wb') as f:\n",
    "    f.write(response.content)\n",
    "\n",
    "# Load the Excel file\n",
    "df = pd.read_excel('final_insurance_fraud.xlsx', engine='openpyxl')\n",
    "\n",
    "print('# of rows:', len(df), '\\n')\n",
    "\n",
    "df[:2]"
   ]
  },
  {
   "cell_type": "markdown",
   "id": "d67d80fb",
   "metadata": {},
   "source": [
    "# **Mini-Tutorial: Understanding Pie Charts**\n",
    "\n",
    "## **What is a Pie Chart?**\n",
    "A **pie chart** is a circular statistical graphic divided into slices, where each slice represents a **proportion** of a whole. It is often used to show **percentage distributions** across different categories.\n",
    "\n",
    "## **Why Use Pie Charts in Data Analytics?**\n",
    "- **Easily communicate proportions** – Helps visualize how different parts contribute to a whole.\n",
    "- **Compare category sizes at a glance** – Shows which categories dominate and which are smaller.\n",
    "- **Ideal for percentage-based insights** – Useful when working with data where the sum of all categories equals 100%.\n",
    "\n",
    "## **When to Use Pie Charts in Insurance & Accounting Analytics**\n",
    "Pie charts are particularly useful in **insurance and financial analytics** to:\n",
    "- **Visualize the distribution of claim types** – e.g., hail damage vs. wind damage vs. water damage.\n",
    "- **Show the proportion of paid vs. unpaid invoices** – Helps identify outstanding receivables.\n",
    "- **Analyze customer segmentation** – See what percentage of policies belong to different risk levels.\n",
    "- **Break down expenses or revenue sources** – e.g., distribution of different cost categories in an insurance claim.\n",
    "\n",
    "## **Key Features of Pie Charts**\n",
    "1. **Each slice represents a proportion**  \n",
    "   - The total sum of the slices equals **100%**.\n",
    "   - Each category's size is determined by its relative frequency or total value.\n",
    "\n",
    "2. **Best for Small Category Counts**  \n",
    "   - Works well when **there are only a few categories** (e.g., 3-6).\n",
    "   - Not ideal for **datasets with too many categories**, as slices can become difficult to distinguish.\n",
    "\n",
    "3. **Useful for Quick Comparisons**  \n",
    "   - Helps identify **dominant categories** at a glance.\n",
    "   - Makes it easy to communicate **relative importance** of different groups.\n",
    "\n",
    "By using **pie charts correctly**, analysts can quickly understand category proportions and communicate key insights visually.\n"
   ]
  },
  {
   "cell_type": "markdown",
   "id": "67e97e3a",
   "metadata": {},
   "source": [
    "## **Example 1: Pie Chart of Claims by Adjuster**\n",
    "#### **Purpose**\n",
    "This pie chart visualizes the **distribution of claims assigned to different adjusters**, helping to analyze workload distribution."
   ]
  },
  {
   "cell_type": "code",
   "execution_count": null,
   "id": "19586de8",
   "metadata": {},
   "outputs": [],
   "source": [
    "claims_by_adjuster = df['Adjuster'].value_counts()\n",
    "\n",
    "# Create a pie chart\n",
    "plt.figure(figsize=(8, 8))\n",
    "plt.pie(claims_by_adjuster, labels=claims_by_adjuster.index, autopct='%1.1f%%', colors=['skyblue', 'lightcoral', 'gold', 'lightgreen'])\n",
    "plt.title(\"Proportion of Claims by Adjuster\")\n",
    "plt.show()"
   ]
  },
  {
   "cell_type": "markdown",
   "id": "db70d37f",
   "metadata": {},
   "source": [
    "#### Key Insight\n",
    "- Adjusters with significantly higher claim volumes may be handling more complex cases or working in regions with higher insurance claims."
   ]
  },
  {
   "cell_type": "markdown",
   "id": "aaaabc8c",
   "metadata": {},
   "source": [
    "## Example 2: Pie Chart of Claim Types\n",
    "**Purpose** - This pie chart helps visualize **the proportion of different claim types in the dataset**, allowing insurers to see which types of damages occur most frequently."
   ]
  },
  {
   "cell_type": "code",
   "execution_count": null,
   "id": "513297aa",
   "metadata": {},
   "outputs": [],
   "source": [
    "# Count the number of claims by type\n",
    "claim_counts = df['How did the loss or damage happen?'].value_counts()\n",
    "\n",
    "# Create the pie chart\n",
    "plt.figure(figsize=(8,8))\n",
    "plt.pie(claim_counts, labels=claim_counts.index, autopct='%1.1f%%', colors=['skyblue', 'lightcoral', 'gold', 'lightgreen', 'orange'], startangle=140)\n",
    "plt.title(\"Distribution of Claim Types\")\n",
    "plt.show()"
   ]
  },
  {
   "cell_type": "markdown",
   "id": "56240647",
   "metadata": {},
   "source": [
    "<br>There is **no variation!** This is a good example of the importance of getting to know your data. "
   ]
  },
  {
   "cell_type": "markdown",
   "id": "2f8e68b9",
   "metadata": {},
   "source": [
    "## **Conclusions on Pie Charts**\n",
    "Pie charts are a simple yet effective way to visualize **proportions** in a dataset. They help in **quickly understanding category distributions** and are especially useful in **insurance and accounting analytics** to:\n",
    "- **Highlight dominant categories** – Easily see which claim types, payment statuses, or financial categories take up the largest share.\n",
    "- **Compare relative proportions** – Useful for understanding how different elements contribute to the whole (e.g., paid vs. unpaid claims).\n",
    "- **Communicate insights effectively** – Provides an intuitive way for stakeholders to grasp key data points at a glance.\n",
    "\n",
    "### **When to Use Pie Charts**\n",
    "- Best for datasets with **a few distinct categories** (3-6).\n",
    "- Works well when analyzing **percentage-based distributions**.\n",
    "- Useful when **visualizing parts of a whole**, such as revenue sources, expense categories, or claim types.\n",
    "\n",
    "### **Limitations of Pie Charts**\n",
    "- **Not effective for large numbers of categories** – Too many slices make it difficult to interpret.\n",
    "- **Difficult to compare precise values** – A bar chart may be better for detailed comparisons.\n",
    "- **Cannot show trends over time** – A line or bar chart would be more appropriate.\n",
    "\n",
    "By using pie charts appropriately, analysts can effectively **communicate key distributions** and **help stakeholders make informed decisions** based on visualized proportions.\n"
   ]
  }
 ],
 "metadata": {
  "kernelspec": {
   "display_name": "Python 3 (ipykernel)",
   "language": "python",
   "name": "python3"
  },
  "language_info": {
   "codemirror_mode": {
    "name": "ipython",
    "version": 3
   },
   "file_extension": ".py",
   "mimetype": "text/x-python",
   "name": "python",
   "nbconvert_exporter": "python",
   "pygments_lexer": "ipython3",
   "version": "3.9.7"
  }
 },
 "nbformat": 4,
 "nbformat_minor": 5
}
