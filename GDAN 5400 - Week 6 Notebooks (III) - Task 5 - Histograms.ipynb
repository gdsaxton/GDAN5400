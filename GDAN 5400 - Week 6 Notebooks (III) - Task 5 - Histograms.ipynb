{
 "cells": [
  {
   "cell_type": "markdown",
   "id": "1c907206",
   "metadata": {},
   "source": [
    "[![Open In Colab](https://colab.research.google.com/assets/colab-badge.svg)](https://colab.research.google.com/github/gdsaxton/GDAN5400/blob/main/Week%206%20Notebooks/GDAN%205400%20-%20Week%206%20Notebooks%20%28III%29%20-%20Histograms.ipynb)"
   ]
  },
  {
   "cell_type": "markdown",
   "id": "a58dcaba",
   "metadata": {},
   "source": [
    "This notebook provides a mini-tutorial on understanding and using histograms in Python "
   ]
  },
  {
   "cell_type": "code",
   "execution_count": null,
   "id": "ce9da7f0",
   "metadata": {},
   "outputs": [],
   "source": [
    "%%time\n",
    "import datetime\n",
    "print (\"Current date and time : \", datetime.datetime.now().strftime(\"%Y-%m-%d %H:%M:%S\"), '\\n')"
   ]
  },
  {
   "cell_type": "markdown",
   "id": "9af03858",
   "metadata": {},
   "source": [
    "# Load Packages and Set Working Directory\n",
    "Import several necessary Python packages. We will be using the <a href=\"http://pandas.pydata.org/\">Python Data Analysis Library,</a> or <i>PANDAS</i>, extensively for our data manipulations in this and future tutorials."
   ]
  },
  {
   "cell_type": "code",
   "execution_count": null,
   "id": "20c2d746",
   "metadata": {},
   "outputs": [],
   "source": [
    "import numpy as np\n",
    "import pandas as pd\n",
    "from pandas import DataFrame\n",
    "from pandas import Series"
   ]
  },
  {
   "cell_type": "markdown",
   "id": "6ab477ac",
   "metadata": {},
   "source": [
    "<br>\n",
    "PANDAS allows you to set various options for, among other things, inspecting the data. I like to be able to see all of the columns. Therefore, I typically include this line at the top of all my notebooks."
   ]
  },
  {
   "cell_type": "code",
   "execution_count": null,
   "id": "bdca7e41",
   "metadata": {},
   "outputs": [],
   "source": [
    "#http://pandas.pydata.org/pandas-docs/stable/options.html\n",
    "pd.set_option('display.max_columns', None)\n",
    "pd.set_option('max_colwidth', 250)\n",
    "pd.set_option('display.max_info_columns', 500)"
   ]
  },
  {
   "cell_type": "markdown",
   "id": "8b452531",
   "metadata": {},
   "source": [
    "# Read in Data"
   ]
  },
  {
   "cell_type": "code",
   "execution_count": null,
   "id": "55a6165c",
   "metadata": {},
   "outputs": [],
   "source": [
    "import requests\n",
    "\n",
    "# NOTE: replace `https://github.com/` with `https://raw.githubusercontent.com`\n",
    "# https://github.com/gdsaxton/GDAN5400/blob/main/Coding%20Assignment%201/final_insurance_fraud.xlsx\n",
    "url = 'https://raw.githubusercontent.com/gdsaxton/GDAN5400/main/Coding%20Assignment%203/final_insurance_fraud.xlsx'\n",
    "\n",
    "# Download the file\n",
    "response = requests.get(url)\n",
    "with open('final_insurance_fraud.xlsx', 'wb') as f:\n",
    "    f.write(response.content)\n",
    "\n",
    "# Load the Excel file\n",
    "df = pd.read_excel('final_insurance_fraud.xlsx', engine='openpyxl')\n",
    "\n",
    "print('# of rows:', len(df), '\\n')\n",
    "\n",
    "df[:2]"
   ]
  },
  {
   "cell_type": "markdown",
   "id": "1a93d80f",
   "metadata": {},
   "source": [
    "# Histograms\n",
    "\n",
    "In this lesson we will cover how to visualize distributions using **histograms and trend curves** to identify patterns.\n",
    "\n",
    "---\n",
    "\n",
    "# **Mini-Tutorial: Understanding Histograms in Data Analytics**\n",
    "\n",
    "## **What Is a Histogram?**\n",
    "A **histogram** is a type of bar chart that represents the **distribution of a numerical variable**. Unlike a traditional bar chart, which compares different categories, a histogram groups data into **bins (intervals)** and shows how many observations fall into each bin.\n",
    "\n",
    "Histograms provide an **at-a-glance** view of how data is distributed, making them one of the most commonly used visualization tools in data analytics.\n",
    "\n",
    "---\n",
    "\n",
    "## **Why Are Histograms Important?**\n",
    "Histograms help data analysts **understand patterns, trends, and anomalies** in datasets. Some key reasons histograms are valuable include:\n",
    "\n",
    "### **1. Revealing the Shape of Data Distributions**\n",
    "Histograms allow analysts to quickly determine whether data follows a **normal distribution, skewed distribution, or other patterns**. \n",
    "\n",
    "- A **normal (bell-shaped) distribution** suggests that most values cluster around the center.\n",
    "- A **right-skewed (positively skewed) distribution** means most values are on the lower end, with some extreme high values.\n",
    "- A **left-skewed (negatively skewed) distribution** means most values are high, with a few low outliers.\n",
    "\n",
    "Understanding these patterns helps analysts decide which statistical methods are appropriate.\n",
    "\n",
    "### **2. Identifying Outliers**\n",
    "Histograms help **spot outliers**, or extreme values that don’t fit the overall pattern of the dataset. \n",
    "\n",
    "For example, in an **insurance claims dataset**, if most claims are between **$5,000 and $15,000** but a few exceed **$100,000**, those extreme values will show up as separate bars on the far right of the histogram. These could indicate **fraudulent claims or special cases** that require further investigation.\n",
    "\n",
    "### **3. Assessing Data Spread and Variability**\n",
    "The **width of the histogram** (the range of bins) and the **height of the bars** (frequency of observations) provide insights into how **spread out or concentrated** data is.\n",
    "\n",
    "- If most values are tightly clustered within a few bins, the dataset has **low variability**.\n",
    "- If the histogram is widely spread out, the dataset has **high variability**, meaning values fluctuate more.\n",
    "\n",
    "For accountants and financial analysts, understanding variability is crucial when analyzing revenue fluctuations, stock prices, or risk exposure.\n",
    "\n",
    "### **4. Comparing Different Groups**\n",
    "Histograms can help compare **different categories** within a dataset.\n",
    "\n",
    "For example, in an **insurance dataset**, analysts might create separate histograms for:\n",
    "- Claims from different **regions**.\n",
    "- Claims from different **roofing materials**.\n",
    "- Claims based on **wind speed categories**.\n",
    "\n",
    "Comparing these distributions helps **identify trends and discrepancies** across groups.\n",
    "\n",
    "### **5. Spotting Data Entry Errors or Data Quality Issues**\n",
    "Histograms often reveal **unexpected spikes or gaps** in data, which may indicate errors.\n",
    "\n",
    "For instance, if an **insurance claims dataset** shows an unusually high number of claims with exactly **$10,000**, it could suggest:\n",
    "- A rounding issue in the data.\n",
    "- A reporting bias where adjusters tend to estimate at round numbers.\n",
    "- A systemic problem in claim processing.\n",
    "\n",
    "Identifying such anomalies ensures **data integrity and accuracy** in analysis.\n",
    "\n",
    "---\n",
    "\n",
    "## **Key Takeaways**\n",
    "- **Histograms summarize numerical data by grouping values into bins and showing their frequency.**\n",
    "- They help reveal **data distribution, outliers, variability, and potential errors**.\n",
    "- Analysts use histograms to **compare groups, detect fraud, and assess risk**.\n",
    "- A well-interpreted histogram **provides actionable insights** before applying more advanced statistical techniques.\n",
    "\n",
    "Mastering histograms is an essential skill in **data analytics, finance, and accounting**, enabling professionals to quickly assess and interpret complex datasets.\n",
    "\n"
   ]
  },
  {
   "cell_type": "markdown",
   "id": "4ac18fee",
   "metadata": {},
   "source": [
    "# **Examples of Histograms Using the Insurance Claims Dataset**\n",
    "\n",
    "Now that we understand what histograms are and why they are useful, let's explore some examples using the **insurance claims dataset (`df`)**. These examples highlight how histograms can help us **analyze distributions, detect anomalies, and gain business insights**.\n",
    "\n",
    "---\n",
    "\n",
    "## **Example 1: Distribution of Estimated Repair Costs**\n",
    "Understanding how **repair costs** are distributed can help insurance companies assess typical claim amounts, identify outliers, and detect potential fraud.\n",
    "\n",
    "### **Why This Matters**\n",
    "- A **normal distribution** of repair costs suggests a predictable range of claims.\n",
    "- **Skewed distributions** might indicate that some claims are significantly higher or lower than others.\n",
    "- If there are **multiple peaks**, it may suggest different categories of claims, such as minor vs. major damage.\n",
    "\n",
    "### **Insights to Look For**\n",
    "- Are repair costs **normally distributed**, or do we see skewness?\n",
    "- Are there **extremely high or low claims** that might need further investigation?\n",
    "- Do most claims fall within a **typical range**, or is there high variability?\n",
    "\n",
    "---\n",
    "\n",
    "## **Example 2: Distribution of Wind Speed in Insurance Claims**\n",
    "Wind speed is a critical factor in storm-related insurance claims. Examining its distribution can help analysts understand **how severe weather events impact claims**.\n",
    "\n",
    "### **Why This Matters**\n",
    "- Wind speeds **above certain thresholds** may indicate more severe storms.\n",
    "- If most claims occur **within a specific wind speed range**, insurers can adjust their risk models accordingly.\n",
    "- Extremely high wind speeds may be **outliers**, requiring verification of the claim data.\n",
    "\n",
    "### **Insights to Look For**\n",
    "- What is the **most common wind speed** for claims?\n",
    "- Are there **very high wind speeds** that might suggest extreme weather events?\n",
    "- Do we see a **pattern that aligns with past storm events**?\n",
    "\n",
    "---\n",
    "\n",
    "## **Example 3: Distribution of Roof Ages in Claims**\n",
    "The age of a roof is a key factor in insurance claims, as older roofs are more susceptible to damage. A histogram of **roof ages** can provide valuable insights into risk assessment.\n",
    "\n",
    "### **Why This Matters**\n",
    "- **Older roofs** may have more claims, which affects **policy pricing**.\n",
    "- A **spike in claims for new roofs** could indicate **fraudulent activity**, such as homeowners filing claims shortly after installing a new roof.\n",
    "- Understanding **the relationship between roof age and claim frequency** helps insurers develop **better risk models**.\n",
    "\n",
    "### **Insights to Look For**\n",
    "- Are there **more claims for older roofs**, or is it spread evenly?\n",
    "- Are there **unusual patterns**, such as a large number of claims for very new roofs?\n",
    "- Does the **distribution match expectations** based on past data?\n",
    "\n",
    "---\n",
    "\n",
    "## **Example 4: Rainfall Levels in Claim Events**\n",
    "Examining the **distribution of rainfall levels** in claims can help insurers understand how precipitation contributes to property damage.\n",
    "\n",
    "### **Why This Matters**\n",
    "- Higher rainfall levels may correlate with **roof leaks, flooding, and structural damage**.\n",
    "- Identifying **rainfall thresholds** where claims increase can help **refine risk assessment models**.\n",
    "- If most claims occur **at moderate rainfall levels**, insurers can adjust policies to reflect true risk levels.\n",
    "\n",
    "### **Insights to Look For**\n",
    "- What **rainfall range** is most common in claims?\n",
    "- Are **high rainfall events** leading to significantly more claims?\n",
    "- Are there **unexpected patterns**, such as claims occurring even at low rainfall levels?\n",
    "\n",
    "---\n",
    "\n",
    "## **Example 5: Hail Diameter in Claims**\n",
    "Hail size is a critical factor in insurance claims, particularly for **roof and vehicle damage**. Understanding its distribution can help insurers assess **damage severity and claim validity**.\n",
    "\n",
    "### **Why This Matters**\n",
    "- **Larger hailstones** cause more damage, leading to higher payouts.\n",
    "- If many claims report **large hail sizes**, but meteorological records suggest otherwise, there may be **reporting inaccuracies**.\n",
    "- Understanding **typical hail diameters** helps insurers predict **future claim trends**.\n",
    "\n",
    "### **Insights to Look For**\n",
    "- Are **most claims** associated with **small, moderate, or large hail**?\n",
    "- Are there **unusually high hail diameter reports** that might require further verification?\n",
    "- Does the **distribution match historical weather data** for the region?\n",
    "\n",
    "---\n",
    "\n",
    "## **Conclusion**\n",
    "Histograms are an invaluable tool in **insurance analytics**. By using them to explore **claim amounts, weather conditions, and structural factors**, insurers can detect patterns, assess risks, and **identify anomalies** that could indicate fraud or data quality issues. \n",
    "\n",
    "When interpreting histograms, always look for **skewness, peaks, gaps, and outliers**, as these can provide deeper insights into the underlying data.\n"
   ]
  },
  {
   "cell_type": "markdown",
   "id": "cc7f8890",
   "metadata": {},
   "source": [
    "# **Examples of Histograms Using the Insurance Claims Dataset**\n",
    "\n",
    "Now that we understand what histograms are and why they are useful, let's explore some examples using the **insurance claims dataset (`df`)**. These examples highlight how histograms can help us **analyze distributions, detect anomalies, and gain business insights**.\n",
    "\n",
    "---\n",
    "\n",
    "## **Example 1: Distribution of Estimated Repair Costs**\n",
    "Understanding how **repair costs** are distributed can help insurance companies assess typical claim amounts, identify outliers, and detect potential fraud.\n",
    "\n",
    "### **Why This Matters**\n",
    "- A **normal distribution** of repair costs suggests a predictable range of claims.\n",
    "- **Skewed distributions** might indicate that some claims are significantly higher or lower than others.\n",
    "- If there are **multiple peaks**, it may suggest different categories of claims, such as minor vs. major damage.\n",
    "\n",
    "### **Insights to Look For**\n",
    "- Are repair costs **normally distributed**, or do we see skewness?\n",
    "- Are there **extremely high or low claims** that might need further investigation?\n",
    "- Do most claims fall within a **typical range**, or is there high variability?\n",
    "\n",
    "---\n",
    "\n",
    "## **Example 2: Distribution of Wind Speed in Insurance Claims**\n",
    "Wind speed is a critical factor in storm-related insurance claims. Examining its distribution can help analysts understand **how severe weather events impact claims**.\n",
    "\n",
    "### **Why This Matters**\n",
    "- Wind speeds **above certain thresholds** may indicate more severe storms.\n",
    "- If most claims occur **within a specific wind speed range**, insurers can adjust their risk models accordingly.\n",
    "- Extremely high wind speeds may be **outliers**, requiring verification of the claim data.\n",
    "\n",
    "### **Insights to Look For**\n",
    "- What is the **most common wind speed** for claims?\n",
    "- Are there **very high wind speeds** that might suggest extreme weather events?\n",
    "- Do we see a **pattern that aligns with past storm events**?\n",
    "\n",
    "---\n",
    "\n",
    "## **Example 3: Distribution of Roof Ages in Claims**\n",
    "The age of a roof is a key factor in insurance claims, as older roofs are more susceptible to damage. A histogram of **roof ages** can provide valuable insights into risk assessment.\n",
    "\n",
    "### **Why This Matters**\n",
    "- **Older roofs** may have more claims, which affects **policy pricing**.\n",
    "- A **spike in claims for new roofs** could indicate **fraudulent activity**, such as homeowners filing claims shortly after installing a new roof.\n",
    "- Understanding **the relationship between roof age and claim frequency** helps insurers develop **better risk models**.\n",
    "\n",
    "### **Insights to Look For**\n",
    "- Are there **more claims for older roofs**, or is it spread evenly?\n",
    "- Are there **unusual patterns**, such as a large number of claims for very new roofs?\n",
    "- Does the **distribution match expectations** based on past data?\n",
    "\n",
    "---\n",
    "\n",
    "## **Example 4: Rainfall Levels in Claim Events**\n",
    "Examining the **distribution of rainfall levels** in claims can help insurers understand how precipitation contributes to property damage.\n",
    "\n",
    "### **Why This Matters**\n",
    "- Higher rainfall levels may correlate with **roof leaks, flooding, and structural damage**.\n",
    "- Identifying **rainfall thresholds** where claims increase can help **refine risk assessment models**.\n",
    "- If most claims occur **at moderate rainfall levels**, insurers can adjust policies to reflect true risk levels.\n",
    "\n",
    "### **Insights to Look For**\n",
    "- What **rainfall range** is most common in claims?\n",
    "- Are **high rainfall events** leading to significantly more claims?\n",
    "- Are there **unexpected patterns**, such as claims occurring even at low rainfall levels?\n",
    "\n",
    "---\n",
    "\n",
    "## **Example 5: Hail Diameter in Claims**\n",
    "Hail size is a critical factor in insurance claims, particularly for **roof and vehicle damage**. Understanding its distribution can help insurers assess **damage severity and claim validity**.\n",
    "\n",
    "### **Why This Matters**\n",
    "- **Larger hailstones** cause more damage, leading to higher payouts.\n",
    "- If many claims report **large hail sizes**, but meteorological records suggest otherwise, there may be **reporting inaccuracies**.\n",
    "- Understanding **typical hail diameters** helps insurers predict **future claim trends**.\n",
    "\n",
    "### **Insights to Look For**\n",
    "- Are **most claims** associated with **small, moderate, or large hail**?\n",
    "- Are there **unusually high hail diameter reports** that might require further verification?\n",
    "- Does the **distribution match historical weather data** for the region?\n",
    "\n",
    "---\n",
    "\n",
    "## **Conclusion**\n",
    "Histograms are an invaluable tool in **insurance analytics**. By using them to explore **claim amounts, weather conditions, and structural factors**, insurers can detect patterns, assess risks, and **identify anomalies** that could indicate fraud or data quality issues. \n",
    "\n",
    "When interpreting histograms, always look for **skewness, peaks, gaps, and outliers**, as these can provide deeper insights into the underlying data.\n"
   ]
  },
  {
   "cell_type": "markdown",
   "id": "18afd4ea",
   "metadata": {},
   "source": [
    "# **Code Examples: Histograms for Insurance Claims Data**\n",
    "\n",
    "Now that we've discussed **why histograms are useful**, let's generate some using our dataset (`df`). These visualizations will help us **identify trends, detect anomalies, and gain insights into claim characteristics**.\n",
    "\n",
    "---\n",
    "\n",
    "### **Example 1: Distribution of Estimated Replacement Costs**\n",
    "\n",
    "**Purpose**: Understanding how **claim costs** are distributed using histograms and trend curves.\n",
    "\n",
    "**Histogram Purpose**: Shows how claim costs are distributed.\n",
    "\n",
    "**KDE (Kernel Density Estimate)** Line: Adds a smooth trend curve to highlight patterns."
   ]
  },
  {
   "cell_type": "code",
   "execution_count": null,
   "id": "fb5ba8ac",
   "metadata": {},
   "outputs": [],
   "source": [
    "import seaborn as sns\n",
    "import matplotlib.pyplot as plt\n",
    "\n",
    "plt.figure(figsize=(8,5))\n",
    "sns.histplot(df[df['Estimated cost to replace']>0]['Estimated cost to replace'], bins=20, kde=True, color='blue')\n",
    "plt.xlabel(\"Estimated Replacement Cost ($)\")\n",
    "plt.ylabel(\"Frequency\")\n",
    "plt.title(\"Distribution of Replacement Costs\")\n",
    "plt.show()"
   ]
  },
  {
   "cell_type": "markdown",
   "id": "8fbf2d10",
   "metadata": {},
   "source": [
    "**Key Insights:**\n",
    "- Look for skewness—is the distribution normally shaped, or do we see more high/low values?\n",
    "- Identify outliers—are there extremely high repair costs that could indicate fraudulent claims?\n",
    "- Understand variability—are most claims within a predictable range, or is there a wide spread?"
   ]
  },
  {
   "cell_type": "markdown",
   "id": "89a38446",
   "metadata": {},
   "source": [
    "### Example 2: Distribution of Wind Speed in Claims"
   ]
  },
  {
   "cell_type": "code",
   "execution_count": null,
   "id": "5e0e5650",
   "metadata": {},
   "outputs": [],
   "source": [
    "plt.figure(figsize=(8,5))\n",
    "sns.histplot(df['Wind Speed'], bins=15, kde=True, color='green')\n",
    "plt.xlabel(\"Wind Speed (mph)\")\n",
    "plt.ylabel(\"Number of Claims\")\n",
    "plt.title(\"Distribution of Wind Speeds in Insurance Claims\")\n",
    "plt.show()"
   ]
  },
  {
   "cell_type": "markdown",
   "id": "f33102c5",
   "metadata": {},
   "source": [
    "### Key Insights\n",
    "- Are most claims occurring at moderate wind speeds, or only at extreme levels?\n",
    "- Do we see a spike at a particular wind speed that may suggest a major storm event?\n",
    "- Are there any outlier wind speeds that may indicate data entry errors?"
   ]
  },
  {
   "cell_type": "markdown",
   "id": "56166635",
   "metadata": {},
   "source": [
    "### Example 3: Distribution of Roof Ages in Claims"
   ]
  },
  {
   "cell_type": "code",
   "execution_count": null,
   "id": "54e2f80b",
   "metadata": {},
   "outputs": [],
   "source": [
    "plt.figure(figsize=(8,5))\n",
    "sns.histplot(df['Age of roof'], bins=10, kde=True, color='orange')\n",
    "plt.xlabel(\"Roof Age (Years)\")\n",
    "plt.ylabel(\"Frequency\")\n",
    "plt.title(\"Distribution of Roof Age in Claims\")\n",
    "plt.show()"
   ]
  },
  {
   "cell_type": "markdown",
   "id": "b7341a23",
   "metadata": {},
   "source": [
    "#### Key Insights\n",
    "- Are older roofs more likely to have claims?\n",
    "- Are there unusual spikes, such as many claims from very new roofs, which could suggest fraudulent activity?\n",
    "- Does the distribution match expectations, or are claims evenly spread across different roof ages?"
   ]
  },
  {
   "cell_type": "markdown",
   "id": "e3458650",
   "metadata": {},
   "source": [
    "### Example 4: Rainfall Levels in Claim Events"
   ]
  },
  {
   "cell_type": "code",
   "execution_count": null,
   "id": "c84ce6dc",
   "metadata": {},
   "outputs": [],
   "source": [
    "plt.figure(figsize=(8,5))\n",
    "sns.histplot(df['Rainfall'], bins=12, kde=True, color='purple')\n",
    "plt.xlabel(\"Rainfall (inches)\")\n",
    "plt.ylabel(\"Claim Count\")\n",
    "plt.title(\"Distribution of Rainfall Levels in Claims\")\n",
    "plt.show()"
   ]
  },
  {
   "cell_type": "markdown",
   "id": "32cb0f44",
   "metadata": {},
   "source": [
    "#### Key Insights\n",
    "- Does higher rainfall correlate with more insurance claims?\n",
    "- Are there unexpected claims at low rainfall levels, possibly suggesting fraudulent or unnecessary claims?\n",
    "- Can we identify a threshold where rainfall starts to significantly impact claim frequency?"
   ]
  },
  {
   "cell_type": "markdown",
   "id": "fee84ae0",
   "metadata": {},
   "source": [
    "### Example 5: Hail Diameter in Claims"
   ]
  },
  {
   "cell_type": "code",
   "execution_count": null,
   "id": "747a9c8d",
   "metadata": {},
   "outputs": [],
   "source": [
    "plt.figure(figsize=(8,5))\n",
    "sns.histplot(df['Hail Diameter'], bins=8, kde=True, color='red')\n",
    "plt.xlabel(\"Hail Diameter (inches)\")\n",
    "plt.ylabel(\"Claim Frequency\")\n",
    "plt.title(\"Distribution of Hail Sizes in Claims\")\n",
    "plt.show()"
   ]
  },
  {
   "cell_type": "markdown",
   "id": "e98f94fc",
   "metadata": {},
   "source": [
    "#### Key Insights\n",
    "- Are larger hail sizes associated with more claims?\n",
    "- Are there many claims for extremely large hail that may not align with historical weather data?\n",
    "- Understanding hail size patterns can help insurers assess damage severity and pricing policies."
   ]
  },
  {
   "cell_type": "markdown",
   "id": "16ed87e7",
   "metadata": {},
   "source": [
    "## **Conclusion**\n",
    "These **histograms** provide a visual representation of how key insurance variables are distributed. By analyzing their shapes, peaks, and outliers, we can **detect patterns, assess risk, and identify data inconsistencies**.\n",
    "\n",
    "- Use **skewness** to determine whether claims are **normally distributed or biased**.\n",
    "- Watch for **outliers**, which could indicate **errors or fraudulent claims**.\n",
    "- Compare distributions to **real-world expectations** to improve **insurance decision-making**.\n",
    "\n",
    "By incorporating histograms into data analysis, insurance professionals can gain **actionable insights** into claim trends, helping them **refine policies, detect anomalies, and enhance risk assessments**.\n"
   ]
  }
 ],
 "metadata": {
  "kernelspec": {
   "display_name": "Python 3 (ipykernel)",
   "language": "python",
   "name": "python3"
  },
  "language_info": {
   "codemirror_mode": {
    "name": "ipython",
    "version": 3
   },
   "file_extension": ".py",
   "mimetype": "text/x-python",
   "name": "python",
   "nbconvert_exporter": "python",
   "pygments_lexer": "ipython3",
   "version": "3.9.7"
  }
 },
 "nbformat": 4,
 "nbformat_minor": 5
}
