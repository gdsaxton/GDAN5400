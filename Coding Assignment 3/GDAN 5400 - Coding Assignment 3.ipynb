{
 "cells": [
  {
   "cell_type": "markdown",
   "id": "e7f0d552",
   "metadata": {},
   "source": [
    "<p><a href=\"https://colab.research.google.com/github/gdsaxton/GDAN5400/blob/main/Coding%20Assignment%203/GDAN%205400%20-%20Coding%20Assignment%203.ipynb\"><img src=\"https://colab.research.google.com/assets/colab-badge.svg\" alt=\"Open In Colab\" /></a></p>"
   ]
  },
  {
   "cell_type": "markdown",
   "id": "583a2bd8",
   "metadata": {},
   "source": [
    "# Coding Assignment #3\n",
    "\n",
    "In this third assignment, you will continue working with the **roof insurance claim dataset** from Coding Assignments #1 and #2. This assignment will focus on **data visualization** and **univariate statistics** using PANDAS and Seaborn.\n",
    "\n",
    "In this assignment, you will:\n",
    "1. Generate and interpret summary statistics for key variables.\n",
    "2. Create and customize various plots, including histograms, bar charts, and count plots.\n",
    "3. Use boxplots to analyze distributions and identify potential outliers.\n",
    "4. Generate and interpret a pie chart for categorical data.\n",
    "6. Perform aggregation and grouping operations to visually summarize patterns in the dataset.\n",
    "\n",
    "These exercises will help strengthen your ability to explore, visualize, and analyze real-world accounting datasets."
   ]
  },
  {
   "cell_type": "markdown",
   "id": "ab50e915",
   "metadata": {},
   "source": [
    "## CASE INTRODUCTION\n",
    "\n",
    "Casey Lee, an insurance claims processor was reviewing claims received from a recent storm before finalizing authorization for roof replacements. She pulled up and reread the U.S. National Weather Service Announcement:\n",
    "\n",
    "&nbsp;&nbsp; TORNADO WARNING  \n",
    "&nbsp;&nbsp; NATIONAL WEATHER SERVICE CHICAGO/ROMEOVILLE   \n",
    "&nbsp;&nbsp;1215 AM CDT THU SEP 12 20XX  \n",
    "\n",
    "&nbsp;&nbsp;THE NATIONAL WEATHER SERVICE IN CHICAGO HAS ISSUED A   \n",
    "&nbsp;&nbsp;*TORNADO WARNING FOR...    \n",
    "&nbsp;&nbsp;CENTRAL DEKALB COUNTY IN NORTH CENTRAL ILLINOIS...    \n",
    "&nbsp;&nbsp;UNTIL 530 PM CDT.  \n",
    "\n",
    "&nbsp;&nbsp;*AT 1218 AM CDT, A SEVERE THUNDERSTORM CAPABLE OF PRODUCING A  \n",
    "&nbsp;&nbsp;TORNADO WAS LOCATED NEAR SYCAMORE,  \n",
    "&nbsp;&nbsp;OR NEAR SHABBONA, MOVING SOUTHWEST AT 2 MPH.  \n",
    "&nbsp;&nbsp;&nbsp;&nbsp;  HAZARD...TORNADO AND QUARTER-SIZED HAIL.  \n",
    "&nbsp;&nbsp;&nbsp;&nbsp;  SOURCE...RADAR INDICATED ROTATION.  \n",
    "&nbsp;&nbsp;&nbsp;&nbsp; IMPACT...FLYING DEBRIS WILL BE DANGEROUS TO THOSE CAUGHT WITHOUT SHELTER.   \n",
    " &nbsp;&nbsp;&nbsp;&nbsp;&nbsp;&nbsp;MOBILE HOMES WILL BE DAMAGED OR DESTROYED.  \n",
    "   &nbsp;&nbsp;&nbsp;&nbsp;&nbsp;&nbsp;&nbsp;&nbsp;   DAMAGE TO ROOFS, WINDOWS, AND VEHICLES WILL OCCUR. TREE DAMAGE IS LIKELY.  \n",
    "\n",
    "&nbsp;&nbsp;*THIS DANGEROUS STORM WILL BE NEAR...  \n",
    "&nbsp;&nbsp;SYCAMORE AROUND 1240 AM CDT.   \n",
    "&nbsp;&nbsp;DEKALB AROUND 600 AM CDT.  \n",
    "&nbsp;&nbsp;COURTLAND AROUND 1140 AM.     \n",
    "\n",
    "&nbsp;&nbsp;PRECAUTIONARY/PREPAREDNESS ACTIONS...   \n",
    "\n",
    "&nbsp;&nbsp;TAKE COVER NOW! MOVE TO A BASEMENT OR AN INTERIOR ROOM  \n",
    "&nbsp;&nbsp;ON THE LOWEST FLOOR OF A STURDY BUILDING.  \n",
    "&nbsp;&nbsp;AVOID WINDOWS. IF YOU ARE OUTDOORS, IN A MOBILE HOME, OR IN A VEHICLE,   \n",
    "&nbsp;&nbsp;MOVE TO THE CLOSEST SUBSTANTIAL SHELTER AND PROTECT YOURSELF FROM FLYING DEBRIS.    \n",
    "\n",
    "Indeed, it appeared to be a bad storm, which could substantiate the large number of claims that she received for new roofs from hail and wind damage. Yet, she felt that something could be off.\n",
    "\n",
    "While Casey could not process the data from multiple companies, she knew that the National Insurance Crime Bureau might be able to help by aggregating data from multiple insurance companies across the area hit by the storm and evaluating the data to look for anomalies. Casey's request landed on your desk. As a new fraud specialist, you have been hired to investigate claims following storm damage to hopefully reduce the payouts made to false claimants. You also knew you had to act fast. You began by pulling the claims data for roofs. You also received a database that showed the actual path of this storm. Your task is to sort through the claims to see if there were any unusual claim patterns from this recent weather event.\n",
    "\n",
    "---\n",
    "Case introduction and dataset comes from: Cheng, C., & Lee, C.-C. (2023). A Case Study Using Data Analytics to Detect Hail Damage Insurance Claim Fraud. *Journal of Forensic Accounting Research, 8,* 287–306."
   ]
  },
  {
   "cell_type": "markdown",
   "id": "d59bb820",
   "metadata": {},
   "source": [
    "# Load and Prepare the Dataset\n",
    "We will first get set up to run the assignment, using code from Coding Assignments #1 and #2"
   ]
  },
  {
   "cell_type": "code",
   "execution_count": null,
   "id": "728add63",
   "metadata": {},
   "outputs": [],
   "source": [
    "#http://pandas.pydata.org/pandas-docs/stable/options.html\n",
    "pd.set_option('display.max_columns', None)  #Set PANDAS to show all columns in DataFrame\n",
    "pd.set_option('max_colwidth', 500)"
   ]
  },
  {
   "cell_type": "markdown",
   "id": "cfc5bc0e",
   "metadata": {},
   "source": [
    "### Load the Dataset and show first two rows:\n",
    "  - Load the roof insurance claim dataset (provided in `.xlsx` format) into a Pandas DataFrame named `df`\n",
    "  - Show the first two rows\n",
    "  - *Note*: We will read in a version of the dataset where we have applied the data cleaning steps from coding assignments 1 and 2."
   ]
  },
  {
   "cell_type": "code",
   "execution_count": null,
   "id": "09c6d7f8",
   "metadata": {},
   "outputs": [],
   "source": [
    "import pandas as pd\n",
    "import requests\n",
    "\n",
    "# NOTE: replace `https://github.com/` with `https://raw.githubusercontent.com`\n",
    "# https://github.com/gdsaxton/GDAN5400/blob/main/Coding%20Assignment%201/final_insurance_fraud.xlsx\n",
    "url = 'https://raw.githubusercontent.com/gdsaxton/GDAN5400/main/Coding%20Assignment%203/final_insurance_fraud.xlsx'\n",
    "\n",
    "# Download the file\n",
    "response = requests.get(url)\n",
    "with open('final_insurance_fraud.xlsx', 'wb') as f:\n",
    "    f.write(response.content)\n",
    "\n",
    "# Load the Excel file\n",
    "df = pd.read_excel('final_insurance_fraud.xlsx', engine='openpyxl')\n",
    "\n",
    "print('# of rows:', len(df), '\\n')\n",
    "\n",
    "df[:2]"
   ]
  },
  {
   "cell_type": "markdown",
   "id": "ab3ed435",
   "metadata": {},
   "source": [
    "# **Instructions: Steps to Complete**"
   ]
  },
  {
   "cell_type": "markdown",
   "id": "2319f0e3",
   "metadata": {},
   "source": [
    "### Task 1:  Import Necessary Libraries\n",
    "- Import **Matplotlib** and **Seaborn** for visualization."
   ]
  },
  {
   "cell_type": "code",
   "execution_count": null,
   "id": "b1ea7869",
   "metadata": {},
   "outputs": [],
   "source": []
  },
  {
   "cell_type": "markdown",
   "id": "69ba4a90",
   "metadata": {},
   "source": [
    "### Task 2:  Calculate the Mean and Median Repair Cost\n",
    "- Compute and print the **mean** and **median** of `Estimated cost to repair`."
   ]
  },
  {
   "cell_type": "code",
   "execution_count": null,
   "id": "11b0f012",
   "metadata": {},
   "outputs": [],
   "source": []
  },
  {
   "cell_type": "markdown",
   "id": "09ea8bf6",
   "metadata": {},
   "source": [
    "### Task 3:  Find the Maximum and Minimum Wind Speeds\n",
    "- Identify the **highest** and **lowest** wind speeds recorded in the dataset."
   ]
  },
  {
   "cell_type": "code",
   "execution_count": null,
   "id": "84a57fae",
   "metadata": {},
   "outputs": [],
   "source": []
  },
  {
   "cell_type": "markdown",
   "id": "e41b9bfa",
   "metadata": {},
   "source": [
    "### Task 4:  Calculate the Standard Deviation of Rainfall\n",
    "- Compute the standard deviation of the `Rainfall` column."
   ]
  },
  {
   "cell_type": "code",
   "execution_count": null,
   "id": "56ca3872",
   "metadata": {},
   "outputs": [],
   "source": []
  },
  {
   "cell_type": "markdown",
   "id": "33e7b495",
   "metadata": {},
   "source": [
    "### Task 5: Create a Histogram of Estimated Repair Costs\n",
    "- Plot a histogram to visualize the distribution of `Estimated cost to repair`."
   ]
  },
  {
   "cell_type": "code",
   "execution_count": null,
   "id": "89589934",
   "metadata": {},
   "outputs": [],
   "source": []
  },
  {
   "cell_type": "markdown",
   "id": "52d6868d",
   "metadata": {},
   "source": [
    "### Task 6: Create a Boxplot for Wind Speed\n",
    "- Use a boxplot to check for outliers in `Wind Speed`."
   ]
  },
  {
   "cell_type": "code",
   "execution_count": null,
   "id": "a506f486",
   "metadata": {},
   "outputs": [],
   "source": []
  },
  {
   "cell_type": "markdown",
   "id": "f4f84158",
   "metadata": {},
   "source": [
    "### Task 7: Create a Bar Chart for Adjusters\n",
    "- Plot a bar chart showing the number of claims per adjuster."
   ]
  },
  {
   "cell_type": "code",
   "execution_count": null,
   "id": "5c76f73a",
   "metadata": {},
   "outputs": [],
   "source": []
  },
  {
   "cell_type": "markdown",
   "id": "f504fbad",
   "metadata": {},
   "source": [
    "### Task 8: Create a Count Plot of Adjusters\n",
    "- Use a `countplot` to show the number of claims handled by each adjuster."
   ]
  },
  {
   "cell_type": "code",
   "execution_count": null,
   "id": "f746ea1c",
   "metadata": {},
   "outputs": [],
   "source": []
  },
  {
   "cell_type": "markdown",
   "id": "bd72ea4d",
   "metadata": {},
   "source": [
    "### Task 9: Create a Pie Chart for a Nominal Variable\n",
    "- Choose any nominal/categorical column and visualize its distribution using a pie chart."
   ]
  },
  {
   "cell_type": "code",
   "execution_count": null,
   "id": "a7faf83c",
   "metadata": {},
   "outputs": [],
   "source": []
  },
  {
   "cell_type": "markdown",
   "id": "6ddd8ae0",
   "metadata": {},
   "source": [
    "### Task 10: Create a Bar Chart Showing Mean Repair Costs per Roofing Company\n",
    "- Create a bar chart showing the average `Estimated cost to repair` for each `Roofing Company`\n",
    "- Hint 1: You will have to do a `groupby()` command before plotting\n",
    "- Hint 2: Create a PANDAS `series` called `avg_repair_by_roofing_coy` via the `groupby()` command, then create the plot using the `avg_repair_by_roofing_coy` data."
   ]
  },
  {
   "cell_type": "code",
   "execution_count": null,
   "id": "a01f8690",
   "metadata": {},
   "outputs": [],
   "source": []
  },
  {
   "cell_type": "markdown",
   "id": "1e408920",
   "metadata": {},
   "source": [
    "---\n",
    "\n",
    "## **Deliverables**\n",
    "1. Submit the link to you Google Colab notebook in the assignment area in Canvas.\n",
    "2. Include comments in your code to explain each step."
   ]
  },
  {
   "cell_type": "markdown",
   "id": "2797871c",
   "metadata": {},
   "source": [
    "## Submission\n",
    "- Submit your completed Colab notebook with all code cells executed.\n",
    "- Ensure your notebook includes helpful explanations (as Markdown cells) for each step."
   ]
  }
 ],
 "metadata": {
  "kernelspec": {
   "display_name": "Python 3 (ipykernel)",
   "language": "python",
   "name": "python3"
  },
  "language_info": {
   "codemirror_mode": {
    "name": "ipython",
    "version": 3
   },
   "file_extension": ".py",
   "mimetype": "text/x-python",
   "name": "python",
   "nbconvert_exporter": "python",
   "pygments_lexer": "ipython3",
   "version": "3.9.7"
  }
 },
 "nbformat": 4,
 "nbformat_minor": 5
}
